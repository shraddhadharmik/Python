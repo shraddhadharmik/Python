{
 "cells": [
  {
   "cell_type": "markdown",
   "metadata": {},
   "source": [
    "# DP -  Lecture 4 - Data Transformation"
   ]
  },
  {
   "cell_type": "code",
   "execution_count": 1,
   "metadata": {},
   "outputs": [],
   "source": [
    "import pandas as pd\n",
    "import numpy as np"
   ]
  },
  {
   "cell_type": "markdown",
   "metadata": {},
   "source": [
    "## Handling duplicates"
   ]
  },
  {
   "cell_type": "code",
   "execution_count": 3,
   "metadata": {},
   "outputs": [
    {
     "data": {
      "text/html": [
       "<div>\n",
       "<style scoped>\n",
       "    .dataframe tbody tr th:only-of-type {\n",
       "        vertical-align: middle;\n",
       "    }\n",
       "\n",
       "    .dataframe tbody tr th {\n",
       "        vertical-align: top;\n",
       "    }\n",
       "\n",
       "    .dataframe thead th {\n",
       "        text-align: right;\n",
       "    }\n",
       "</style>\n",
       "<table border=\"1\" class=\"dataframe\">\n",
       "  <thead>\n",
       "    <tr style=\"text-align: right;\">\n",
       "      <th></th>\n",
       "      <th>a</th>\n",
       "      <th>b</th>\n",
       "    </tr>\n",
       "  </thead>\n",
       "  <tbody>\n",
       "    <tr>\n",
       "      <th>0</th>\n",
       "      <td>1</td>\n",
       "      <td>1</td>\n",
       "    </tr>\n",
       "    <tr>\n",
       "      <th>1</th>\n",
       "      <td>2</td>\n",
       "      <td>2</td>\n",
       "    </tr>\n",
       "    <tr>\n",
       "      <th>2</th>\n",
       "      <td>1</td>\n",
       "      <td>1</td>\n",
       "    </tr>\n",
       "    <tr>\n",
       "      <th>3</th>\n",
       "      <td>2</td>\n",
       "      <td>2</td>\n",
       "    </tr>\n",
       "  </tbody>\n",
       "</table>\n",
       "</div>"
      ],
      "text/plain": [
       "   a  b\n",
       "0  1  1\n",
       "1  2  2\n",
       "2  1  1\n",
       "3  2  2"
      ]
     },
     "execution_count": 3,
     "metadata": {},
     "output_type": "execute_result"
    }
   ],
   "source": [
    "df = pd.DataFrame({'a':[1,2,1,2], 'b' : [1,2,1,2]})\n",
    "df"
   ]
  },
  {
   "cell_type": "code",
   "execution_count": 5,
   "metadata": {},
   "outputs": [
    {
     "data": {
      "text/html": [
       "<div>\n",
       "<style scoped>\n",
       "    .dataframe tbody tr th:only-of-type {\n",
       "        vertical-align: middle;\n",
       "    }\n",
       "\n",
       "    .dataframe tbody tr th {\n",
       "        vertical-align: top;\n",
       "    }\n",
       "\n",
       "    .dataframe thead th {\n",
       "        text-align: right;\n",
       "    }\n",
       "</style>\n",
       "<table border=\"1\" class=\"dataframe\">\n",
       "  <thead>\n",
       "    <tr style=\"text-align: right;\">\n",
       "      <th></th>\n",
       "      <th>a</th>\n",
       "      <th>b</th>\n",
       "    </tr>\n",
       "  </thead>\n",
       "  <tbody>\n",
       "    <tr>\n",
       "      <th>0</th>\n",
       "      <td>1</td>\n",
       "      <td>1</td>\n",
       "    </tr>\n",
       "    <tr>\n",
       "      <th>1</th>\n",
       "      <td>2</td>\n",
       "      <td>2</td>\n",
       "    </tr>\n",
       "  </tbody>\n",
       "</table>\n",
       "</div>"
      ],
      "text/plain": [
       "   a  b\n",
       "0  1  1\n",
       "1  2  2"
      ]
     },
     "execution_count": 5,
     "metadata": {},
     "output_type": "execute_result"
    }
   ],
   "source": [
    "df[df.duplicated(keep='last') == True ]"
   ]
  },
  {
   "cell_type": "code",
   "execution_count": 6,
   "metadata": {},
   "outputs": [
    {
     "data": {
      "text/html": [
       "<div>\n",
       "<style scoped>\n",
       "    .dataframe tbody tr th:only-of-type {\n",
       "        vertical-align: middle;\n",
       "    }\n",
       "\n",
       "    .dataframe tbody tr th {\n",
       "        vertical-align: top;\n",
       "    }\n",
       "\n",
       "    .dataframe thead th {\n",
       "        text-align: right;\n",
       "    }\n",
       "</style>\n",
       "<table border=\"1\" class=\"dataframe\">\n",
       "  <thead>\n",
       "    <tr style=\"text-align: right;\">\n",
       "      <th></th>\n",
       "      <th>a</th>\n",
       "      <th>b</th>\n",
       "    </tr>\n",
       "  </thead>\n",
       "  <tbody>\n",
       "    <tr>\n",
       "      <th>2</th>\n",
       "      <td>1</td>\n",
       "      <td>1</td>\n",
       "    </tr>\n",
       "    <tr>\n",
       "      <th>3</th>\n",
       "      <td>2</td>\n",
       "      <td>2</td>\n",
       "    </tr>\n",
       "  </tbody>\n",
       "</table>\n",
       "</div>"
      ],
      "text/plain": [
       "   a  b\n",
       "2  1  1\n",
       "3  2  2"
      ]
     },
     "execution_count": 6,
     "metadata": {},
     "output_type": "execute_result"
    }
   ],
   "source": [
    "df.drop_duplicates(keep='last')"
   ]
  },
  {
   "cell_type": "markdown",
   "metadata": {},
   "source": [
    "## Normalization and Scaling"
   ]
  },
  {
   "cell_type": "code",
   "execution_count": 7,
   "metadata": {},
   "outputs": [
    {
     "name": "stdout",
     "output_type": "stream",
     "text": [
      "Collecting mlxtend\n",
      "  Downloading https://files.pythonhosted.org/packages/52/04/c362f34f666f0ddc7cf593805e64d64fa670ed96fd9302e68549dd48287d/mlxtend-0.17.0-py2.py3-none-any.whl (1.3MB)\n",
      "Installing collected packages: mlxtend\n",
      "Successfully installed mlxtend-0.17.0\n",
      "Note: you may need to restart the kernel to use updated packages.\n"
     ]
    }
   ],
   "source": [
    "pip install mlxtend --upgrade --no-deps"
   ]
  },
  {
   "cell_type": "code",
   "execution_count": 8,
   "metadata": {},
   "outputs": [],
   "source": [
    "from mlxtend.preprocessing import minmax_scaling\n",
    "import seaborn as sns\n",
    "import matplotlib.pyplot as plt\n",
    "\n",
    "np.random.seed(0)"
   ]
  },
  {
   "cell_type": "code",
   "execution_count": 9,
   "metadata": {},
   "outputs": [],
   "source": [
    "original_Data = np.random.exponential(size = 1000)"
   ]
  },
  {
   "cell_type": "code",
   "execution_count": 11,
   "metadata": {},
   "outputs": [
    {
     "data": {
      "text/plain": [
       "array([0.79587451, 1.25593076, 0.92322315, 0.78720115, 0.55104849,\n",
       "       1.03815929, 0.5755192 , 2.22352441, 3.31491218, 0.4836021 ])"
      ]
     },
     "execution_count": 11,
     "metadata": {},
     "output_type": "execute_result"
    }
   ],
   "source": [
    "original_Data[0:10]"
   ]
  },
  {
   "cell_type": "code",
   "execution_count": 13,
   "metadata": {},
   "outputs": [
    {
     "data": {
      "text/plain": [
       "array([[0.09290694],\n",
       "       [0.14664878],\n",
       "       [0.10778327],\n",
       "       [0.09189375],\n",
       "       [0.06430738],\n",
       "       [0.12120963],\n",
       "       [0.06716595],\n",
       "       [0.25967902],\n",
       "       [0.38717038],\n",
       "       [0.05642858]])"
      ]
     },
     "execution_count": 13,
     "metadata": {},
     "output_type": "execute_result"
    }
   ],
   "source": [
    "scaled_data = minmax_scaling(original_Data, columns=[0])\n",
    "scaled_data[0:10]"
   ]
  },
  {
   "cell_type": "code",
   "execution_count": 30,
   "metadata": {},
   "outputs": [
    {
     "data": {
      "text/plain": [
       "Text(0.5, 1.0, 'Scaled Data')"
      ]
     },
     "execution_count": 30,
     "metadata": {},
     "output_type": "execute_result"
    },
    {
     "data": {
      "image/png": "[encoded data removed]",
      "text/plain": [
       "<Figure size 432x288 with 2 Axes>"
      ]
     },
     "metadata": {
      "needs_background": "light"
     },
     "output_type": "display_data"
    }
   ],
   "source": [
    "#plot together to compare\n",
    "\n",
    "fig, ax = plt.subplots(1,2)\n",
    "sns.distplot(original_Data, ax=ax[0])\n",
    "ax[0].set_title(\"Original Data\")\n",
    "sns.distplot(scaled_data, ax = ax[1])\n",
    "ax[1].set_title(\"Scaled Data\")"
   ]
  },
  {
   "cell_type": "code",
   "execution_count": 19,
   "metadata": {},
   "outputs": [
    {
     "data": {
      "text/plain": [
       "(array([-0.22212062,  0.23427768, -0.07911706, -0.23247555, -0.55495228,\n",
       "         0.03761946, -0.5171396 ,  0.88159381,  1.39032005, -0.66621063,\n",
       "         0.47583326, -0.27457467, -0.17137354,  1.07417631, -1.93388177,\n",
       "        -1.81769862, -2.52061525,  0.62361343,  0.43027336,  0.77833579,\n",
       "         1.59225785,  0.50144209, -0.45295886,  0.43813594, -1.62973742,\n",
       "         0.02125996, -1.5015741 ,  1.21197552, -0.29312863, -0.57953899,\n",
       "        -1.02646264,  0.41736265, -0.46721082, -0.17034415, -2.5492186 ,\n",
       "        -0.03919746, -0.05410238, -0.04108732,  1.20458443,  0.13777305,\n",
       "        -0.73433115, -0.51864059,  0.18300978, -2.02289683,  0.0954058 ,\n",
       "         0.10624095, -1.21800708, -1.57328948, -0.8648075 , -0.7222475 ,\n",
       "        -0.16568278, -0.51439891,  1.79968877, -1.72276069, -1.22371274,\n",
       "        -1.41860857,  0.0574782 , -1.06435804, -0.44006517, -1.09483097,\n",
       "        -1.42907198, -1.67384935,  0.06638293, -1.52670478, -1.27123962,\n",
       "        -0.70790097,  0.57974359, -1.7530945 ,  0.64428958, -1.75937741,\n",
       "         1.55726915, -0.43382801,  1.5619991 , -0.07354566,  0.30668017,\n",
       "        -2.23626626, -0.96681565, -1.61930642, -0.92446676, -1.62726728,\n",
       "        -0.85703509, -0.58063326, -1.98937429,  0.16815903, -0.17518778,\n",
       "        -1.02369165, -0.28944266, -1.77305189, -0.15046489,  1.09872657,\n",
       "        -0.85525706,  0.09720464, -1.55860794,  0.23764167, -0.94573454,\n",
       "        -1.32509278, -0.12243342, -2.52277979,  0.60954627, -3.00240802,\n",
       "         0.12644203, -1.00842651,  0.2942494 ,  1.37421293, -1.07988283,\n",
       "        -0.14990642, -0.10772644, -0.16024598, -1.17081106,  1.28109957,\n",
       "        -0.49142646,  0.67798749,  0.18835202, -0.92039863,  0.55339152,\n",
       "        -0.62967295,  0.8294419 , -0.13634609,  0.83244504,  0.1683297 ,\n",
       "         0.26422555, -0.34723147,  1.31222982,  0.03239702, -0.55440648,\n",
       "        -0.06940085, -2.54098197, -0.90747456,  0.0770408 , -0.94360288,\n",
       "        -0.0381736 , -0.54103568, -1.54011844, -0.91775118, -0.16629599,\n",
       "        -0.11083887, -0.15475816,  0.05773356,  0.05470471, -0.53384234,\n",
       "         0.90602264, -0.71122258, -0.52179689,  0.88235226,  0.52614431,\n",
       "         0.20114748, -1.73379547,  1.03543145,  0.23147882,  2.4310004 ,\n",
       "        -1.4726969 ,  0.76992286, -1.41335349, -0.04478799, -1.59994362,\n",
       "         0.68447871,  0.53013847, -0.16858121, -0.60010507, -1.94854527,\n",
       "         0.18242537, -0.47419701,  0.25466041,  0.76221168,  1.54286274,\n",
       "         0.7167146 , -2.72147873, -0.73297665,  0.27847379, -1.37357362,\n",
       "        -0.29526628, -2.0762965 , -1.2578674 , -2.55476401,  0.48258207,\n",
       "        -1.1677336 , -0.77545286,  1.09056576,  0.20267812, -2.3308432 ,\n",
       "        -1.40364304, -0.02883133, -0.14706839, -1.11767587,  1.13282504,\n",
       "        -0.04907537, -0.25683548, -0.11340087,  0.27887077, -0.87545166,\n",
       "        -0.62490586, -1.22004592, -1.31281758,  1.20958562,  0.30756066,\n",
       "        -0.37594609, -1.15506421, -1.06073729, -2.04235861, -0.52571686,\n",
       "        -0.87590854,  0.17929448, -0.68225864, -1.33992827, -2.44003743,\n",
       "        -1.96388368,  0.13089728, -0.47378376, -0.25434369,  0.90667071,\n",
       "         1.85844093, -1.19359532,  0.08511815, -1.03056915, -2.51225168,\n",
       "         0.36625978, -0.85086765, -0.66614769, -0.11763756,  0.61758486,\n",
       "        -0.00852321,  0.79023469, -0.99683736,  0.49758093, -1.31508645,\n",
       "         1.28148707,  0.15389701, -1.19876519,  1.23419857,  0.28108799,\n",
       "        -1.06214683, -1.2069756 , -0.3027355 , -2.42374406, -1.22906478,\n",
       "        -0.55214383, -0.6924063 , -0.44736197, -0.98353202, -0.12171214,\n",
       "         0.75114839, -1.63379774, -0.30489976, -1.55723721,  0.23921777,\n",
       "        -0.63091365, -0.1783061 , -1.32472921, -1.49442077, -0.38230486,\n",
       "        -0.74557984,  1.17868297,  0.38844591,  0.33572333,  0.94418728,\n",
       "        -1.84302758, -0.2132149 , -0.12784425,  1.37150638, -0.93704741,\n",
       "        -1.10736637, -1.73338602, -2.60025319,  1.1003039 ,  0.10421898,\n",
       "         0.45358313, -0.97027906, -0.1227065 , -1.9909826 , -0.38873687,\n",
       "         1.57371859,  0.80790156, -0.79661298,  1.36760004, -1.13965206,\n",
       "         1.2507554 ,  1.18595992,  0.50159521, -0.00454417,  0.79769698,\n",
       "        -0.93429024,  0.6882933 , -0.0385475 , -2.67886558, -0.7699473 ,\n",
       "        -1.47882602,  1.64996745, -0.40798298, -0.3576178 ,  0.02003444,\n",
       "        -0.70830212, -1.53303448,  0.58391484, -1.29803348, -0.32086838,\n",
       "        -1.16630369, -1.74846719,  0.74393155,  1.50507412,  1.35984034,\n",
       "         0.95980386,  0.41675211, -0.81147663, -1.85929129, -0.59994548,\n",
       "        -1.13774895, -1.55511297, -2.08492546,  0.26524521, -2.72995913,\n",
       "         0.40543955, -1.48445505, -1.87054547, -1.80121163,  0.11019727,\n",
       "        -1.09156615, -0.56345273, -0.19956444,  0.73687017,  0.26959826,\n",
       "        -1.00737413, -1.56020834, -2.06660441, -0.90740042, -1.03458891,\n",
       "        -0.46723697,  0.14191986,  0.17722527, -0.96452972, -0.67611347,\n",
       "        -1.33350783,  0.46502467, -2.05304423,  0.18117997,  0.43205482,\n",
       "         0.42779913, -1.04362257, -0.69341921, -0.11954512, -0.99919254,\n",
       "        -0.70183611, -1.26938299, -0.45729723, -2.17451217,  0.50366065,\n",
       "        -1.88916859, -0.30106438, -0.89124412, -0.1462354 ,  1.34535964,\n",
       "         0.03673055, -2.28369374, -0.53659913, -0.32430093, -0.25540138,\n",
       "         0.1365601 , -0.98363779, -1.57362808, -0.64034185,  1.31533023,\n",
       "        -1.30900703,  0.94562904, -0.23531303, -0.46517333,  0.83390267,\n",
       "        -0.46064474,  0.26097101, -0.62267303,  0.94595922,  0.16114618,\n",
       "         0.18876525, -0.82766865,  0.36119223,  0.01072548, -1.11019839,\n",
       "        -1.42204411,  0.49185235,  1.34264672, -0.46188893, -0.11054236,\n",
       "         0.72481283, -0.4643382 ,  1.27321043, -0.15098226,  0.57890663,\n",
       "         0.97264175,  0.55966061, -1.4270751 , -0.00874946, -0.62431383,\n",
       "        -2.00146083, -0.55392355, -1.04610621,  0.68868053, -2.31078536,\n",
       "         1.34078437, -0.74628578, -0.74241515, -2.60255925, -1.31673297,\n",
       "        -0.616478  ,  1.09869426, -1.737541  ,  1.21710597,  0.77599255,\n",
       "        -0.47253597, -0.8307249 , -1.13592866, -0.04773394, -2.31388974,\n",
       "        -2.61935198, -0.54096227, -1.95725068, -1.0689622 , -1.17784746,\n",
       "        -1.06469986, -1.56238431, -2.71213151, -1.64508405, -0.03692066,\n",
       "         1.52410891,  1.85863679, -0.59494977, -1.41131079,  0.01809313,\n",
       "        -0.37635215,  1.82952919, -1.97976861,  0.44715367, -0.94893768,\n",
       "        -1.10530362,  0.08352133, -1.08915747,  0.09287119, -0.30508571,\n",
       "        -0.55376894, -0.2066357 , -0.95322843,  0.20897754, -0.57900443,\n",
       "        -0.73134267,  0.60847118,  1.07008427, -2.15952489, -1.13634655,\n",
       "        -0.76619247,  0.55763275,  1.72692636,  1.45287949,  0.95091441,\n",
       "        -0.92316055,  1.91693136, -1.07759196, -1.69976228,  1.26500989,\n",
       "        -1.13351884,  0.16041151, -2.03942607,  0.28064449,  0.83237295,\n",
       "        -1.00045302, -0.67857005, -0.69204815,  0.33611165, -1.11797743,\n",
       "        -1.37261778, -0.48560435, -0.8984874 ,  0.64917735, -1.11820799,\n",
       "        -0.34442011,  1.1953643 ,  0.00510577,  0.76621509,  1.17698515,\n",
       "         0.34228158,  0.18862924,  1.44041609,  2.02177742, -0.4788124 ,\n",
       "        -1.93517511, -0.93500461, -1.45919524, -0.57180061, -1.56119237,\n",
       "        -0.07549349, -0.66799311,  0.90001504,  1.4383296 , -0.22720224,\n",
       "        -0.99265401, -0.10722454,  0.90713807, -0.60134607, -0.21351593,\n",
       "        -1.00302305, -0.46910194, -0.61522039, -1.08105096, -0.33524596,\n",
       "        -0.88024929, -0.6956296 , -0.28490737,  0.34175056, -0.81039931,\n",
       "         1.06486829,  0.74448055, -2.1316055 , -1.06316394, -0.49408896,\n",
       "        -1.70731116, -0.76631905,  0.3092379 ,  0.13407225, -0.02638402,\n",
       "         0.22055265, -1.23880802, -0.78617772,  0.12200014,  0.82062541,\n",
       "        -0.2356499 , -0.96716049, -2.35358526,  0.21999038, -2.85096532,\n",
       "        -0.69664067, -0.27025094,  1.05182767, -1.801928  , -0.60352882,\n",
       "        -2.44621289, -0.78349355, -0.02679839, -0.97887008, -1.22040117,\n",
       "        -1.64387083, -0.14730247,  0.17620165,  0.10994269,  1.24682279,\n",
       "        -3.14394377,  0.04119669, -0.0854554 , -0.11651404,  1.38051058,\n",
       "        -2.59029578,  0.17969508,  0.55295986, -0.32485365, -0.80903996,\n",
       "         0.4728167 , -1.75221069, -0.50513114, -0.29812177,  0.17242238,\n",
       "        -1.79278727, -1.15381828, -0.59151617, -0.02392401,  0.85767601,\n",
       "        -0.03598806, -1.55019913,  1.62660569,  0.78631716, -0.34354571,\n",
       "         1.0533218 , -0.24170021,  1.05940712,  0.61318915,  1.4443569 ,\n",
       "         1.03728464, -2.27510607, -1.36020094, -0.65023669,  1.27561851,\n",
       "        -0.91229289, -1.42236194,  0.85446691, -0.49339245,  0.96718364,\n",
       "        -1.42342162,  0.07966354, -0.5099108 , -1.89262507,  0.17963947,\n",
       "        -1.08454569, -2.23117742, -2.02535958, -2.01547514,  0.9663828 ,\n",
       "         0.30858242,  0.91393588,  0.11169852, -0.27445618, -0.89855571,\n",
       "         2.29281198, -0.72661625, -0.42850841, -0.68086375,  1.60783568,\n",
       "        -1.36068183, -0.82686715,  0.13360268, -1.99727095, -0.06710671,\n",
       "        -0.4099048 , -0.9629864 , -1.11584314, -0.31245149, -0.71017793,\n",
       "        -0.4662214 , -0.79862794,  1.47234768, -1.55031007, -1.75495251,\n",
       "        -0.78120026, -0.11042862,  0.0742729 , -0.62758498,  2.53812381,\n",
       "        -0.75636802,  0.25272539,  0.01487488,  0.55069921,  1.5536359 ,\n",
       "         0.87167323,  0.38599308,  0.18479282, -0.80448907, -1.48096855,\n",
       "        -2.00211472, -1.10361629, -0.53150189, -0.29273901,  0.41359854,\n",
       "         1.33834511, -1.63495668, -1.69332764, -0.11397354,  0.32557996,\n",
       "         0.68505754,  1.14444494,  1.6818069 , -0.62051901, -0.67496155,\n",
       "        -1.48038883,  0.14661967,  0.06757998,  0.7433747 , -1.75211672,\n",
       "        -0.35659931, -0.13685261, -1.10481995, -1.38477328,  0.73271709,\n",
       "        -2.03783067, -0.42858306, -1.64314693, -0.46477897,  1.61549861,\n",
       "        -0.55481176,  0.7222837 , -1.63498366, -1.00433783, -0.60946707,\n",
       "        -0.62049003,  0.10833247, -0.77730921,  0.23007959,  0.01925421,\n",
       "        -0.62229609, -0.53291558, -0.04756449, -1.94164442,  0.58498926,\n",
       "         0.05834195,  0.26749004, -0.25343851, -1.6732665 , -0.60603241,\n",
       "        -0.60509901, -0.84776385, -2.35771862,  0.30053208, -1.67723286,\n",
       "        -0.06962879,  0.19919547,  0.00725272,  1.34239972, -1.71523129,\n",
       "         0.76567456, -2.36888879, -0.25872046, -0.60822069, -0.28697851,\n",
       "        -0.71826563, -1.2951456 , -2.54240803, -0.30286958,  0.66339686,\n",
       "        -0.69511513, -1.17160725, -1.86333084, -1.83002733, -1.17698272,\n",
       "        -1.7350963 , -1.02485345, -1.97282594, -1.97729176,  0.71870354,\n",
       "        -1.41500575, -0.19345973,  0.41481495, -0.46651675, -1.45452303,\n",
       "        -1.25942844, -0.5295971 , -0.2763145 , -0.76350678,  0.44129769,\n",
       "         0.34308476,  1.08478529, -2.37242588,  0.90159145, -0.64064009,\n",
       "         0.81658618,  0.16332136,  1.77225981,  0.3691292 , -0.71985655,\n",
       "        -0.34792103, -0.68611506, -0.71880431, -1.03865004, -0.36137256,\n",
       "         0.13754518, -0.98446779, -0.28646255, -1.63462859, -1.4251447 ,\n",
       "        -2.15108887,  1.47545951, -3.05480695, -1.34419498, -0.05203051,\n",
       "        -1.85739537,  0.83321221,  0.24740772,  1.42149811, -0.33057979,\n",
       "        -0.91112371, -0.22031003,  1.10909631, -0.29599096, -1.01766778,\n",
       "         0.81204691, -0.69880251, -3.29196309, -1.08355897, -0.85627506,\n",
       "         0.72929196, -0.46091433, -0.49825601, -0.80269856,  0.82742834,\n",
       "         1.21487237,  1.91237266, -0.68511809,  1.4186477 ,  0.47636074,\n",
       "         0.12044035, -1.0932217 , -1.19522952, -1.39771225,  1.05591071,\n",
       "        -0.93095838, -0.47539927, -0.36669183,  0.43032242,  0.66923045,\n",
       "        -1.52233673, -0.54610394,  0.66370821,  0.56883348, -1.7205377 ,\n",
       "        -1.44075184, -0.89932338, -1.90098576, -0.55220503, -1.68975152,\n",
       "        -0.17091612, -1.08745092, -0.09602432, -1.63383178,  1.54837538,\n",
       "         1.12116684, -0.64279453, -1.10265   , -1.07423785, -0.39465719,\n",
       "        -2.22672211,  0.02066993, -0.59701892, -0.68323527,  0.53743517,\n",
       "         0.21617469,  1.29568036, -0.75624234,  0.91121449,  0.40344599,\n",
       "        -0.74034123, -0.02832623, -0.94839222,  0.79820945, -1.66218897,\n",
       "        -1.21027112, -1.32574263, -0.6115876 ,  0.32506863, -0.27980732,\n",
       "        -0.38331085, -3.46128734, -0.55019322, -1.9943529 , -1.22608237,\n",
       "         1.11999852, -1.19917338,  0.72742182,  0.51449695, -1.42827863,\n",
       "        -0.07122567, -1.64409992,  0.27213632,  0.01454635,  0.54667401,\n",
       "        -0.40529072,  1.00750266, -2.12492311, -0.9347061 ,  0.23387369,\n",
       "        -0.57009621, -1.36793051, -1.6921219 ,  0.56628904, -0.42187269,\n",
       "         0.83505822,  0.28845906, -0.59309942, -0.69427707, -0.30948573,\n",
       "         0.86802561,  0.30060643, -2.97663907,  0.17300155,  1.03558432,\n",
       "         0.22033942, -1.35078575, -0.39432692, -1.51626352, -0.73580876,\n",
       "         1.15382464,  1.05940226, -0.96671961, -0.79226689, -0.08593461,\n",
       "         1.38518091, -1.4804234 , -1.05206566,  0.79435714, -0.37215404,\n",
       "         0.91866501, -1.31556778, -0.26463962, -0.83201895, -0.86141426,\n",
       "        -0.49209451, -0.52934442, -0.74056587,  1.00814155,  0.28377579,\n",
       "         0.27110985, -0.94412375, -0.14579425,  0.43365752,  0.48908879,\n",
       "        -0.77785936,  0.40638924,  0.29638131, -1.51048142,  0.76028964,\n",
       "        -0.50705706, -0.38666314, -0.48808283, -0.17189842, -0.02966611,\n",
       "        -0.35553568,  0.76400242, -0.01190495, -0.61601137, -0.57397616,\n",
       "         0.54271697, -0.76714805, -1.2139589 , -2.03029914,  0.80569003,\n",
       "         1.0296831 , -1.61971877, -0.80752861, -1.35766438, -1.64279026,\n",
       "         0.92345911, -2.05277828,  1.62488899, -1.75716417,  0.74947407,\n",
       "        -0.17543975, -0.71020675, -0.78428304,  0.36304482, -0.86741525,\n",
       "         0.06912261, -0.30503944, -0.39049067,  0.93036732, -0.20674844,\n",
       "         0.60167721,  0.26518274, -2.24384278,  0.41368516, -1.19369462,\n",
       "         0.9410855 , -2.19311234, -0.81169411, -1.73681744, -0.41536998,\n",
       "         0.57615429, -0.91804841, -1.46576997, -0.82005281,  0.5536898 ,\n",
       "        -1.51593268, -1.15525281, -1.95104447,  0.20645409, -0.63321376,\n",
       "        -0.87883981,  0.24445563, -0.80306812,  0.27178459,  0.5584798 ,\n",
       "        -1.19075365,  1.51779433, -1.41395168, -0.94118281, -1.33913132,\n",
       "        -0.77500192, -0.40349589, -0.29226606,  0.70752352,  0.86995236,\n",
       "        -1.18173494, -0.02500694, -1.66746228, -0.45966618, -0.84386552,\n",
       "        -0.86154151, -0.39680277,  0.27798192, -1.94842122,  0.82033706,\n",
       "         0.29309213, -1.35291364,  1.16903513, -0.33406994,  2.81575001,\n",
       "        -1.26857654, -0.25874325, -0.94306223, -0.8994013 , -0.11032619,\n",
       "         1.04935589,  0.52285133,  0.26029408, -0.19480199,  1.05300898,\n",
       "        -0.37091314,  0.7956135 ,  0.62886433, -1.20501409,  0.40753712,\n",
       "        -2.70827199, -0.84236913, -1.1473042 , -0.33261735,  0.29930732,\n",
       "        -1.74951178, -0.31137261,  1.16341933, -1.15061855,  0.12453524]),)"
      ]
     },
     "execution_count": 19,
     "metadata": {},
     "output_type": "execute_result"
    }
   ],
   "source": [
    "#normallize the exponential data\n",
    "\n",
    "from scipy import stats\n",
    "normalized_data = stats.boxcox(original_Data)\n",
    "normalized_data[0:1]\n"
   ]
  },
  {
   "cell_type": "code",
   "execution_count": 23,
   "metadata": {},
   "outputs": [
    {
     "data": {
      "text/plain": [
       "Text(0.5, 1.0, 'Normalized Data')"
      ]
     },
     "execution_count": 23,
     "metadata": {},
     "output_type": "execute_result"
    },
    {
     "data": {
      "image/png": "[encoded data removed]",
      "text/plain": [
       "<Figure size 432x288 with 2 Axes>"
      ]
     },
     "metadata": {
      "needs_background": "light"
     },
     "output_type": "display_data"
    }
   ],
   "source": [
    "#plot together to compare\n",
    "\n",
    "fig, ax = plt.subplots(1,2)\n",
    "sns.distplot(original_Data, ax=ax[0])\n",
    "ax[0].set_title(\"Original Data\")\n",
    "sns.distplot(normalized_data[0], ax = ax[1])\n",
    "ax[1].set_title(\"Normalized Data\")"
   ]
  },
  {
   "cell_type": "code",
   "execution_count": null,
   "metadata": {},
   "outputs": [],
   "source": []
  },
  {
   "cell_type": "code",
   "execution_count": 24,
   "metadata": {},
   "outputs": [],
   "source": [
    "import datetime"
   ]
  },
  {
   "cell_type": "code",
   "execution_count": 26,
   "metadata": {},
   "outputs": [
    {
     "data": {
      "text/html": [
       "<div>\n",
       "<style scoped>\n",
       "    .dataframe tbody tr th:only-of-type {\n",
       "        vertical-align: middle;\n",
       "    }\n",
       "\n",
       "    .dataframe tbody tr th {\n",
       "        vertical-align: top;\n",
       "    }\n",
       "\n",
       "    .dataframe thead th {\n",
       "        text-align: right;\n",
       "    }\n",
       "</style>\n",
       "<table border=\"1\" class=\"dataframe\">\n",
       "  <thead>\n",
       "    <tr style=\"text-align: right;\">\n",
       "      <th></th>\n",
       "      <th>id</th>\n",
       "      <th>date</th>\n",
       "      <th>time</th>\n",
       "      <th>continent_code</th>\n",
       "      <th>country_name</th>\n",
       "      <th>country_code</th>\n",
       "      <th>state/province</th>\n",
       "      <th>population</th>\n",
       "      <th>city/town</th>\n",
       "      <th>distance</th>\n",
       "      <th>...</th>\n",
       "      <th>geolocation</th>\n",
       "      <th>hazard_type</th>\n",
       "      <th>landslide_type</th>\n",
       "      <th>landslide_size</th>\n",
       "      <th>trigger</th>\n",
       "      <th>storm_name</th>\n",
       "      <th>injuries</th>\n",
       "      <th>fatalities</th>\n",
       "      <th>source_name</th>\n",
       "      <th>source_link</th>\n",
       "    </tr>\n",
       "  </thead>\n",
       "  <tbody>\n",
       "    <tr>\n",
       "      <th>0</th>\n",
       "      <td>34</td>\n",
       "      <td>3/2/07</td>\n",
       "      <td>Night</td>\n",
       "      <td>NaN</td>\n",
       "      <td>United States</td>\n",
       "      <td>US</td>\n",
       "      <td>Virginia</td>\n",
       "      <td>16000</td>\n",
       "      <td>Cherry Hill</td>\n",
       "      <td>3.40765</td>\n",
       "      <td>...</td>\n",
       "      <td>(38.600900000000003, -77.268199999999993)</td>\n",
       "      <td>Landslide</td>\n",
       "      <td>Landslide</td>\n",
       "      <td>Small</td>\n",
       "      <td>Rain</td>\n",
       "      <td>NaN</td>\n",
       "      <td>NaN</td>\n",
       "      <td>NaN</td>\n",
       "      <td>NBC 4 news</td>\n",
       "      <td>http://www.nbc4.com/news/11186871/detail.html</td>\n",
       "    </tr>\n",
       "    <tr>\n",
       "      <th>1</th>\n",
       "      <td>42</td>\n",
       "      <td>3/22/07</td>\n",
       "      <td>NaN</td>\n",
       "      <td>NaN</td>\n",
       "      <td>United States</td>\n",
       "      <td>US</td>\n",
       "      <td>Ohio</td>\n",
       "      <td>17288</td>\n",
       "      <td>New Philadelphia</td>\n",
       "      <td>3.33522</td>\n",
       "      <td>...</td>\n",
       "      <td>(40.517499999999998, -81.430499999999995)</td>\n",
       "      <td>Landslide</td>\n",
       "      <td>Landslide</td>\n",
       "      <td>Small</td>\n",
       "      <td>Rain</td>\n",
       "      <td>NaN</td>\n",
       "      <td>NaN</td>\n",
       "      <td>NaN</td>\n",
       "      <td>Canton Rep.com</td>\n",
       "      <td>http://www.cantonrep.com/index.php?ID=345054&amp;C...</td>\n",
       "    </tr>\n",
       "    <tr>\n",
       "      <th>2</th>\n",
       "      <td>56</td>\n",
       "      <td>4/6/07</td>\n",
       "      <td>NaN</td>\n",
       "      <td>NaN</td>\n",
       "      <td>United States</td>\n",
       "      <td>US</td>\n",
       "      <td>Pennsylvania</td>\n",
       "      <td>15930</td>\n",
       "      <td>Wilkinsburg</td>\n",
       "      <td>2.91977</td>\n",
       "      <td>...</td>\n",
       "      <td>(40.4377, -79.915999999999997)</td>\n",
       "      <td>Landslide</td>\n",
       "      <td>Landslide</td>\n",
       "      <td>Small</td>\n",
       "      <td>Rain</td>\n",
       "      <td>NaN</td>\n",
       "      <td>NaN</td>\n",
       "      <td>NaN</td>\n",
       "      <td>The Pittsburgh Channel.com</td>\n",
       "      <td>https://web.archive.org/web/20080423132842/htt...</td>\n",
       "    </tr>\n",
       "    <tr>\n",
       "      <th>3</th>\n",
       "      <td>59</td>\n",
       "      <td>4/14/07</td>\n",
       "      <td>NaN</td>\n",
       "      <td>NaN</td>\n",
       "      <td>Canada</td>\n",
       "      <td>CA</td>\n",
       "      <td>Quebec</td>\n",
       "      <td>42786</td>\n",
       "      <td>Châteauguay</td>\n",
       "      <td>2.98682</td>\n",
       "      <td>...</td>\n",
       "      <td>(45.322600000000001, -73.777100000000004)</td>\n",
       "      <td>Landslide</td>\n",
       "      <td>Riverbank collapse</td>\n",
       "      <td>Small</td>\n",
       "      <td>Rain</td>\n",
       "      <td>NaN</td>\n",
       "      <td>NaN</td>\n",
       "      <td>NaN</td>\n",
       "      <td>Le Soleil</td>\n",
       "      <td>http://www.hebdos.net/lsc/edition162007/articl...</td>\n",
       "    </tr>\n",
       "    <tr>\n",
       "      <th>4</th>\n",
       "      <td>61</td>\n",
       "      <td>4/15/07</td>\n",
       "      <td>NaN</td>\n",
       "      <td>NaN</td>\n",
       "      <td>United States</td>\n",
       "      <td>US</td>\n",
       "      <td>Kentucky</td>\n",
       "      <td>6903</td>\n",
       "      <td>Pikeville</td>\n",
       "      <td>5.66542</td>\n",
       "      <td>...</td>\n",
       "      <td>(37.432499999999997, -82.493099999999998)</td>\n",
       "      <td>Landslide</td>\n",
       "      <td>Landslide</td>\n",
       "      <td>Small</td>\n",
       "      <td>Downpour</td>\n",
       "      <td>NaN</td>\n",
       "      <td>NaN</td>\n",
       "      <td>0.0</td>\n",
       "      <td>Matthew Crawford (KGS)</td>\n",
       "      <td>NaN</td>\n",
       "    </tr>\n",
       "  </tbody>\n",
       "</table>\n",
       "<p>5 rows × 23 columns</p>\n",
       "</div>"
      ],
      "text/plain": [
       "   id     date   time continent_code   country_name country_code  \\\n",
       "0  34   3/2/07  Night            NaN  United States           US   \n",
       "1  42  3/22/07    NaN            NaN  United States           US   \n",
       "2  56   4/6/07    NaN            NaN  United States           US   \n",
       "3  59  4/14/07    NaN            NaN         Canada           CA   \n",
       "4  61  4/15/07    NaN            NaN  United States           US   \n",
       "\n",
       "  state/province  population         city/town  distance  ...  \\\n",
       "0       Virginia       16000       Cherry Hill   3.40765  ...   \n",
       "1           Ohio       17288  New Philadelphia   3.33522  ...   \n",
       "2   Pennsylvania       15930       Wilkinsburg   2.91977  ...   \n",
       "3         Quebec       42786       Châteauguay   2.98682  ...   \n",
       "4       Kentucky        6903         Pikeville   5.66542  ...   \n",
       "\n",
       "                                 geolocation  hazard_type      landslide_type  \\\n",
       "0  (38.600900000000003, -77.268199999999993)    Landslide           Landslide   \n",
       "1  (40.517499999999998, -81.430499999999995)    Landslide           Landslide   \n",
       "2             (40.4377, -79.915999999999997)    Landslide           Landslide   \n",
       "3  (45.322600000000001, -73.777100000000004)    Landslide  Riverbank collapse   \n",
       "4  (37.432499999999997, -82.493099999999998)    Landslide           Landslide   \n",
       "\n",
       "  landslide_size   trigger storm_name injuries fatalities  \\\n",
       "0          Small      Rain        NaN      NaN        NaN   \n",
       "1          Small      Rain        NaN      NaN        NaN   \n",
       "2          Small      Rain        NaN      NaN        NaN   \n",
       "3          Small      Rain        NaN      NaN        NaN   \n",
       "4          Small  Downpour        NaN      NaN        0.0   \n",
       "\n",
       "                  source_name  \\\n",
       "0                  NBC 4 news   \n",
       "1              Canton Rep.com   \n",
       "2  The Pittsburgh Channel.com   \n",
       "3                   Le Soleil   \n",
       "4      Matthew Crawford (KGS)   \n",
       "\n",
       "                                         source_link  \n",
       "0      http://www.nbc4.com/news/11186871/detail.html  \n",
       "1  http://www.cantonrep.com/index.php?ID=345054&C...  \n",
       "2  https://web.archive.org/web/20080423132842/htt...  \n",
       "3  http://www.hebdos.net/lsc/edition162007/articl...  \n",
       "4                                                NaN  \n",
       "\n",
       "[5 rows x 23 columns]"
      ]
     },
     "execution_count": 26,
     "metadata": {},
     "output_type": "execute_result"
    }
   ],
   "source": [
    "landslides = pd.read_csv('https://Parvathy47.github.io/Parvathy47.github.io/Landslides_Database.csv')\n",
    "\n",
    "np.random.seed(0)\n",
    "\n",
    "landslides.head(5)"
   ]
  },
  {
   "cell_type": "code",
   "execution_count": 31,
   "metadata": {},
   "outputs": [
    {
     "name": "stdout",
     "output_type": "stream",
     "text": [
      "0     3/2/07\n",
      "1    3/22/07\n",
      "2     4/6/07\n",
      "3    4/14/07\n",
      "4    4/15/07\n",
      "Name: date, dtype: object\n"
     ]
    }
   ],
   "source": [
    "print(landslides['date'].head())"
   ]
  },
  {
   "cell_type": "code",
   "execution_count": 34,
   "metadata": {},
   "outputs": [
    {
     "data": {
      "text/plain": [
       "0   2007-03-02\n",
       "1   2007-03-22\n",
       "2   2007-04-06\n",
       "3   2007-04-14\n",
       "4   2007-04-15\n",
       "Name: datetime_parsed, dtype: datetime64[ns]"
      ]
     },
     "execution_count": 34,
     "metadata": {},
     "output_type": "execute_result"
    }
   ],
   "source": [
    "landslides['datetime_parsed'] = pd.to_datetime(landslides['date'], format=\"%m/%d/%y\")\n",
    "\n",
    "#print the first few rows\n",
    "landslides['datetime_parsed'].head()"
   ]
  },
  {
   "cell_type": "markdown",
   "metadata": {},
   "source": [
    "## Character Encoding"
   ]
  },
  {
   "cell_type": "code",
   "execution_count": 35,
   "metadata": {},
   "outputs": [],
   "source": [
    "import chardet"
   ]
  },
  {
   "cell_type": "code",
   "execution_count": 39,
   "metadata": {},
   "outputs": [
    {
     "data": {
      "text/plain": [
       "str"
      ]
     },
     "execution_count": 39,
     "metadata": {},
     "output_type": "execute_result"
    }
   ],
   "source": [
    "#Start with a string\n",
    "before = \"This is a ero symbol: €\"\n",
    "\n",
    "type(before)"
   ]
  },
  {
   "cell_type": "code",
   "execution_count": 40,
   "metadata": {},
   "outputs": [
    {
     "data": {
      "text/plain": [
       "bytes"
      ]
     },
     "execution_count": 40,
     "metadata": {},
     "output_type": "execute_result"
    }
   ],
   "source": [
    "after = before.encode('utf-8')\n",
    "type(after)"
   ]
  },
  {
   "cell_type": "code",
   "execution_count": 42,
   "metadata": {},
   "outputs": [
    {
     "name": "stdout",
     "output_type": "stream",
     "text": [
      "b'This is a ero symbol: \\xe2\\x82\\xac'\n"
     ]
    }
   ],
   "source": [
    "print(after)"
   ]
  },
  {
   "cell_type": "code",
   "execution_count": 43,
   "metadata": {},
   "outputs": [
    {
     "name": "stdout",
     "output_type": "stream",
     "text": [
      "This is a ero symbol: €\n"
     ]
    }
   ],
   "source": [
    "print(after.decode('utf-8'))"
   ]
  },
  {
   "cell_type": "code",
   "execution_count": 51,
   "metadata": {},
   "outputs": [
    {
     "name": "stdout",
     "output_type": "stream",
     "text": [
      "{'encoding': 'ascii', 'confidence': 1.0, 'language': ''}\n"
     ]
    }
   ],
   "source": [
    "import chardet\n",
    "\n",
    "with open(\"PakistanSuicideAttacks Ver 11 (30-November-2017).csv\", \"rb\") as rawdata :\n",
    "    result = chardet.detect(rawdata.read(10000))\n",
    "    \n",
    "print(result)\n",
    "\n",
    "#increasing rawdata by 1+ 0z, will change character encoding of the file"
   ]
  },
  {
   "cell_type": "code",
   "execution_count": 53,
   "metadata": {},
   "outputs": [
    {
     "data": {
      "text/html": [
       "<div>\n",
       "<style scoped>\n",
       "    .dataframe tbody tr th:only-of-type {\n",
       "        vertical-align: middle;\n",
       "    }\n",
       "\n",
       "    .dataframe tbody tr th {\n",
       "        vertical-align: top;\n",
       "    }\n",
       "\n",
       "    .dataframe thead th {\n",
       "        text-align: right;\n",
       "    }\n",
       "</style>\n",
       "<table border=\"1\" class=\"dataframe\">\n",
       "  <thead>\n",
       "    <tr style=\"text-align: right;\">\n",
       "      <th></th>\n",
       "      <th>S#</th>\n",
       "      <th>Date</th>\n",
       "      <th>Islamic Date</th>\n",
       "      <th>Blast Day Type</th>\n",
       "      <th>Holiday Type</th>\n",
       "      <th>Time</th>\n",
       "      <th>City</th>\n",
       "      <th>Latitude</th>\n",
       "      <th>Longitude</th>\n",
       "      <th>Province</th>\n",
       "      <th>...</th>\n",
       "      <th>Targeted Sect if any</th>\n",
       "      <th>Killed Min</th>\n",
       "      <th>Killed Max</th>\n",
       "      <th>Injured Min</th>\n",
       "      <th>Injured Max</th>\n",
       "      <th>No. of Suicide Blasts</th>\n",
       "      <th>Explosive Weight (max)</th>\n",
       "      <th>Hospital Names</th>\n",
       "      <th>Temperature(C)</th>\n",
       "      <th>Temperature(F)</th>\n",
       "    </tr>\n",
       "  </thead>\n",
       "  <tbody>\n",
       "    <tr>\n",
       "      <th>0</th>\n",
       "      <td>1</td>\n",
       "      <td>Sunday-November 19-1995</td>\n",
       "      <td>25 Jumaada al-THaany 1416 A.H</td>\n",
       "      <td>Holiday</td>\n",
       "      <td>Weekend</td>\n",
       "      <td>NaN</td>\n",
       "      <td>Islamabad</td>\n",
       "      <td>33.7180</td>\n",
       "      <td>73.0718</td>\n",
       "      <td>Capital</td>\n",
       "      <td>...</td>\n",
       "      <td>None</td>\n",
       "      <td>14.0</td>\n",
       "      <td>15.0</td>\n",
       "      <td>NaN</td>\n",
       "      <td>60</td>\n",
       "      <td>2.0</td>\n",
       "      <td>NaN</td>\n",
       "      <td>NaN</td>\n",
       "      <td>15.835</td>\n",
       "      <td>60.503</td>\n",
       "    </tr>\n",
       "    <tr>\n",
       "      <th>1</th>\n",
       "      <td>2</td>\n",
       "      <td>Monday-November 6-2000</td>\n",
       "      <td>10 SHa`baan 1421 A.H</td>\n",
       "      <td>Working Day</td>\n",
       "      <td>NaN</td>\n",
       "      <td>NaN</td>\n",
       "      <td>Karachi</td>\n",
       "      <td>24.9918</td>\n",
       "      <td>66.9911</td>\n",
       "      <td>Sindh</td>\n",
       "      <td>...</td>\n",
       "      <td>None</td>\n",
       "      <td>NaN</td>\n",
       "      <td>3.0</td>\n",
       "      <td>NaN</td>\n",
       "      <td>3</td>\n",
       "      <td>1.0</td>\n",
       "      <td>NaN</td>\n",
       "      <td>NaN</td>\n",
       "      <td>23.770</td>\n",
       "      <td>74.786</td>\n",
       "    </tr>\n",
       "    <tr>\n",
       "      <th>2</th>\n",
       "      <td>3</td>\n",
       "      <td>Wednesday-May 8-2002</td>\n",
       "      <td>25 safar 1423 A.H</td>\n",
       "      <td>Working Day</td>\n",
       "      <td>NaN</td>\n",
       "      <td>7:45 AM</td>\n",
       "      <td>Karachi</td>\n",
       "      <td>24.9918</td>\n",
       "      <td>66.9911</td>\n",
       "      <td>Sindh</td>\n",
       "      <td>...</td>\n",
       "      <td>Christian</td>\n",
       "      <td>13.0</td>\n",
       "      <td>15.0</td>\n",
       "      <td>20.0</td>\n",
       "      <td>40</td>\n",
       "      <td>1.0</td>\n",
       "      <td>2.5 Kg</td>\n",
       "      <td>1.Jinnah Postgraduate Medical Center 2. Civil ...</td>\n",
       "      <td>31.460</td>\n",
       "      <td>88.628</td>\n",
       "    </tr>\n",
       "    <tr>\n",
       "      <th>3</th>\n",
       "      <td>4</td>\n",
       "      <td>Friday-June 14-2002</td>\n",
       "      <td>3 Raby` al-THaany 1423 A.H</td>\n",
       "      <td>Working Day</td>\n",
       "      <td>NaN</td>\n",
       "      <td>11:10:00 AM</td>\n",
       "      <td>Karachi</td>\n",
       "      <td>24.9918</td>\n",
       "      <td>66.9911</td>\n",
       "      <td>Sindh</td>\n",
       "      <td>...</td>\n",
       "      <td>Christian</td>\n",
       "      <td>NaN</td>\n",
       "      <td>12.0</td>\n",
       "      <td>NaN</td>\n",
       "      <td>51</td>\n",
       "      <td>1.0</td>\n",
       "      <td>NaN</td>\n",
       "      <td>NaN</td>\n",
       "      <td>31.430</td>\n",
       "      <td>88.574</td>\n",
       "    </tr>\n",
       "    <tr>\n",
       "      <th>4</th>\n",
       "      <td>5</td>\n",
       "      <td>Friday-July 4-2003</td>\n",
       "      <td>4 Jumaada al-awal 1424 A.H</td>\n",
       "      <td>Working Day</td>\n",
       "      <td>NaN</td>\n",
       "      <td>NaN</td>\n",
       "      <td>Quetta</td>\n",
       "      <td>30.2095</td>\n",
       "      <td>67.0182</td>\n",
       "      <td>Baluchistan</td>\n",
       "      <td>...</td>\n",
       "      <td>Shiite</td>\n",
       "      <td>44.0</td>\n",
       "      <td>47.0</td>\n",
       "      <td>NaN</td>\n",
       "      <td>65</td>\n",
       "      <td>1.0</td>\n",
       "      <td>NaN</td>\n",
       "      <td>1.CMH Quetta \\n2.Civil Hospital 3. Boland Medi...</td>\n",
       "      <td>33.120</td>\n",
       "      <td>91.616</td>\n",
       "    </tr>\n",
       "  </tbody>\n",
       "</table>\n",
       "<p>5 rows × 26 columns</p>\n",
       "</div>"
      ],
      "text/plain": [
       "   S#                     Date                   Islamic Date Blast Day Type  \\\n",
       "0   1  Sunday-November 19-1995  25 Jumaada al-THaany 1416 A.H        Holiday   \n",
       "1   2   Monday-November 6-2000           10 SHa`baan 1421 A.H    Working Day   \n",
       "2   3     Wednesday-May 8-2002              25 safar 1423 A.H    Working Day   \n",
       "3   4      Friday-June 14-2002     3 Raby` al-THaany 1423 A.H    Working Day   \n",
       "4   5       Friday-July 4-2003     4 Jumaada al-awal 1424 A.H    Working Day   \n",
       "\n",
       "  Holiday Type         Time       City  Latitude Longitude     Province  ...  \\\n",
       "0      Weekend          NaN  Islamabad   33.7180   73.0718      Capital  ...   \n",
       "1          NaN          NaN    Karachi   24.9918   66.9911        Sindh  ...   \n",
       "2          NaN      7:45 AM   Karachi    24.9918   66.9911        Sindh  ...   \n",
       "3          NaN  11:10:00 AM    Karachi   24.9918   66.9911        Sindh  ...   \n",
       "4          NaN          NaN     Quetta   30.2095   67.0182  Baluchistan  ...   \n",
       "\n",
       "  Targeted Sect if any Killed Min Killed Max Injured Min Injured Max  \\\n",
       "0                 None       14.0       15.0         NaN          60   \n",
       "1                 None        NaN        3.0         NaN           3   \n",
       "2            Christian       13.0       15.0        20.0          40   \n",
       "3            Christian        NaN       12.0         NaN          51   \n",
       "4               Shiite       44.0       47.0         NaN          65   \n",
       "\n",
       "  No. of Suicide Blasts Explosive Weight (max)  \\\n",
       "0                   2.0                    NaN   \n",
       "1                   1.0                    NaN   \n",
       "2                   1.0                 2.5 Kg   \n",
       "3                   1.0                    NaN   \n",
       "4                   1.0                    NaN   \n",
       "\n",
       "                                      Hospital Names  Temperature(C)  \\\n",
       "0                                                NaN          15.835   \n",
       "1                                                NaN          23.770   \n",
       "2  1.Jinnah Postgraduate Medical Center 2. Civil ...          31.460   \n",
       "3                                                NaN          31.430   \n",
       "4  1.CMH Quetta \\n2.Civil Hospital 3. Boland Medi...          33.120   \n",
       "\n",
       "   Temperature(F)  \n",
       "0          60.503  \n",
       "1          74.786  \n",
       "2          88.628  \n",
       "3          88.574  \n",
       "4          91.616  \n",
       "\n",
       "[5 rows x 26 columns]"
      ]
     },
     "execution_count": 53,
     "metadata": {},
     "output_type": "execute_result"
    }
   ],
   "source": [
    "df = pd.read_csv(\"PakistanSuicideAttacks Ver 11 (30-November-2017).csv\",  encoding='Windows-1252') \n",
    "\n",
    "df.head()"
   ]
  },
  {
   "cell_type": "markdown",
   "metadata": {},
   "source": [
    "## Data Aggregation"
   ]
  },
  {
   "cell_type": "code",
   "execution_count": 54,
   "metadata": {},
   "outputs": [
    {
     "data": {
      "text/html": [
       "<div>\n",
       "<style scoped>\n",
       "    .dataframe tbody tr th:only-of-type {\n",
       "        vertical-align: middle;\n",
       "    }\n",
       "\n",
       "    .dataframe tbody tr th {\n",
       "        vertical-align: top;\n",
       "    }\n",
       "\n",
       "    .dataframe thead th {\n",
       "        text-align: right;\n",
       "    }\n",
       "</style>\n",
       "<table border=\"1\" class=\"dataframe\">\n",
       "  <thead>\n",
       "    <tr style=\"text-align: right;\">\n",
       "      <th></th>\n",
       "      <th>key1</th>\n",
       "      <th>key2</th>\n",
       "      <th>data1</th>\n",
       "      <th>data2</th>\n",
       "    </tr>\n",
       "  </thead>\n",
       "  <tbody>\n",
       "    <tr>\n",
       "      <th>0</th>\n",
       "      <td>a</td>\n",
       "      <td>one</td>\n",
       "      <td>1.764052</td>\n",
       "      <td>-0.977278</td>\n",
       "    </tr>\n",
       "    <tr>\n",
       "      <th>1</th>\n",
       "      <td>a</td>\n",
       "      <td>two</td>\n",
       "      <td>0.400157</td>\n",
       "      <td>0.950088</td>\n",
       "    </tr>\n",
       "    <tr>\n",
       "      <th>2</th>\n",
       "      <td>b</td>\n",
       "      <td>one</td>\n",
       "      <td>0.978738</td>\n",
       "      <td>-0.151357</td>\n",
       "    </tr>\n",
       "    <tr>\n",
       "      <th>3</th>\n",
       "      <td>b</td>\n",
       "      <td>two</td>\n",
       "      <td>2.240893</td>\n",
       "      <td>-0.103219</td>\n",
       "    </tr>\n",
       "    <tr>\n",
       "      <th>4</th>\n",
       "      <td>a</td>\n",
       "      <td>one</td>\n",
       "      <td>1.867558</td>\n",
       "      <td>0.410599</td>\n",
       "    </tr>\n",
       "  </tbody>\n",
       "</table>\n",
       "</div>"
      ],
      "text/plain": [
       "  key1 key2     data1     data2\n",
       "0    a  one  1.764052 -0.977278\n",
       "1    a  two  0.400157  0.950088\n",
       "2    b  one  0.978738 -0.151357\n",
       "3    b  two  2.240893 -0.103219\n",
       "4    a  one  1.867558  0.410599"
      ]
     },
     "execution_count": 54,
     "metadata": {},
     "output_type": "execute_result"
    }
   ],
   "source": [
    "df = pd.DataFrame({'key1' : ['a', 'a', 'b', 'b', 'a'],\n",
    "                  'key2' : ['one', 'two', 'one', 'two', 'one'],\n",
    "                  'data1' : np.random.randn(5),\n",
    "                  'data2' : np.random.randn(5)})\n",
    "df"
   ]
  },
  {
   "cell_type": "code",
   "execution_count": 55,
   "metadata": {},
   "outputs": [
    {
     "data": {
      "text/plain": [
       "<pandas.core.groupby.generic.SeriesGroupBy object at 0x00000281A0D47908>"
      ]
     },
     "execution_count": 55,
     "metadata": {},
     "output_type": "execute_result"
    }
   ],
   "source": [
    "grouped = df['data1'].groupby(df['key1'])\n",
    "grouped"
   ]
  },
  {
   "cell_type": "code",
   "execution_count": 56,
   "metadata": {},
   "outputs": [
    {
     "data": {
      "text/plain": [
       "key1\n",
       "a    1.343923\n",
       "b    1.609816\n",
       "Name: data1, dtype: float64"
      ]
     },
     "execution_count": 56,
     "metadata": {},
     "output_type": "execute_result"
    }
   ],
   "source": [
    "grouped.mean()"
   ]
  },
  {
   "cell_type": "code",
   "execution_count": 58,
   "metadata": {},
   "outputs": [
    {
     "data": {
      "text/plain": [
       "key1  key2\n",
       "a     one     1.815805\n",
       "      two     0.400157\n",
       "b     one     0.978738\n",
       "      two     2.240893\n",
       "Name: data1, dtype: float64"
      ]
     },
     "execution_count": 58,
     "metadata": {},
     "output_type": "execute_result"
    }
   ],
   "source": [
    "means = df['data1'].groupby([df['key1'], df['key2']]).mean()\n",
    "means"
   ]
  },
  {
   "cell_type": "markdown",
   "metadata": {},
   "source": [
    "## Handling missing values"
   ]
  },
  {
   "cell_type": "code",
   "execution_count": 59,
   "metadata": {},
   "outputs": [
    {
     "data": {
      "text/plain": [
       "0         NaN\n",
       "1    0.528895\n",
       "2         NaN\n",
       "3    0.925597\n",
       "4         NaN\n",
       "5    0.087129\n",
       "dtype: float64"
      ]
     },
     "execution_count": 59,
     "metadata": {},
     "output_type": "execute_result"
    }
   ],
   "source": [
    "s = pd.Series(np.random.rand(6))\n",
    "s[::2] = np.nan\n",
    "s"
   ]
  },
  {
   "cell_type": "code",
   "execution_count": 60,
   "metadata": {},
   "outputs": [
    {
     "data": {
      "text/plain": [
       "0    0.513874\n",
       "1    0.528895\n",
       "2    0.513874\n",
       "3    0.925597\n",
       "4    0.513874\n",
       "5    0.087129\n",
       "dtype: float64"
      ]
     },
     "execution_count": 60,
     "metadata": {},
     "output_type": "execute_result"
    }
   ],
   "source": [
    "s.fillna(s.mean())"
   ]
  },
  {
   "cell_type": "code",
   "execution_count": 61,
   "metadata": {},
   "outputs": [
    {
     "data": {
      "text/plain": [
       "Ohio          0.443863\n",
       "New york      0.333674\n",
       "Vermont       1.494079\n",
       "Florida      -0.205158\n",
       "Oregon        0.313068\n",
       "Nevada       -0.854096\n",
       "California   -2.552990\n",
       "Idaho         0.653619\n",
       "dtype: float64"
      ]
     },
     "execution_count": 61,
     "metadata": {},
     "output_type": "execute_result"
    }
   ],
   "source": [
    "states = ['Ohio', 'New york', 'Vermont', 'Florida', 'Oregon', 'Nevada', 'California', 'Idaho']\n",
    "group_key = ['East']*4 + ['West']*4\n",
    "data = pd.Series(np.random.randn(8), index=states)\n",
    "data"
   ]
  },
  {
   "cell_type": "code",
   "execution_count": 62,
   "metadata": {},
   "outputs": [
    {
     "data": {
      "text/plain": [
       "Ohio          0.443863\n",
       "New york      0.333674\n",
       "Vermont            NaN\n",
       "Florida      -0.205158\n",
       "Oregon        0.313068\n",
       "Nevada             NaN\n",
       "California   -2.552990\n",
       "Idaho              NaN\n",
       "dtype: float64"
      ]
     },
     "execution_count": 62,
     "metadata": {},
     "output_type": "execute_result"
    }
   ],
   "source": [
    "data[['Vermont', 'Nevada', 'Idaho']] = np.nan\n",
    "data"
   ]
  },
  {
   "cell_type": "code",
   "execution_count": 63,
   "metadata": {},
   "outputs": [
    {
     "data": {
      "text/plain": [
       "East    0.190793\n",
       "West   -1.119961\n",
       "dtype: float64"
      ]
     },
     "execution_count": 63,
     "metadata": {},
     "output_type": "execute_result"
    }
   ],
   "source": [
    "data.groupby(group_key).mean()"
   ]
  },
  {
   "cell_type": "code",
   "execution_count": 66,
   "metadata": {},
   "outputs": [
    {
     "data": {
      "text/plain": [
       "Ohio          0.443863\n",
       "New york      0.333674\n",
       "Vermont       0.190793\n",
       "Florida      -0.205158\n",
       "Oregon        0.313068\n",
       "Nevada       -1.119961\n",
       "California   -2.552990\n",
       "Idaho        -1.119961\n",
       "dtype: float64"
      ]
     },
     "execution_count": 66,
     "metadata": {},
     "output_type": "execute_result"
    }
   ],
   "source": [
    "fill_mean = lambda g : g.fillna(g.mean())\n",
    "data.groupby(group_key).apply(fill_mean)"
   ]
  },
  {
   "cell_type": "code",
   "execution_count": 69,
   "metadata": {},
   "outputs": [
    {
     "data": {
      "text/html": [
       "<div>\n",
       "<style scoped>\n",
       "    .dataframe tbody tr th:only-of-type {\n",
       "        vertical-align: middle;\n",
       "    }\n",
       "\n",
       "    .dataframe tbody tr th {\n",
       "        vertical-align: top;\n",
       "    }\n",
       "\n",
       "    .dataframe thead th {\n",
       "        text-align: right;\n",
       "    }\n",
       "</style>\n",
       "<table border=\"1\" class=\"dataframe\">\n",
       "  <thead>\n",
       "    <tr style=\"text-align: right;\">\n",
       "      <th></th>\n",
       "      <th>Unnamed: 0</th>\n",
       "      <th>Age</th>\n",
       "      <th>Cabin</th>\n",
       "      <th>Embarked</th>\n",
       "      <th>Fare</th>\n",
       "      <th>Name</th>\n",
       "      <th>Parch</th>\n",
       "      <th>PassengerId</th>\n",
       "      <th>Pclass</th>\n",
       "      <th>Sex</th>\n",
       "      <th>SibSp</th>\n",
       "      <th>Survived</th>\n",
       "      <th>Ticket</th>\n",
       "    </tr>\n",
       "  </thead>\n",
       "  <tbody>\n",
       "    <tr>\n",
       "      <th>0</th>\n",
       "      <td>0</td>\n",
       "      <td>22.0</td>\n",
       "      <td>NaN</td>\n",
       "      <td>S</td>\n",
       "      <td>7.2500</td>\n",
       "      <td>Braund, Mr. Owen Harris</td>\n",
       "      <td>0</td>\n",
       "      <td>1</td>\n",
       "      <td>3</td>\n",
       "      <td>male</td>\n",
       "      <td>1</td>\n",
       "      <td>0.0</td>\n",
       "      <td>A/5 21171</td>\n",
       "    </tr>\n",
       "    <tr>\n",
       "      <th>1</th>\n",
       "      <td>1</td>\n",
       "      <td>38.0</td>\n",
       "      <td>C85</td>\n",
       "      <td>C</td>\n",
       "      <td>71.2833</td>\n",
       "      <td>Cumings, Mrs. John Bradley (Florence Briggs Th...</td>\n",
       "      <td>0</td>\n",
       "      <td>2</td>\n",
       "      <td>1</td>\n",
       "      <td>female</td>\n",
       "      <td>1</td>\n",
       "      <td>1.0</td>\n",
       "      <td>PC 17599</td>\n",
       "    </tr>\n",
       "    <tr>\n",
       "      <th>2</th>\n",
       "      <td>2</td>\n",
       "      <td>26.0</td>\n",
       "      <td>NaN</td>\n",
       "      <td>S</td>\n",
       "      <td>7.9250</td>\n",
       "      <td>Heikkinen, Miss. Laina</td>\n",
       "      <td>0</td>\n",
       "      <td>3</td>\n",
       "      <td>3</td>\n",
       "      <td>female</td>\n",
       "      <td>0</td>\n",
       "      <td>1.0</td>\n",
       "      <td>STON/O2. 3101282</td>\n",
       "    </tr>\n",
       "    <tr>\n",
       "      <th>3</th>\n",
       "      <td>3</td>\n",
       "      <td>35.0</td>\n",
       "      <td>C123</td>\n",
       "      <td>S</td>\n",
       "      <td>53.1000</td>\n",
       "      <td>Futrelle, Mrs. Jacques Heath (Lily May Peel)</td>\n",
       "      <td>0</td>\n",
       "      <td>4</td>\n",
       "      <td>1</td>\n",
       "      <td>female</td>\n",
       "      <td>1</td>\n",
       "      <td>1.0</td>\n",
       "      <td>113803</td>\n",
       "    </tr>\n",
       "    <tr>\n",
       "      <th>4</th>\n",
       "      <td>4</td>\n",
       "      <td>35.0</td>\n",
       "      <td>NaN</td>\n",
       "      <td>S</td>\n",
       "      <td>8.0500</td>\n",
       "      <td>Allen, Mr. William Henry</td>\n",
       "      <td>0</td>\n",
       "      <td>5</td>\n",
       "      <td>3</td>\n",
       "      <td>male</td>\n",
       "      <td>0</td>\n",
       "      <td>0.0</td>\n",
       "      <td>373450</td>\n",
       "    </tr>\n",
       "  </tbody>\n",
       "</table>\n",
       "</div>"
      ],
      "text/plain": [
       "   Unnamed: 0   Age Cabin Embarked     Fare  \\\n",
       "0           0  22.0   NaN        S   7.2500   \n",
       "1           1  38.0   C85        C  71.2833   \n",
       "2           2  26.0   NaN        S   7.9250   \n",
       "3           3  35.0  C123        S  53.1000   \n",
       "4           4  35.0   NaN        S   8.0500   \n",
       "\n",
       "                                                Name  Parch  PassengerId  \\\n",
       "0                            Braund, Mr. Owen Harris      0            1   \n",
       "1  Cumings, Mrs. John Bradley (Florence Briggs Th...      0            2   \n",
       "2                             Heikkinen, Miss. Laina      0            3   \n",
       "3       Futrelle, Mrs. Jacques Heath (Lily May Peel)      0            4   \n",
       "4                           Allen, Mr. William Henry      0            5   \n",
       "\n",
       "   Pclass     Sex  SibSp  Survived            Ticket  \n",
       "0       3    male      1       0.0         A/5 21171  \n",
       "1       1  female      1       1.0          PC 17599  \n",
       "2       3  female      0       1.0  STON/O2. 3101282  \n",
       "3       1  female      1       1.0            113803  \n",
       "4       3    male      0       0.0            373450  "
      ]
     },
     "execution_count": 69,
     "metadata": {},
     "output_type": "execute_result"
    }
   ],
   "source": [
    "df = pd.read_csv('Titanic.csv')\n",
    "df.head()"
   ]
  },
  {
   "cell_type": "code",
   "execution_count": 70,
   "metadata": {},
   "outputs": [
    {
     "data": {
      "text/plain": [
       "263"
      ]
     },
     "execution_count": 70,
     "metadata": {},
     "output_type": "execute_result"
    }
   ],
   "source": [
    "df['Age'].isnull().sum()"
   ]
  },
  {
   "cell_type": "code",
   "execution_count": 72,
   "metadata": {},
   "outputs": [],
   "source": [
    "df['Title'] = df['Name'].str.extract('([A-Za-z]+)\\.', expand = True)"
   ]
  },
  {
   "cell_type": "code",
   "execution_count": 74,
   "metadata": {},
   "outputs": [
    {
     "data": {
      "text/plain": [
       "Mr          757\n",
       "Miss        260\n",
       "Mrs         197\n",
       "Master       61\n",
       "Dr            8\n",
       "Rev           8\n",
       "Col           4\n",
       "Ms            2\n",
       "Mlle          2\n",
       "Major         2\n",
       "Capt          1\n",
       "Sir           1\n",
       "Lady          1\n",
       "Mme           1\n",
       "Dona          1\n",
       "Don           1\n",
       "Countess      1\n",
       "Jonkheer      1\n",
       "Name: Title, dtype: int64"
      ]
     },
     "execution_count": 74,
     "metadata": {},
     "output_type": "execute_result"
    }
   ],
   "source": [
    "df['Title'].value_counts()"
   ]
  },
  {
   "cell_type": "code",
   "execution_count": 75,
   "metadata": {},
   "outputs": [],
   "source": [
    "#replace rare titles with more common ones\n",
    "\n",
    "mapping = {'Ms' : 'Miss', 'Major' : 'Mr', 'Col': 'Mr', 'Sir' : 'Mr',\n",
    "          'Don' : 'Mr', 'Mme' : 'Mrs', 'Jonkheer' : 'Mr', 'Lady' : 'Mrs',\n",
    "          'Capt' : 'Mr', 'Countess' : 'Mrs', 'Mlle' : 'Miss', 'Dona' : 'Mrs'}\n",
    "df.replace({'Title' : mapping}, inplace=True)"
   ]
  },
  {
   "cell_type": "code",
   "execution_count": 76,
   "metadata": {},
   "outputs": [
    {
     "data": {
      "text/plain": [
       "Mr        767\n",
       "Miss      264\n",
       "Mrs       201\n",
       "Master     61\n",
       "Rev         8\n",
       "Dr          8\n",
       "Name: Title, dtype: int64"
      ]
     },
     "execution_count": 76,
     "metadata": {},
     "output_type": "execute_result"
    }
   ],
   "source": [
    "df['Title'].value_counts()"
   ]
  },
  {
   "cell_type": "code",
   "execution_count": 82,
   "metadata": {},
   "outputs": [],
   "source": [
    "#impute missing age values\n",
    "title_ages = dict(df.groupby('Title')['Age'].median())\n",
    "\n",
    "#create a column of average ages\n",
    "df['age_med'] = df['Title'].apply(lambda x : title_ages[x])\n",
    "\n",
    "#replace all missing ages with the value in this column\n",
    "df['Age'].fillna(df['age_med'], inplace = True)\n"
   ]
  },
  {
   "cell_type": "code",
   "execution_count": 84,
   "metadata": {},
   "outputs": [],
   "source": [
    "del df['age_med']"
   ]
  },
  {
   "cell_type": "code",
   "execution_count": 113,
   "metadata": {},
   "outputs": [
    {
     "data": {
      "text/plain": [
       "Unnamed: 0       0\n",
       "Age              0\n",
       "Embarked         0\n",
       "Fare             0\n",
       "Name             0\n",
       "Parch            0\n",
       "PassengerId      0\n",
       "Pclass           0\n",
       "Sex              0\n",
       "SibSp            0\n",
       "Survived       418\n",
       "Ticket           0\n",
       "Title            0\n",
       "dtype: int64"
      ]
     },
     "execution_count": 113,
     "metadata": {},
     "output_type": "execute_result"
    }
   ],
   "source": [
    "df.isnull().sum()"
   ]
  },
  {
   "cell_type": "code",
   "execution_count": 89,
   "metadata": {},
   "outputs": [],
   "source": [
    "df.drop(['Cabin'], axis=1, inplace=True)"
   ]
  },
  {
   "cell_type": "code",
   "execution_count": 91,
   "metadata": {},
   "outputs": [
    {
     "data": {
      "text/html": [
       "<div>\n",
       "<style scoped>\n",
       "    .dataframe tbody tr th:only-of-type {\n",
       "        vertical-align: middle;\n",
       "    }\n",
       "\n",
       "    .dataframe tbody tr th {\n",
       "        vertical-align: top;\n",
       "    }\n",
       "\n",
       "    .dataframe thead th {\n",
       "        text-align: right;\n",
       "    }\n",
       "</style>\n",
       "<table border=\"1\" class=\"dataframe\">\n",
       "  <thead>\n",
       "    <tr style=\"text-align: right;\">\n",
       "      <th></th>\n",
       "      <th>Unnamed: 0</th>\n",
       "      <th>Age</th>\n",
       "      <th>Embarked</th>\n",
       "      <th>Fare</th>\n",
       "      <th>Name</th>\n",
       "      <th>Parch</th>\n",
       "      <th>PassengerId</th>\n",
       "      <th>Pclass</th>\n",
       "      <th>Sex</th>\n",
       "      <th>SibSp</th>\n",
       "      <th>Survived</th>\n",
       "      <th>Ticket</th>\n",
       "      <th>Title</th>\n",
       "    </tr>\n",
       "  </thead>\n",
       "  <tbody>\n",
       "    <tr>\n",
       "      <th>1043</th>\n",
       "      <td>152</td>\n",
       "      <td>60.5</td>\n",
       "      <td>S</td>\n",
       "      <td>NaN</td>\n",
       "      <td>Storey, Mr. Thomas</td>\n",
       "      <td>0</td>\n",
       "      <td>1044</td>\n",
       "      <td>3</td>\n",
       "      <td>male</td>\n",
       "      <td>0</td>\n",
       "      <td>NaN</td>\n",
       "      <td>3701</td>\n",
       "      <td>Mr</td>\n",
       "    </tr>\n",
       "  </tbody>\n",
       "</table>\n",
       "</div>"
      ],
      "text/plain": [
       "      Unnamed: 0   Age Embarked  Fare                Name  Parch  PassengerId  \\\n",
       "1043         152  60.5        S   NaN  Storey, Mr. Thomas      0         1044   \n",
       "\n",
       "      Pclass   Sex  SibSp  Survived Ticket Title  \n",
       "1043       3  male      0       NaN   3701    Mr  "
      ]
     },
     "execution_count": 91,
     "metadata": {},
     "output_type": "execute_result"
    }
   ],
   "source": [
    "df[df['Fare'].isnull()]"
   ]
  },
  {
   "cell_type": "code",
   "execution_count": 105,
   "metadata": {},
   "outputs": [],
   "source": [
    "fare_classes = dict(df.groupby('Pclass')['Fare'].mean())\n",
    "\n",
    "#create a column of average ages\n",
    "df['fare_class'] = df['Pclass'].apply(lambda x : fare_classes[x])\n",
    "\n",
    "#replace all missing ages with the value in this column\n",
    "df['Fare'].fillna(df['fare_class'], inplace = True)"
   ]
  },
  {
   "cell_type": "code",
   "execution_count": 108,
   "metadata": {},
   "outputs": [],
   "source": [
    "del df['fare_class']"
   ]
  },
  {
   "cell_type": "code",
   "execution_count": 109,
   "metadata": {},
   "outputs": [
    {
     "data": {
      "text/html": [
       "<div>\n",
       "<style scoped>\n",
       "    .dataframe tbody tr th:only-of-type {\n",
       "        vertical-align: middle;\n",
       "    }\n",
       "\n",
       "    .dataframe tbody tr th {\n",
       "        vertical-align: top;\n",
       "    }\n",
       "\n",
       "    .dataframe thead th {\n",
       "        text-align: right;\n",
       "    }\n",
       "</style>\n",
       "<table border=\"1\" class=\"dataframe\">\n",
       "  <thead>\n",
       "    <tr style=\"text-align: right;\">\n",
       "      <th></th>\n",
       "      <th>Unnamed: 0</th>\n",
       "      <th>Age</th>\n",
       "      <th>Embarked</th>\n",
       "      <th>Fare</th>\n",
       "      <th>Name</th>\n",
       "      <th>Parch</th>\n",
       "      <th>PassengerId</th>\n",
       "      <th>Pclass</th>\n",
       "      <th>Sex</th>\n",
       "      <th>SibSp</th>\n",
       "      <th>Survived</th>\n",
       "      <th>Ticket</th>\n",
       "      <th>Title</th>\n",
       "    </tr>\n",
       "  </thead>\n",
       "  <tbody>\n",
       "    <tr>\n",
       "      <th>0</th>\n",
       "      <td>0</td>\n",
       "      <td>22.0</td>\n",
       "      <td>S</td>\n",
       "      <td>7.2500</td>\n",
       "      <td>Braund, Mr. Owen Harris</td>\n",
       "      <td>0</td>\n",
       "      <td>1</td>\n",
       "      <td>3</td>\n",
       "      <td>male</td>\n",
       "      <td>1</td>\n",
       "      <td>0.0</td>\n",
       "      <td>A/5 21171</td>\n",
       "      <td>Mr</td>\n",
       "    </tr>\n",
       "    <tr>\n",
       "      <th>1</th>\n",
       "      <td>1</td>\n",
       "      <td>38.0</td>\n",
       "      <td>C</td>\n",
       "      <td>71.2833</td>\n",
       "      <td>Cumings, Mrs. John Bradley (Florence Briggs Th...</td>\n",
       "      <td>0</td>\n",
       "      <td>2</td>\n",
       "      <td>1</td>\n",
       "      <td>female</td>\n",
       "      <td>1</td>\n",
       "      <td>1.0</td>\n",
       "      <td>PC 17599</td>\n",
       "      <td>Mrs</td>\n",
       "    </tr>\n",
       "    <tr>\n",
       "      <th>2</th>\n",
       "      <td>2</td>\n",
       "      <td>26.0</td>\n",
       "      <td>S</td>\n",
       "      <td>7.9250</td>\n",
       "      <td>Heikkinen, Miss. Laina</td>\n",
       "      <td>0</td>\n",
       "      <td>3</td>\n",
       "      <td>3</td>\n",
       "      <td>female</td>\n",
       "      <td>0</td>\n",
       "      <td>1.0</td>\n",
       "      <td>STON/O2. 3101282</td>\n",
       "      <td>Miss</td>\n",
       "    </tr>\n",
       "    <tr>\n",
       "      <th>3</th>\n",
       "      <td>3</td>\n",
       "      <td>35.0</td>\n",
       "      <td>S</td>\n",
       "      <td>53.1000</td>\n",
       "      <td>Futrelle, Mrs. Jacques Heath (Lily May Peel)</td>\n",
       "      <td>0</td>\n",
       "      <td>4</td>\n",
       "      <td>1</td>\n",
       "      <td>female</td>\n",
       "      <td>1</td>\n",
       "      <td>1.0</td>\n",
       "      <td>113803</td>\n",
       "      <td>Mrs</td>\n",
       "    </tr>\n",
       "    <tr>\n",
       "      <th>4</th>\n",
       "      <td>4</td>\n",
       "      <td>35.0</td>\n",
       "      <td>S</td>\n",
       "      <td>8.0500</td>\n",
       "      <td>Allen, Mr. William Henry</td>\n",
       "      <td>0</td>\n",
       "      <td>5</td>\n",
       "      <td>3</td>\n",
       "      <td>male</td>\n",
       "      <td>0</td>\n",
       "      <td>0.0</td>\n",
       "      <td>373450</td>\n",
       "      <td>Mr</td>\n",
       "    </tr>\n",
       "  </tbody>\n",
       "</table>\n",
       "</div>"
      ],
      "text/plain": [
       "   Unnamed: 0   Age Embarked     Fare  \\\n",
       "0           0  22.0        S   7.2500   \n",
       "1           1  38.0        C  71.2833   \n",
       "2           2  26.0        S   7.9250   \n",
       "3           3  35.0        S  53.1000   \n",
       "4           4  35.0        S   8.0500   \n",
       "\n",
       "                                                Name  Parch  PassengerId  \\\n",
       "0                            Braund, Mr. Owen Harris      0            1   \n",
       "1  Cumings, Mrs. John Bradley (Florence Briggs Th...      0            2   \n",
       "2                             Heikkinen, Miss. Laina      0            3   \n",
       "3       Futrelle, Mrs. Jacques Heath (Lily May Peel)      0            4   \n",
       "4                           Allen, Mr. William Henry      0            5   \n",
       "\n",
       "   Pclass     Sex  SibSp  Survived            Ticket Title  \n",
       "0       3    male      1       0.0         A/5 21171    Mr  \n",
       "1       1  female      1       1.0          PC 17599   Mrs  \n",
       "2       3  female      0       1.0  STON/O2. 3101282  Miss  \n",
       "3       1  female      1       1.0            113803   Mrs  \n",
       "4       3    male      0       0.0            373450    Mr  "
      ]
     },
     "execution_count": 109,
     "metadata": {},
     "output_type": "execute_result"
    }
   ],
   "source": [
    "df.head()"
   ]
  },
  {
   "cell_type": "code",
   "execution_count": 112,
   "metadata": {},
   "outputs": [],
   "source": [
    "df['Embarked'].fillna(method='ffill', inplace = True)"
   ]
  },
  {
   "cell_type": "markdown",
   "metadata": {},
   "source": [
    "## Summary Statistics"
   ]
  },
  {
   "cell_type": "code",
   "execution_count": 115,
   "metadata": {},
   "outputs": [
    {
     "data": {
      "text/plain": [
       "<seaborn.axisgrid.PairGrid at 0x281a15e95f8>"
      ]
     },
     "execution_count": 115,
     "metadata": {},
     "output_type": "execute_result"
    },
    {
     "data": {
      "image/png": "[encoded data removed]",
      "text/plain": [
       "<Figure size 1440x1440 with 72 Axes>"
      ]
     },
     "metadata": {
      "needs_background": "light"
     },
     "output_type": "display_data"
    }
   ],
   "source": [
    "sns.pairplot(df.corr())"
   ]
  },
  {
   "cell_type": "markdown",
   "metadata": {},
   "source": [
    "## Discretization and Binning"
   ]
  },
  {
   "cell_type": "code",
   "execution_count": 116,
   "metadata": {},
   "outputs": [
    {
     "data": {
      "text/plain": [
       "[(18, 25], (18, 25], (18, 25], (18, 25], (18, 25], (25, 35], (60, 100], (35, 60], (35, 60], (25, 35]]\n",
       "Categories (4, interval[int64]): [(18, 25] < (25, 35] < (35, 60] < (60, 100]]"
      ]
     },
     "execution_count": 116,
     "metadata": {},
     "output_type": "execute_result"
    }
   ],
   "source": [
    "ages = [22,24, 25, 21, 23, 31, 61, 45, 41, 32]\n",
    "bins = [18, 25, 35, 60, 100]\n",
    "cats = pd.cut(ages, bins)\n",
    "cats"
   ]
  },
  {
   "cell_type": "code",
   "execution_count": 117,
   "metadata": {},
   "outputs": [
    {
     "data": {
      "text/plain": [
       "[[18, 25), [18, 25), [25, 35), [18, 25), [18, 25), [25, 35), [60, 100), [35, 60), [35, 60), [25, 35)]\n",
       "Categories (4, interval[int64]): [[18, 25) < [25, 35) < [35, 60) < [60, 100)]"
      ]
     },
     "execution_count": 117,
     "metadata": {},
     "output_type": "execute_result"
    }
   ],
   "source": [
    "ages = [22,24, 25, 21, 23, 31, 61, 45, 41, 32]\n",
    "bins = [18, 25, 35, 60, 100]\n",
    "cats = pd.cut(ages, bins, right=False)\n",
    "cats"
   ]
  },
  {
   "cell_type": "code",
   "execution_count": 120,
   "metadata": {},
   "outputs": [
    {
     "data": {
      "text/plain": [
       "array([0, 0, 1, 0, 0, 1, 3, 2, 2, 1], dtype=int8)"
      ]
     },
     "execution_count": 120,
     "metadata": {},
     "output_type": "execute_result"
    }
   ],
   "source": [
    "cats.codes"
   ]
  },
  {
   "cell_type": "code",
   "execution_count": 119,
   "metadata": {},
   "outputs": [
    {
     "data": {
      "text/plain": [
       "IntervalIndex([[18, 25), [25, 35), [35, 60), [60, 100)],\n",
       "              closed='left',\n",
       "              dtype='interval[int64]')"
      ]
     },
     "execution_count": 119,
     "metadata": {},
     "output_type": "execute_result"
    }
   ],
   "source": [
    "cats.categories"
   ]
  },
  {
   "cell_type": "code",
   "execution_count": 121,
   "metadata": {},
   "outputs": [
    {
     "data": {
      "text/plain": [
       "[18, 25)     4\n",
       "[25, 35)     3\n",
       "[35, 60)     2\n",
       "[60, 100)    1\n",
       "dtype: int64"
      ]
     },
     "execution_count": 121,
     "metadata": {},
     "output_type": "execute_result"
    }
   ],
   "source": [
    "pd.value_counts(cats)"
   ]
  },
  {
   "cell_type": "code",
   "execution_count": 123,
   "metadata": {},
   "outputs": [],
   "source": [
    "group_name = ['Youth', 'Youngadult', 'Middleaged', 'Senior']\n",
    "cats = pd.cut(ages, bins, labels=group_name)"
   ]
  },
  {
   "cell_type": "code",
   "execution_count": 124,
   "metadata": {},
   "outputs": [
    {
     "data": {
      "text/plain": [
       "array([0, 0, 0, 0, 0, 1, 3, 2, 2, 1], dtype=int8)"
      ]
     },
     "execution_count": 124,
     "metadata": {},
     "output_type": "execute_result"
    }
   ],
   "source": [
    "cats.codes"
   ]
  },
  {
   "cell_type": "code",
   "execution_count": 129,
   "metadata": {},
   "outputs": [
    {
     "data": {
      "text/plain": [
       "[(20.999, 23.25], (23.25, 28.0], (23.25, 28.0], (20.999, 23.25], (20.999, 23.25], (28.0, 38.75], (38.75, 61.0], (38.75, 61.0], (38.75, 61.0], (28.0, 38.75]]\n",
       "Categories (4, interval[float64]): [(20.999, 23.25] < (23.25, 28.0] < (28.0, 38.75] < (38.75, 61.0]]"
      ]
     },
     "execution_count": 129,
     "metadata": {},
     "output_type": "execute_result"
    }
   ],
   "source": [
    "a1 = pd.qcut(ages, 4)\n",
    "a1"
   ]
  },
  {
   "cell_type": "code",
   "execution_count": 132,
   "metadata": {},
   "outputs": [
    {
     "data": {
      "text/plain": [
       "[(20.99, 23.25], (23.25, 28.0], (23.25, 28.0], (20.99, 23.25], (20.99, 23.25], (28.0, 38.75], (38.75, 61.0], (38.75, 61.0], (38.75, 61.0], (28.0, 38.75]]\n",
       "Categories (4, interval[float64]): [(20.99, 23.25] < (23.25, 28.0] < (28.0, 38.75] < (38.75, 61.0]]"
      ]
     },
     "execution_count": 132,
     "metadata": {},
     "output_type": "execute_result"
    }
   ],
   "source": [
    "a1 = pd.qcut(ages, 4, precision=2)\n",
    "a1"
   ]
  },
  {
   "cell_type": "code",
   "execution_count": null,
   "metadata": {},
   "outputs": [],
   "source": []
  }
 ],
 "metadata": {
  "kernelspec": {
   "display_name": "Python 3",
   "language": "python",
   "name": "python3"
  },
  "language_info": {
   "codemirror_mode": {
    "name": "ipython",
    "version": 3
   },
   "file_extension": ".py",
   "mimetype": "text/x-python",
   "name": "python",
   "nbconvert_exporter": "python",
   "pygments_lexer": "ipython3",
   "version": "3.7.3"
  }
 },
 "nbformat": 4,
 "nbformat_minor": 2
}
