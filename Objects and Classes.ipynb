{
 "cells": [
  {
   "cell_type": "markdown",
   "metadata": {},
   "source": [
    "#  Wrapper functions"
   ]
  },
  {
   "cell_type": "code",
   "execution_count": 2,
   "metadata": {},
   "outputs": [
    {
     "name": "stdout",
     "output_type": "stream",
     "text": [
      "2.0\n"
     ]
    }
   ],
   "source": [
    "#Wrapperfunction\n",
    "\n",
    "def deco_check(func) :\n",
    "    def inner_func(a,b) :\n",
    "        if b == 0 :\n",
    "            print('Not divisible by 0')\n",
    "            return\n",
    "        func(a,b)\n",
    "    return inner_func\n",
    "    \n",
    "\n",
    "@deco_check\n",
    "\n",
    "def div(a,b):\n",
    "    print(a/b)\n",
    "div(20,10)"
   ]
  },
  {
   "cell_type": "markdown",
   "metadata": {},
   "source": [
    "# Function using *args"
   ]
  },
  {
   "cell_type": "code",
   "execution_count": 11,
   "metadata": {},
   "outputs": [
    {
     "name": "stdout",
     "output_type": "stream",
     "text": [
      "4 arguments passed\n",
      "17\n",
      "3 arguments passed\n",
      "12\n"
     ]
    }
   ],
   "source": [
    "def deco_func(func) :\n",
    "    def inner_func(*args) :\n",
    "        nargs = len(args)\n",
    "        print(\"%d arguments passed\" %(nargs))\n",
    "        func(*args)\n",
    "    return inner_func\n",
    "\n",
    "@deco_func\n",
    "def addition(*args) :\n",
    "    result = 0;\n",
    "    for i in range(len(args)) :\n",
    "        result += args[i]\n",
    "    print(result)\n",
    "\n",
    "@deco_func\n",
    "def multiplication(*args) :\n",
    "    result = 1;\n",
    "    for i in range(len(args)) :\n",
    "        result *= args[i]\n",
    "    print(result)\n",
    "\n",
    "addition(2,4,5,6)\n",
    "multiplication(3,4,1)\n",
    "        "
   ]
  },
  {
   "cell_type": "code",
   "execution_count": 12,
   "metadata": {},
   "outputs": [
    {
     "name": "stdout",
     "output_type": "stream",
     "text": [
      "<class 'int'>\n"
     ]
    }
   ],
   "source": [
    "a = 5\n",
    "print(type(a))"
   ]
  },
  {
   "cell_type": "markdown",
   "metadata": {},
   "source": [
    "# Classes and Objects\n",
    "\n",
    "-When a function is created inside class, it is called a method"
   ]
  },
  {
   "cell_type": "code",
   "execution_count": 13,
   "metadata": {},
   "outputs": [],
   "source": [
    "#Create employees, company Deloitte, firstname, last name, email, method to create  complete welcome message\n",
    "#employes as object, capture how many employees"
   ]
  },
  {
   "cell_type": "code",
   "execution_count": 7,
   "metadata": {},
   "outputs": [
    {
     "name": "stdout",
     "output_type": "stream",
     "text": [
      "Shraddha Dharmik Welcome to Deloitte!\n",
      "Destructor called Shraddha deleted\n",
      "<class '__main__.Employee'>\n",
      "3 Employees\n"
     ]
    }
   ],
   "source": [
    "class Employee :\n",
    "    \"Welcome to Deloitte!\"             #DOCSTRING - First line afterclass name\n",
    "    noemp = 0\n",
    "    #Constructor \n",
    "    def __init__ (self, fname, lname, email):\n",
    "        self.fname = fname\n",
    "        self.lname = lname\n",
    "        self.email = email\n",
    "        Employee.noemp += 1\n",
    "        \n",
    "    def fullname(self) :\n",
    "        print(\"%s %s\" %(self.fname, self.lname), Employee.__doc__)\n",
    "        \n",
    "    def ecnt():\n",
    "        print('%d Employees' %(Employee.noemp))\n",
    "        \n",
    "    #Destructor\n",
    "    def __del__(self) :\n",
    "        print(\"Destructor called %s deleted\" %self.fname)\n",
    "        \n",
    "e1 = Employee('John', 'Walts', 45)\n",
    "e2 = Employee('Shraddha', 'Dharmik', 'dsfsd')\n",
    "e3 = Employee('Sameer', 'Pophali', 'kdfgn')\n",
    "\n",
    "e2.fullname()\n",
    "del(e2)\n",
    "\n",
    "print(type(e1))\n",
    "\n",
    "Employee.ecnt()"
   ]
  },
  {
   "cell_type": "code",
   "execution_count": 20,
   "metadata": {},
   "outputs": [
    {
     "name": "stdout",
     "output_type": "stream",
     "text": [
      "Destructor is called\n",
      "Radius : 78.500000 \n",
      "Circumference : 31.400000\n"
     ]
    }
   ],
   "source": [
    "#1. CLass circle\n",
    "\n",
    "class Circle :\n",
    "    def __init__(self, radius) :\n",
    "        self.radius = radius\n",
    "        \n",
    "    def area(self) :\n",
    "        print('Radius : %f ' %(3.14*self.radius*self.radius))\n",
    "    \n",
    "    def circumference(self) :\n",
    "        print('Circumference : %f' %(2*3.14*self.radius))\n",
    "    \n",
    "    def __del__(self):\n",
    "        print('Destructor is called')\n",
    "        \n",
    "circle1 = Circle(5)\n",
    "circle1.area()\n",
    "circle1.circumference()\n",
    "              \n"
   ]
  },
  {
   "cell_type": "code",
   "execution_count": 21,
   "metadata": {},
   "outputs": [
    {
     "name": "stdout",
     "output_type": "stream",
     "text": [
      "Radius : 78.500000 \n",
      "Circumference : 31.400000\n",
      "Radius : 78.500000 \n"
     ]
    }
   ],
   "source": [
    "from Circle import Circle\n",
    "\n",
    "c1 = Circle(5)\n",
    "c1.area()"
   ]
  },
  {
   "cell_type": "code",
   "execution_count": 2,
   "metadata": {},
   "outputs": [
    {
     "name": "stdout",
     "output_type": "stream",
     "text": [
      "Enter attendance : 90\n",
      "Shraddha 12th of Bombay Scottish School NOT eligible to appear for the exam\n"
     ]
    }
   ],
   "source": [
    "from Student import Student\n",
    "            \n",
    "s1 = Student('Shraddha', 25, '12th')\n",
    "s1.checkAttendance()\n",
    "        \n"
   ]
  },
  {
   "cell_type": "code",
   "execution_count": null,
   "metadata": {},
   "outputs": [],
   "source": []
  }
 ],
 "metadata": {
  "kernelspec": {
   "display_name": "Python 3",
   "language": "python",
   "name": "python3"
  },
  "language_info": {
   "codemirror_mode": {
    "name": "ipython",
    "version": 3
   },
   "file_extension": ".py",
   "mimetype": "text/x-python",
   "name": "python",
   "nbconvert_exporter": "python",
   "pygments_lexer": "ipython3",
   "version": "3.7.1"
  }
 },
 "nbformat": 4,
 "nbformat_minor": 2
}
