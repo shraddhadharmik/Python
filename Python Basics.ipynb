{
 "cells": [
  {
   "cell_type": "markdown",
   "metadata": {},
   "source": [
    "# Exercise 1\n",
    "## Practice code\n",
    "python\n"
   ]
  },
  {
   "cell_type": "code",
   "execution_count": null,
   "metadata": {},
   "outputs": [],
   "source": [
    "x=5\n",
    "print(x)"
   ]
  },
  {
   "cell_type": "code",
   "execution_count": 2,
   "metadata": {},
   "outputs": [],
   "source": [
    "?print\n"
   ]
  },
  {
   "cell_type": "code",
   "execution_count": 3,
   "metadata": {},
   "outputs": [
    {
     "name": "stdout",
     "output_type": "stream",
     "text": [
      "3.7.1 (default, Dec 10 2018, 22:54:23) [MSC v.1915 64 bit (AMD64)]\n"
     ]
    }
   ],
   "source": [
    "import sys\n",
    "print (sys.version)"
   ]
  },
  {
   "cell_type": "code",
   "execution_count": 4,
   "metadata": {},
   "outputs": [
    {
     "name": "stdout",
     "output_type": "stream",
     "text": [
      "10\n"
     ]
    }
   ],
   "source": [
    "num1 = 10\n",
    "print(num1)"
   ]
  },
  {
   "cell_type": "raw",
   "metadata": {},
   "source": [
    "print(5**2)\n"
   ]
  },
  {
   "cell_type": "code",
   "execution_count": 5,
   "metadata": {},
   "outputs": [],
   "source": [
    "x = 40**20"
   ]
  },
  {
   "cell_type": "code",
   "execution_count": 6,
   "metadata": {},
   "outputs": [
    {
     "name": "stdout",
     "output_type": "stream",
     "text": [
      "109951162777600000000000000000000\n"
     ]
    }
   ],
   "source": [
    "print(x)"
   ]
  },
  {
   "cell_type": "code",
   "execution_count": 7,
   "metadata": {},
   "outputs": [
    {
     "name": "stdout",
     "output_type": "stream",
     "text": [
      "2.3333333333333335\n"
     ]
    }
   ],
   "source": [
    "print(7/3)\n"
   ]
  },
  {
   "cell_type": "code",
   "execution_count": 8,
   "metadata": {},
   "outputs": [
    {
     "name": "stdout",
     "output_type": "stream",
     "text": [
      "1\n"
     ]
    }
   ],
   "source": [
    "print(7%3)"
   ]
  },
  {
   "cell_type": "code",
   "execution_count": 9,
   "metadata": {},
   "outputs": [
    {
     "name": "stdout",
     "output_type": "stream",
     "text": [
      "0\n"
     ]
    }
   ],
   "source": [
    "print(1209%3)"
   ]
  },
  {
   "cell_type": "code",
   "execution_count": 10,
   "metadata": {},
   "outputs": [
    {
     "name": "stdout",
     "output_type": "stream",
     "text": [
      "1209 is divisible by 3\n"
     ]
    }
   ],
   "source": [
    "x = 1209\n",
    "y = 1209 % 3\n",
    "if y == 0 :\n",
    "    print(x,'is divisible by 3')\n",
    "else :\n",
    "    print(x, 'is not divisible by 3')"
   ]
  },
  {
   "cell_type": "code",
   "execution_count": 2,
   "metadata": {},
   "outputs": [
    {
     "name": "stdout",
     "output_type": "stream",
     "text": [
      "Python\n"
     ]
    }
   ],
   "source": [
    "s = 'Python for Data Science'\n",
    "print(s[0:6])"
   ]
  },
  {
   "cell_type": "code",
   "execution_count": 12,
   "metadata": {},
   "outputs": [
    {
     "name": "stdout",
     "output_type": "stream",
     "text": [
      "Data\n"
     ]
    }
   ],
   "source": [
    "print(s[11:15])"
   ]
  },
  {
   "cell_type": "code",
   "execution_count": 13,
   "metadata": {},
   "outputs": [
    {
     "name": "stdout",
     "output_type": "stream",
     "text": [
      "Python for Data Science\n"
     ]
    }
   ],
   "source": [
    "print(s[0:])"
   ]
  },
  {
   "cell_type": "code",
   "execution_count": 14,
   "metadata": {},
   "outputs": [
    {
     "name": "stdout",
     "output_type": "stream",
     "text": [
      "Pyth\n"
     ]
    }
   ],
   "source": [
    "#Slicing\n",
    "\n",
    "print(s[:4])"
   ]
  },
  {
   "cell_type": "code",
   "execution_count": 15,
   "metadata": {},
   "outputs": [
    {
     "name": "stdout",
     "output_type": "stream",
     "text": [
      "Python for Data \n"
     ]
    }
   ],
   "source": [
    "print(s[:-7])"
   ]
  },
  {
   "cell_type": "code",
   "execution_count": 16,
   "metadata": {},
   "outputs": [
    {
     "name": "stdout",
     "output_type": "stream",
     "text": [
      "Science\n"
     ]
    }
   ],
   "source": [
    "print(s[-7:])"
   ]
  },
  {
   "cell_type": "code",
   "execution_count": null,
   "metadata": {},
   "outputs": [],
   "source": []
  },
  {
   "cell_type": "code",
   "execution_count": 3,
   "metadata": {},
   "outputs": [
    {
     "name": "stdout",
     "output_type": "stream",
     "text": [
      "10\n",
      "THIS STATEMENT CONTAINS 42 CHARACTERS\n"
     ]
    }
   ],
   "source": [
    "#String Operations\n",
    "\n",
    "num1 = 10\n",
    "print(str(num1))\n",
    "\n",
    "s = 'This statement contains 42 characters'\n",
    "print(s.upper())"
   ]
  },
  {
   "cell_type": "code",
   "execution_count": 18,
   "metadata": {},
   "outputs": [
    {
     "name": "stdout",
     "output_type": "stream",
     "text": [
      "this statement contains 42 characters\n",
      "4\n"
     ]
    }
   ],
   "source": [
    "print(s.lower())\n",
    "print(s.count('a'))"
   ]
  },
  {
   "cell_type": "code",
   "execution_count": 19,
   "metadata": {},
   "outputs": [
    {
     "name": "stdout",
     "output_type": "stream",
     "text": [
      "2\n"
     ]
    }
   ],
   "source": [
    "print(s.find('i'))"
   ]
  },
  {
   "cell_type": "code",
   "execution_count": 20,
   "metadata": {},
   "outputs": [
    {
     "name": "stdout",
     "output_type": "stream",
     "text": [
      "20\n"
     ]
    }
   ],
   "source": [
    "#for start position\n",
    "print(s.find('i', 10))"
   ]
  },
  {
   "cell_type": "code",
   "execution_count": 21,
   "metadata": {},
   "outputs": [
    {
     "ename": "NameError",
     "evalue": "name 'i' is not defined",
     "output_type": "error",
     "traceback": [
      "\u001b[1;31m---------------------------------------------------------------------------\u001b[0m",
      "\u001b[1;31mNameError\u001b[0m                                 Traceback (most recent call last)",
      "\u001b[1;32m<ipython-input-21-be94bbc992a6>\u001b[0m in \u001b[0;36m<module>\u001b[1;34m\u001b[0m\n\u001b[0;32m      1\u001b[0m \u001b[1;31m#for start and end position\u001b[0m\u001b[1;33m\u001b[0m\u001b[1;33m\u001b[0m\u001b[1;33m\u001b[0m\u001b[0m\n\u001b[1;32m----> 2\u001b[1;33m \u001b[0mprint\u001b[0m\u001b[1;33m(\u001b[0m\u001b[0ms\u001b[0m\u001b[1;33m.\u001b[0m\u001b[0mfind\u001b[0m\u001b[1;33m(\u001b[0m\u001b[0mi\u001b[0m\u001b[1;33m,\u001b[0m \u001b[1;36m10\u001b[0m\u001b[1;33m,\u001b[0m \u001b[1;36m20\u001b[0m\u001b[1;33m)\u001b[0m\u001b[1;33m)\u001b[0m\u001b[1;33m\u001b[0m\u001b[1;33m\u001b[0m\u001b[0m\n\u001b[0m",
      "\u001b[1;31mNameError\u001b[0m: name 'i' is not defined"
     ]
    }
   ],
   "source": [
    "#for start and end position\n",
    "print(s.find(i, 10, 20))"
   ]
  },
  {
   "cell_type": "code",
   "execution_count": 23,
   "metadata": {},
   "outputs": [
    {
     "name": "stdout",
     "output_type": "stream",
     "text": [
      "20\n"
     ]
    }
   ],
   "source": [
    "print(s.find('i', 10, 21))"
   ]
  },
  {
   "cell_type": "code",
   "execution_count": 4,
   "metadata": {},
   "outputs": [
    {
     "name": "stdout",
     "output_type": "stream",
     "text": [
      "Th0s statement conta0ns 42 characters\n"
     ]
    }
   ],
   "source": [
    "s1 = s.replace('i', '0')\n",
    "print(s1)"
   ]
  },
  {
   "cell_type": "code",
   "execution_count": 5,
   "metadata": {},
   "outputs": [
    {
     "ename": "TypeError",
     "evalue": "'str' object does not support item assignment",
     "output_type": "error",
     "traceback": [
      "\u001b[1;31m---------------------------------------------------------------------------\u001b[0m",
      "\u001b[1;31mTypeError\u001b[0m                                 Traceback (most recent call last)",
      "\u001b[1;32m<ipython-input-5-44f92721ca9f>\u001b[0m in \u001b[0;36m<module>\u001b[1;34m\u001b[0m\n\u001b[1;32m----> 1\u001b[1;33m \u001b[0ms\u001b[0m\u001b[1;33m[\u001b[0m\u001b[1;36m3\u001b[0m\u001b[1;33m]\u001b[0m \u001b[1;33m=\u001b[0m \u001b[1;34m'e'\u001b[0m\u001b[1;33m\u001b[0m\u001b[1;33m\u001b[0m\u001b[0m\n\u001b[0m",
      "\u001b[1;31mTypeError\u001b[0m: 'str' object does not support item assignment"
     ]
    }
   ],
   "source": [
    "s[3] = 'e'"
   ]
  },
  {
   "cell_type": "code",
   "execution_count": 6,
   "metadata": {},
   "outputs": [
    {
     "name": "stdout",
     "output_type": "stream",
     "text": [
      "Th0s statement conta0ns 42 characters\n"
     ]
    }
   ],
   "source": [
    "print(s.replace('i', '0'))"
   ]
  },
  {
   "cell_type": "code",
   "execution_count": 7,
   "metadata": {},
   "outputs": [
    {
     "name": "stdout",
     "output_type": "stream",
     "text": [
      "This statement contains 42 characters\n"
     ]
    }
   ],
   "source": [
    "s.replace('i', '0')\n",
    "print(s)"
   ]
  },
  {
   "cell_type": "code",
   "execution_count": 1,
   "metadata": {},
   "outputs": [
    {
     "data": {
      "text/plain": [
       "['MAXYEAR',\n",
       " 'MINYEAR',\n",
       " '__builtins__',\n",
       " '__cached__',\n",
       " '__doc__',\n",
       " '__file__',\n",
       " '__loader__',\n",
       " '__name__',\n",
       " '__package__',\n",
       " '__spec__',\n",
       " 'date',\n",
       " 'datetime',\n",
       " 'datetime_CAPI',\n",
       " 'sys',\n",
       " 'time',\n",
       " 'timedelta',\n",
       " 'timezone',\n",
       " 'tzinfo']"
      ]
     },
     "execution_count": 1,
     "metadata": {},
     "output_type": "execute_result"
    }
   ],
   "source": [
    "#datetime\n",
    "\n",
    "import datetime\n",
    "dir(datetime)"
   ]
  },
  {
   "cell_type": "code",
   "execution_count": 2,
   "metadata": {},
   "outputs": [
    {
     "data": {
      "text/plain": [
       "['__add__',\n",
       " '__class__',\n",
       " '__delattr__',\n",
       " '__dir__',\n",
       " '__doc__',\n",
       " '__eq__',\n",
       " '__format__',\n",
       " '__ge__',\n",
       " '__getattribute__',\n",
       " '__gt__',\n",
       " '__hash__',\n",
       " '__init__',\n",
       " '__init_subclass__',\n",
       " '__le__',\n",
       " '__lt__',\n",
       " '__ne__',\n",
       " '__new__',\n",
       " '__radd__',\n",
       " '__reduce__',\n",
       " '__reduce_ex__',\n",
       " '__repr__',\n",
       " '__rsub__',\n",
       " '__setattr__',\n",
       " '__sizeof__',\n",
       " '__str__',\n",
       " '__sub__',\n",
       " '__subclasshook__',\n",
       " 'astimezone',\n",
       " 'combine',\n",
       " 'ctime',\n",
       " 'date',\n",
       " 'day',\n",
       " 'dst',\n",
       " 'fold',\n",
       " 'fromisoformat',\n",
       " 'fromordinal',\n",
       " 'fromtimestamp',\n",
       " 'hour',\n",
       " 'isocalendar',\n",
       " 'isoformat',\n",
       " 'isoweekday',\n",
       " 'max',\n",
       " 'microsecond',\n",
       " 'min',\n",
       " 'minute',\n",
       " 'month',\n",
       " 'now',\n",
       " 'replace',\n",
       " 'resolution',\n",
       " 'second',\n",
       " 'strftime',\n",
       " 'strptime',\n",
       " 'time',\n",
       " 'timestamp',\n",
       " 'timetuple',\n",
       " 'timetz',\n",
       " 'today',\n",
       " 'toordinal',\n",
       " 'tzinfo',\n",
       " 'tzname',\n",
       " 'utcfromtimestamp',\n",
       " 'utcnow',\n",
       " 'utcoffset',\n",
       " 'utctimetuple',\n",
       " 'weekday',\n",
       " 'year']"
      ]
     },
     "execution_count": 2,
     "metadata": {},
     "output_type": "execute_result"
    }
   ],
   "source": [
    "dir(datetime.datetime)"
   ]
  },
  {
   "cell_type": "code",
   "execution_count": 3,
   "metadata": {},
   "outputs": [
    {
     "name": "stdout",
     "output_type": "stream",
     "text": [
      "2019-04-04 10:05:26.757083\n"
     ]
    }
   ],
   "source": [
    "print(datetime.datetime.now())"
   ]
  },
  {
   "cell_type": "code",
   "execution_count": 5,
   "metadata": {},
   "outputs": [
    {
     "name": "stdout",
     "output_type": "stream",
     "text": [
      "2019-04-04\n"
     ]
    }
   ],
   "source": [
    "#To extract date\n",
    "\n",
    "print(datetime.datetime.today().date())"
   ]
  },
  {
   "cell_type": "code",
   "execution_count": 6,
   "metadata": {},
   "outputs": [
    {
     "name": "stdout",
     "output_type": "stream",
     "text": [
      "10:07:05.332237\n"
     ]
    }
   ],
   "source": [
    "#To extract time\n",
    "\n",
    "print(datetime.datetime.today().time())"
   ]
  },
  {
   "cell_type": "code",
   "execution_count": 8,
   "metadata": {},
   "outputs": [
    {
     "name": "stdout",
     "output_type": "stream",
     "text": [
      "2019\n"
     ]
    }
   ],
   "source": [
    "#To extract year\n",
    "\n",
    "print(datetime.datetime.today().year)"
   ]
  },
  {
   "cell_type": "code",
   "execution_count": 22,
   "metadata": {},
   "outputs": [
    {
     "name": "stdout",
     "output_type": "stream",
     "text": [
      "4\n",
      "April\n",
      "13\n",
      "4\n",
      "094\n",
      "day of the month : 04\n",
      "day of the Week : Thursday\n"
     ]
    }
   ],
   "source": [
    "#to extract month\n",
    "\n",
    "print(datetime.datetime.today().month)\n",
    "\n",
    "#month in string\n",
    "print(datetime.datetime.today().strftime('%B'))\n",
    "\n",
    "#week number of year\n",
    "print(datetime.datetime.today().strftime('%W'))\n",
    "\n",
    "#week day of week\n",
    "print(datetime.datetime.today().strftime('%w'))\n",
    "\n",
    "#day of the year (out of 365)\n",
    "print(datetime.datetime.today().strftime('%j'))\n",
    "\n",
    "#day of the month\n",
    "print('day of the month :',datetime.datetime.today().strftime('%d'))\n",
    "\n",
    "#day of the Week(in string)\n",
    "print('day of the Week :', datetime.datetime.today().strftime('%A'))"
   ]
  },
  {
   "cell_type": "code",
   "execution_count": 1,
   "metadata": {},
   "outputs": [
    {
     "name": "stdout",
     "output_type": "stream",
     "text": [
      "Enter your name : Shraddha\n",
      "Your name is  Shraddha\n"
     ]
    }
   ],
   "source": [
    "#Asking user for the input\n",
    "\n",
    "s = input('Enter your name : ') \n",
    "#always a string is taken as input via user\n",
    "\n",
    "print('Your name is ', s)\n",
    "\n"
   ]
  },
  {
   "cell_type": "code",
   "execution_count": 5,
   "metadata": {},
   "outputs": [
    {
     "name": "stdout",
     "output_type": "stream",
     "text": [
      "Enter a number : 10\n",
      "Answer :  15\n"
     ]
    }
   ],
   "source": [
    "#Take number from user and increment by 5\n",
    "\n",
    "num = input('Enter a number : ')\n",
    "num = int(num)\n",
    "print('Answer : ', num+5)"
   ]
  },
  {
   "cell_type": "code",
   "execution_count": 11,
   "metadata": {},
   "outputs": [
    {
     "name": "stdout",
     "output_type": "stream",
     "text": [
      "Enter your name : shraddha\n",
      "Welcome, shraddha !\n"
     ]
    }
   ],
   "source": [
    "#Print welcome message after taking input from user\n",
    "\n",
    "name = input('Enter your name : ')\n",
    "print('Welcome,', name, '!')"
   ]
  },
  {
   "cell_type": "code",
   "execution_count": 24,
   "metadata": {},
   "outputs": [
    {
     "name": "stdout",
     "output_type": "stream",
     "text": [
      "Enter number of hours :345\n",
      "Enter rate/hour : 34\n",
      "Gross pay(Rs.) :  11730\n"
     ]
    }
   ],
   "source": [
    "#input no. of hours and rate/hour to compute gross pay\n",
    "#ALso check if given input is number or not\n",
    "\n",
    "hour = input('Enter number of hours :')\n",
    "rate = input('Enter rate/hour : ')\n",
    "if hour.isdigit() == False or rate.isdigit() == False :\n",
    "    print('Warning - Enter only numbers!!')\n",
    "else :\n",
    "    print ('Gross pay(Rs.) : ', int(hour)*int(rate))"
   ]
  },
  {
   "cell_type": "code",
   "execution_count": 25,
   "metadata": {},
   "outputs": [],
   "source": [
    "#Multiple line comments - select the bloak and ctrl+/\n",
    "\n",
    "# dfkghkjdf\n",
    "# dsfhgd\n",
    "# sdfgks\n",
    "# sdfghtak\n"
   ]
  },
  {
   "cell_type": "code",
   "execution_count": 27,
   "metadata": {},
   "outputs": [],
   "source": [
    "#Conditional Execution\n",
    "\n",
    "#Boolean\n",
    "\n",
    "#x is y  ======  x==y\n",
    "\n",
    "#Logical - and. or, not\n"
   ]
  },
  {
   "cell_type": "code",
   "execution_count": 31,
   "metadata": {},
   "outputs": [
    {
     "name": "stdout",
     "output_type": "stream",
     "text": [
      "Enter number 1 : 3\n",
      "Enter number 2 : 4\n",
      "4 is greater than 3\n"
     ]
    }
   ],
   "source": [
    "#Find greater number\n",
    "\n",
    "num1 = input('Enter number 1 : ')\n",
    "num2 = input('Enter number 2 : ')\n",
    "\n",
    "num1 = int(num1)\n",
    "num2 = int(num2)\n",
    "\n",
    "if num1 > num2 :\n",
    "    print(num1, 'is greater than', num2)\n",
    "elif num1 < num2 :\n",
    "    print(num2, 'is greater than', num1)    \n",
    "else :\n",
    "    print(num1, 'is equal to', num2)\n",
    "    \n"
   ]
  },
  {
   "cell_type": "code",
   "execution_count": 33,
   "metadata": {},
   "outputs": [
    {
     "name": "stdout",
     "output_type": "stream",
     "text": [
      "Enter number 1 : 3\n",
      "Enter number 2 : 4\n",
      "4 is greater than 3\n"
     ]
    }
   ],
   "source": [
    "#Variation 2\n",
    "\n",
    "#Find greater number\n",
    "\n",
    "num1 = input('Enter number 1 : ')\n",
    "num2 = input('Enter number 2 : ')\n",
    "\n",
    "num1 = int(num1)\n",
    "num2 = int(num2)\n",
    "\n",
    "if num1 > num2 :\n",
    "    print(num1, 'is greater than', num2)\n",
    "else:\n",
    "    if num1 < num2 :\n",
    "        print(num2, 'is greater than', num1)    \n",
    "    else :\n",
    "        print(num1, 'is equal to', num2)"
   ]
  },
  {
   "cell_type": "code",
   "execution_count": 42,
   "metadata": {},
   "outputs": [
    {
     "name": "stdout",
     "output_type": "stream",
     "text": [
      "Enter score : 5\n",
      "Invalid input for score\n"
     ]
    }
   ],
   "source": [
    "#Write a program to print a grade\n",
    "\n",
    "score = input('Enter score : ')\n",
    "score = float(score)\n",
    "\n",
    "if score >= 0.9 and score <=1 :\n",
    "    print('Grade : A')\n",
    "elif score >= 0.8 and score < 0.9 :\n",
    "    print('Grade : B')\n",
    "elif score >= 0.7 and score < 0.8 :\n",
    "    print('Grade : C')\n",
    "elif score >= 0.6 and score < 0.7:\n",
    "    print('Grade : D')\n",
    "elif score < 0.6 and score >= 0.0 :\n",
    "    print('Grade : F')\n",
    "else :\n",
    "    print('Invalid input for score')\n",
    "    "
   ]
  },
  {
   "cell_type": "code",
   "execution_count": 44,
   "metadata": {},
   "outputs": [
    {
     "name": "stdout",
     "output_type": "stream",
     "text": [
      "Enter a numer : dfg\n",
      "WARNING - Print only numbers!!\n"
     ]
    }
   ],
   "source": [
    "#try except block\n",
    "\n",
    "num = input('Enter a numer : ')\n",
    "\n",
    "try :\n",
    "    num = int(num)\n",
    "    print(num + 5)\n",
    "except :\n",
    "    print('WARNING - Print only numbers!!')"
   ]
  },
  {
   "cell_type": "code",
   "execution_count": 54,
   "metadata": {},
   "outputs": [
    {
     "name": "stdout",
     "output_type": "stream",
     "text": [
      "Enter a number : dfd\n",
      "Enter only numbers\n"
     ]
    }
   ],
   "source": [
    "#try except Example 2\n",
    "\n",
    "num = input('Enter a number : ')\n",
    "try :\n",
    "    num = int(num)\n",
    "    rem = 100 / num\n",
    "except ZeroDivisionError :\n",
    "    print('Number cannot be divided by 0')\n",
    "except Exception :\n",
    "    print('Enter only numbers')\n",
    "#elseis optional\n",
    "else :\n",
    "    print(rem)"
   ]
  },
  {
   "cell_type": "code",
   "execution_count": 56,
   "metadata": {},
   "outputs": [
    {
     "name": "stdout",
     "output_type": "stream",
     "text": [
      "Enter temperature in Fahrenheit : df\n",
      "Please enter only digits\n"
     ]
    }
   ],
   "source": [
    "#Write a program to convert Fah to Celsius\n",
    "\n",
    "tempInFah = input('Enter temperature in Fahrenheit : ')\n",
    "\n",
    "try :\n",
    "    tempInFah = float(tempInFah)\n",
    "    tempInCelsius = ( tempInFah - 32 ) * ( 5 / 9 )\n",
    "except :\n",
    "    print('Please enter only digits')\n",
    "else :\n",
    "    print('Temperature : ', tempInCelsius)"
   ]
  },
  {
   "cell_type": "code",
   "execution_count": null,
   "metadata": {},
   "outputs": [],
   "source": [
    "# Write a code to print name in reverse order\n",
    "\n",
    "# firstname = input('Enter first name :')\n",
    "# lastname = input('Enter last name :')\n",
    "\n",
    "#alternate\n",
    "firstname, lastname = input('Enter your firstname, lastname :').split(',')\n",
    "\n",
    "print('Name :', lastname + ' ' + firstname)\n",
    "print('NAme :', lastname, firstname)"
   ]
  },
  {
   "cell_type": "markdown",
   "metadata": {},
   "source": [
    "\n",
    "number = input('Enter a number(1-7) : ')\n",
    "\n",
    "if number == 1 :\n"
   ]
  },
  {
   "cell_type": "code",
   "execution_count": null,
   "metadata": {},
   "outputs": [],
   "source": [
    "#write a program to print color of rainbow\n",
    "\n",
    "number = input('Enter a number(0-7) : ')\n",
    "number = int(number)\n",
    "if number == 1 :\n",
    "    print('Violet')\n",
    "elif number == 2 :\n",
    "    print('Indigo')\n",
    "elif number == 3 :\n",
    "    print('Blue')\n",
    "elif number == 4 :\n",
    "    print('Green')\n",
    "elif number == 5 :\n",
    "    print('Yellow')\n",
    "elif number == 6 :\n",
    "    print('Orange')\n",
    "elif number == 7 :\n",
    "    print('Red')\n",
    "else :\n",
    "    print('Number out of range')"
   ]
  },
  {
   "cell_type": "code",
   "execution_count": null,
   "metadata": {},
   "outputs": [],
   "source": [
    "#write a program to print color of rainbow\n",
    "\n",
    "number = input('Enter a number(0-7) : ')\n",
    "number = int(number)\n",
    "if number == 1 :\n",
    "    print('Violet')\n",
    "elif number == 2 :\n",
    "    print('Indigo')\n",
    "elif number == 3 :\n",
    "    print('Blue')\n",
    "elif number == 4 :\n",
    "    print('Green')\n",
    "elif number == 5 :\n",
    "    print('Yellow')\n",
    "elif number == 6 :\n",
    "    print('Orange')\n",
    "elif number == 7 :\n",
    "    print('Red')\n",
    "else :\n",
    "    print('Number out of range')"
   ]
  },
  {
   "cell_type": "code",
   "execution_count": 6,
   "metadata": {},
   "outputs": [
    {
     "ename": "IndentationError",
     "evalue": "unexpected indent (<ipython-input-6-23ad75068b79>, line 5)",
     "output_type": "error",
     "traceback": [
      "\u001b[1;36m  File \u001b[1;32m\"<ipython-input-6-23ad75068b79>\"\u001b[1;36m, line \u001b[1;32m5\u001b[0m\n\u001b[1;33m    num = int(num)\u001b[0m\n\u001b[1;37m    ^\u001b[0m\n\u001b[1;31mIndentationError\u001b[0m\u001b[1;31m:\u001b[0m unexpected indent\n"
     ]
    }
   ],
   "source": [
    "#write a program to print color of rainbow\n",
    "\n",
    "num = input('Enter a number : ')\n",
    "try:\n",
    "    num = int(num)\n",
    "    if num == 1 :\n",
    "        print('Violet')\n",
    "    elif num == 2 :\n",
    "        print('Indigo')\n",
    "    elif num == 3 :\n",
    "        print('Blue')\n",
    "    elif num == 4 :\n",
    "        print('Green')\n",
    "    elif num == 5 :\n",
    "        print('Yellow')\n",
    "    elif num == 6 :\n",
    "        print('Orange')\n",
    "    elif num == 7 :\n",
    "        print('Red')\n",
    "    else :\n",
    "        print('Number out of range')\n",
    "except :\n",
    "    print('Please enter valid input.')"
   ]
  },
  {
   "cell_type": "code",
   "execution_count": 10,
   "metadata": {},
   "outputs": [
    {
     "name": "stdout",
     "output_type": "stream",
     "text": [
      "Enter a number : 56\n",
      "56 is an even number\n"
     ]
    }
   ],
   "source": [
    "#Write a program to check if number is even or odd\n",
    "\n",
    "num = input('Enter a number : ')\n",
    "try:\n",
    "    num = int(num)\n",
    "    if num % 2 == 0 :\n",
    "        print(num, 'is an even number')\n",
    "    else :\n",
    "        print(num, 'is an odd number')\n",
    "except :\n",
    "    print('Please enter valid input.')"
   ]
  },
  {
   "cell_type": "code",
   "execution_count": 20,
   "metadata": {},
   "outputs": [
    {
     "name": "stdout",
     "output_type": "stream",
     "text": [
      "Enter a letter : e\n",
      "e is a vowel\n"
     ]
    }
   ],
   "source": [
    "#Write a program to check if enter char is vowel or not\n",
    "letter = input('Enter a letter : ')\n",
    "if len(letter) == 1 and letter.isdigit() == False :\n",
    "    letter1 = letter.lower()\n",
    "    if letter1 == 'a' or letter1 == 'e' or letter1 == 'i' or letter1 == 'o' or letter1 == 'u' :\n",
    "    #alternate way - if leter1 in ['a','e','i','o','u']\n",
    "        print(letter, 'is a vowel')\n",
    "    else :\n",
    "        print(letter, 'is not a vowel')\n",
    "else :\n",
    "    print('Please enter valid input')"
   ]
  },
  {
   "cell_type": "code",
   "execution_count": 24,
   "metadata": {},
   "outputs": [
    {
     "name": "stdout",
     "output_type": "stream",
     "text": [
      "Enter a letter : df\n",
      "Please enter valid input\n"
     ]
    }
   ],
   "source": [
    "#Alternate way to write an if loop\n",
    "\n",
    "#Write a program to check if enter char is vowel or not\n",
    "letter = input('Enter a letter : ')\n",
    "if len(letter) == 1 and letter.isdigit() == False :\n",
    "    letter1 = letter.lower()\n",
    "    if letter1 in ['a','e','i','o','u'] :\n",
    "        print(letter, 'is a vowel')\n",
    "    else :\n",
    "        print(letter, 'is not a vowel')\n",
    "else :\n",
    "    print('Please enter valid input')"
   ]
  },
  {
   "cell_type": "code",
   "execution_count": 30,
   "metadata": {},
   "outputs": [
    {
     "name": "stdout",
     "output_type": "stream",
     "text": [
      "Enter month : 8\n",
      "Enter year : 2014\n",
      "CALENDAR\n",
      "    August 2014\n",
      "Mo Tu We Th Fr Sa Su\n",
      "             1  2  3\n",
      " 4  5  6  7  8  9 10\n",
      "11 12 13 14 15 16 17\n",
      "18 19 20 21 22 23 24\n",
      "25 26 27 28 29 30 31\n",
      "\n"
     ]
    }
   ],
   "source": [
    "#5. Importing calendar library\n",
    "\n",
    "import calendar\n",
    "\n",
    "month = input('Enter month : ')\n",
    "year = input('Enter year : ')\n",
    "\n",
    "try :\n",
    "    month = int(month)\n",
    "    year = int(year)\n",
    "    print('CALENDAR')\n",
    "    print(calendar.month(year, month))\n",
    "except :\n",
    "    print('Enter numbers only')"
   ]
  },
  {
   "cell_type": "code",
   "execution_count": 36,
   "metadata": {},
   "outputs": [
    {
     "name": "stdout",
     "output_type": "stream",
     "text": [
      "Enter a number : 8\n",
      "Sum of 8 + 88 + 888 : 984\n"
     ]
    }
   ],
   "source": [
    "# 6.Write a program to compute n+nn+nnn\n",
    "\n",
    "number = input('Enter a number : ')\n",
    "\n",
    "try :\n",
    "    num1 = int(number)\n",
    "    if 0 <= num1 <= 9 :\n",
    "        sum = int(number) + int(number+number) + int(number+number+number)\n",
    "        print('Sum of', number,'+',number+number, '+', number+number+number, ':', sum)\n",
    "    \n",
    "    else :\n",
    "        print('Enter a single digit number')\n",
    "except :\n",
    "    print('Enter valid input')"
   ]
  },
  {
   "cell_type": "code",
   "execution_count": 23,
   "metadata": {},
   "outputs": [
    {
     "name": "stdout",
     "output_type": "stream",
     "text": [
      "Enter radius of circle :sdf\n",
      "Enter only integers!\n"
     ]
    }
   ],
   "source": [
    "#7. Caculate area of circle\n",
    "\n",
    "radius = input('Enter radius of circle :')\n",
    "try :\n",
    "    area = 3.14 * ( int(radius) ** 2 )\n",
    "    print('Area of circle :', area)\n",
    "except :\n",
    "    print('Enter only integers!')"
   ]
  },
  {
   "cell_type": "code",
   "execution_count": 11,
   "metadata": {},
   "outputs": [
    {
     "name": "stdout",
     "output_type": "stream",
     "text": [
      "Enter number 1 : er\n",
      "Enter number 2 : er\n",
      "Enter only integers\n"
     ]
    }
   ],
   "source": [
    "# 8.Write a code to return true on given conditions\n",
    "\n",
    "number1 = input('Enter number 1 : ')\n",
    "number2 = input('Enter number 2 : ')\n",
    "\n",
    "try:\n",
    "    number1 = int(number1)\n",
    "    number2 = int(number2)\n",
    "    if ( ((number1-number2) or (number2-number1)) == 5 )or number1 == number2:\n",
    "        print('True')\n",
    "    else :\n",
    "        print('False')\n",
    "except:\n",
    "    print('Enter only integers')"
   ]
  },
  {
   "cell_type": "code",
   "execution_count": 15,
   "metadata": {},
   "outputs": [
    {
     "name": "stdout",
     "output_type": "stream",
     "text": [
      "Enter principal amount : 50000\n",
      "Enter rate of interest() : 6\n",
      "Enter time in years :5\n",
      "Interest amount: 15000.0\n",
      "Total amount : 65000.0\n"
     ]
    }
   ],
   "source": [
    "#9. Compute rate of interest\n",
    "\n",
    "principal = input('Enter principal amount : ')\n",
    "rate = input('Enter rate of interest() : ')\n",
    "time = input('Enter time in years :')\n",
    "\n",
    "try :\n",
    "    interest = ( int(principal) * int(rate) * int(time) ) / 100\n",
    "    print('Interest amount:', interest)\n",
    "    print('Total amount :', int(principal) + interest )\n",
    "except :\n",
    "    print('Enter only integers!')"
   ]
  },
  {
   "cell_type": "code",
   "execution_count": 44,
   "metadata": {},
   "outputs": [
    {
     "name": "stdout",
     "output_type": "stream",
     "text": [
      "Enter a string : 45\n",
      "Output :  4545\n"
     ]
    }
   ],
   "source": [
    "# 10. String slicing\n",
    "\n",
    "string = input('Enter a string : ')\n",
    "if len(string) >= 2 :\n",
    "    print('Output : ', string[0:2]+string[-2:])\n",
    "else : \n",
    "    print('Empty String')"
   ]
  },
  {
   "cell_type": "code",
   "execution_count": 47,
   "metadata": {},
   "outputs": [
    {
     "name": "stdout",
     "output_type": "stream",
     "text": [
      "Enter a string : sdf\n",
      "sdfing\n"
     ]
    }
   ],
   "source": [
    "# 12. String manipulation. length greater than 3. add 'ing' or add 'ly'\n",
    "\n",
    "string = input('Enter a string : ')\n",
    "if len(string) >= 3 :\n",
    "    if string[-3:] == 'ing' :\n",
    "        print(string + 'ly')\n",
    "    else :\n",
    "        print(string + 'ing')\n",
    "else :\n",
    "    print('Enter a string having greater than 3 characters')"
   ]
  },
  {
   "cell_type": "code",
   "execution_count": 20,
   "metadata": {},
   "outputs": [
    {
     "name": "stdout",
     "output_type": "stream",
     "text": [
      "Count : 4\n",
      "I felt sad because I saw the others were sad and because I knew I should feel sad, but I wasn't really sad\n"
     ]
    }
   ],
   "source": [
    "# 13/14. count occurence of word happy\n",
    "\n",
    "s = 'I felt happy because I saw the others were happy and because I knew I should feel happy, but I wasn\\'t really happy'\n",
    "\n",
    "print('Count :', s.count('happy'))\n",
    "print(s.replace('happy', 'sad'))"
   ]
  },
  {
   "cell_type": "code",
   "execution_count": 21,
   "metadata": {},
   "outputs": [
    {
     "name": "stdout",
     "output_type": "stream",
     "text": [
      "2019-04-02\n"
     ]
    }
   ],
   "source": [
    "#15.\n",
    "import datetime\n",
    "print(datetime.datetime.today().date() - datetime.timedelta(5))"
   ]
  },
  {
   "cell_type": "markdown",
   "metadata": {},
   "source": [
    "                                      # Lecture 3 - 08/04/2019 "
   ]
  },
  {
   "cell_type": "code",
   "execution_count": 8,
   "metadata": {},
   "outputs": [
    {
     "name": "stdout",
     "output_type": "stream",
     "text": [
      "The product of 4 and 6 is 24\n",
      "The product of 4 and 6 is 24\n",
      "A B C D\n",
      "A-B-C-D$A-B-C-D"
     ]
    }
   ],
   "source": [
    "x = 4\n",
    "y = 6\n",
    "z = x*y\n",
    "print('The product of %d and %d is %d' %(x, y, z))\n",
    "\n",
    "print('The product of {0} and {1} is {2}'.format(x, y, z))\n",
    "\n",
    "print('A', 'B', 'C', 'D')\n",
    "\n",
    "print('A', 'B', 'C', 'D', sep='-', end='$') #to end with $\n",
    "\n",
    "print('A', 'B', 'C', 'D', sep='-', end='') #to start with the same line\n",
    "\n",
    "\n",
    "# {0:b} - convert number to binary form  - TODO\n",
    "\n",
    "\n"
   ]
  },
  {
   "cell_type": "markdown",
   "metadata": {},
   "source": [
    "# Logical Operators\n",
    "\n",
    "NOT, AND, OR\n",
    "\n",
    "Try Catch - Exception handling"
   ]
  },
  {
   "cell_type": "markdown",
   "metadata": {},
   "source": [
    "# Functions and Iterations\n",
    "\n",
    "TO DO \n",
    "\n",
    "- type conversion\n",
    "- random numbers\n"
   ]
  },
  {
   "cell_type": "code",
   "execution_count": 58,
   "metadata": {},
   "outputs": [
    {
     "name": "stdout",
     "output_type": "stream",
     "text": [
      "29\n",
      "0.8179828644296319\n",
      "5\n",
      "[10, 69, 11, 20, 50, 73, 48, 76, 15, 13]\n",
      "range(0, 10)\n"
     ]
    }
   ],
   "source": [
    "#Random numbers\n",
    "\n",
    "import random\n",
    "\n",
    "print(random.randint(10, 56))\n",
    "\n",
    "#print(random.seed(10)) #for this seed value, it'll be same\n",
    "\n",
    "print(random.random()) #returns value in range [0.0, 1.0)\n",
    "\n",
    "# help(random)\n",
    "\n",
    "print(random.choice(['A', 'B', 1, 4, 'D', 5])) #choses out of the choice given\n",
    "\n",
    "print(random.sample(range(1, 80), 10)) #pick 10 in range given. \n",
    "# in range, 1 is inclusive, 80 is exclusive\n",
    "\n",
    "print(range(10)) #if no start value is provided, it'll be considered as 0\n",
    "\n"
   ]
  },
  {
   "cell_type": "markdown",
   "metadata": {},
   "source": [
    "# Math Functions\n",
    "\n",
    "Will always return a float value irrespective of whatever value given"
   ]
  },
  {
   "cell_type": "code",
   "execution_count": 63,
   "metadata": {},
   "outputs": [
    {
     "name": "stdout",
     "output_type": "stream",
     "text": [
      "3\n",
      "2\n",
      "3.0\n"
     ]
    }
   ],
   "source": [
    "import math as m  #alias\n",
    "\n",
    "print(math.ceil(2.3))\n",
    "\n",
    "print(math.floor(2.3))\n",
    "\n",
    "print(m.fabs(3))\n",
    "\n"
   ]
  },
  {
   "cell_type": "markdown",
   "metadata": {},
   "source": [
    "# Adding New Functions\n",
    "\n",
    "- defined with keyword def\n",
    "- function that returns a value called Fruitful function\n",
    "- function that doesn't return anything called void functions\n",
    "- when we pass values, they are called arguments\n",
    "- in definition, the values are called parameters\n",
    "\n"
   ]
  },
  {
   "cell_type": "code",
   "execution_count": 68,
   "metadata": {},
   "outputs": [
    {
     "name": "stdout",
     "output_type": "stream",
     "text": [
      "Enter first number : 56\n",
      "Enter second number : 4\n",
      "Sum is 60\n"
     ]
    }
   ],
   "source": [
    "def addTwo(a, b) :\n",
    "    return a+b\n",
    "\n",
    "num1 = int(input('Enter first number : '))\n",
    "num2 = int(input('Enter second number : '))\n",
    "result = addTwo(num1, num2)\n",
    "print('Sum is', result)"
   ]
  },
  {
   "cell_type": "markdown",
   "metadata": {},
   "source": [
    "Practice codes"
   ]
  },
  {
   "cell_type": "code",
   "execution_count": 73,
   "metadata": {},
   "outputs": [
    {
     "name": "stdout",
     "output_type": "stream",
     "text": [
      "Enter first number : 60\n",
      "Enter second number : 30\n",
      "Average is 45\n",
      "Avg of 60 and 30 is 45\n"
     ]
    }
   ],
   "source": [
    "# Average of two numbers\n",
    "\n",
    "def avg(num1, num2) :\n",
    "    return (num1+num2)//2\n",
    "\n",
    "# // - used for integer division\n",
    "\n",
    "\n",
    "num1 = int(input('Enter first number : '))\n",
    "num2 = int(input('Enter second number : '))\n",
    "result = avg(num1, num2)\n",
    "print('Average is', result)\n",
    "print('Avg of %d and %d is %d' %(num1, num2, result))"
   ]
  },
  {
   "cell_type": "code",
   "execution_count": 75,
   "metadata": {},
   "outputs": [
    {
     "name": "stdout",
     "output_type": "stream",
     "text": [
      "Enter first number : 10\n",
      "Enter second number : 20\n",
      "Square of sum of 10 and 20 is 900\n"
     ]
    }
   ],
   "source": [
    "#Find square of sum of numbers\n",
    "\n",
    "def squareOfSum(num1, num2) :\n",
    "    return (num1+num2)**2\n",
    "\n",
    "# // - used for integer division\n",
    "\n",
    "\n",
    "num1 = int(input('Enter first number : '))\n",
    "num2 = int(input('Enter second number : '))\n",
    "result = squareOfSum(num1, num2)\n",
    "\n",
    "print('Square of sum of %d and %d is %d' %(num1, num2, result))"
   ]
  },
  {
   "cell_type": "code",
   "execution_count": 80,
   "metadata": {},
   "outputs": [
    {
     "name": "stdout",
     "output_type": "stream",
     "text": [
      "Enter first number : 6\n",
      "Enter second number : 5\n",
      "Enter third number : 6\n",
      "Maximum number :  6\n"
     ]
    }
   ],
   "source": [
    "#Find max of 3 numbers\n",
    "\n",
    "def maxOfThree(num1, num2, num3) :\n",
    "    if num1 >= num2 and num1 >= num3 :\n",
    "        return num1\n",
    "    elif num2 >= num1 and num2 >= num3 :\n",
    "        return num2\n",
    "    elif num3 >= num1 and num3 >= num2 :\n",
    "        return num3\n",
    "    else :\n",
    "        return 0\n",
    "\n",
    "# // - used for integer division\n",
    "\n",
    "\n",
    "num1 = int(input('Enter first number : '))\n",
    "num2 = int(input('Enter second number : '))\n",
    "num3 = int(input('Enter third number : '))\n",
    "\n",
    "result = maxOfThree(num1, num2, num3)\n",
    "print('Maximum number : ', result)\n",
    "\n"
   ]
  },
  {
   "cell_type": "code",
   "execution_count": 87,
   "metadata": {},
   "outputs": [
    {
     "name": "stdout",
     "output_type": "stream",
     "text": [
      "Enter a number : 12\n",
      "12 is not a valid number\n"
     ]
    }
   ],
   "source": [
    "#Check whether number is between 50 and 100\n",
    "\n",
    "def checkRange(num1) :\n",
    "    if num1 in range(50,101) :\n",
    "        return 1\n",
    "    else :\n",
    "        return 0\n",
    "    \n",
    "\n",
    "number = int(input('Enter a number : '))\n",
    "result = checkRange(number)\n",
    "if result == 1 :\n",
    "    print('%d is a valid number' %(number))\n",
    "else :\n",
    "    print('%d is not a valid number' %(number))\n",
    "    "
   ]
  },
  {
   "cell_type": "markdown",
   "metadata": {},
   "source": [
    "# Iterations"
   ]
  },
  {
   "cell_type": "code",
   "execution_count": 96,
   "metadata": {},
   "outputs": [
    {
     "name": "stdout",
     "output_type": "stream",
     "text": [
      "10 9 8 7 6 5 4 3 2 1 Done\n"
     ]
    }
   ],
   "source": [
    "#while loop\n",
    "\n",
    "#while could be used with 'else'\n",
    "#with break, while comes out of while loop, else wouldnt be executed\n",
    "\n",
    "\n",
    "n = 10\n",
    "while n > 0 :\n",
    "    print(n, end=' ')\n",
    "    n = n-1\n",
    "print('Done')"
   ]
  },
  {
   "cell_type": "code",
   "execution_count": 98,
   "metadata": {},
   "outputs": [
    {
     "name": "stdout",
     "output_type": "stream",
     "text": [
      "9876"
     ]
    }
   ],
   "source": [
    "n = 10\n",
    "\n",
    "while n > 0 :\n",
    "    if n == 6 :\n",
    "        break #breaks the loop\n",
    "    n = n - 1\n",
    "    print(n, end='')\n",
    "    \n"
   ]
  },
  {
   "cell_type": "code",
   "execution_count": 103,
   "metadata": {},
   "outputs": [
    {
     "name": "stdout",
     "output_type": "stream",
     "text": [
      "9 8 7 6 4 3 2 1 0 Done\n"
     ]
    }
   ],
   "source": [
    "#Print n if it is 6\n",
    "\n",
    "#continue - will break the flow and continue execution from the loop\n",
    "\n",
    "n = 10\n",
    "while n > 0 :\n",
    "    if n == 6 :\n",
    "        n = n-1\n",
    "        continue\n",
    "    else :\n",
    "        n = n-1\n",
    "    print(n, end = \" \")\n",
    "print('Done')"
   ]
  },
  {
   "cell_type": "code",
   "execution_count": 112,
   "metadata": {},
   "outputs": [
    {
     "name": "stdout",
     "output_type": "stream",
     "text": [
      "0 1 2 3 4 5 6 7 8 9 \n",
      "\n",
      "1 2 3 4 5 6 7 8 9 \n",
      "\n",
      "1 3 5 7 9 \n",
      "\n",
      "10 9 8 7 6 5 4 3 2 "
     ]
    }
   ],
   "source": [
    "#For loop\n",
    "\n",
    "for n in range(10) :\n",
    "    print(n, end = ' ')\n",
    "  \n",
    "print('\\n')\n",
    "for n in range(1,10) :\n",
    "    print(n, end = ' ')\n",
    "print('\\n')   \n",
    "for n in range(1,10, 2) :\n",
    "    print(n, end = ' ')\n",
    "    \n",
    "print('\\n')\n",
    "for n in range(10, 1, -1) :\n",
    "    print(n, end = ' ')"
   ]
  },
  {
   "cell_type": "code",
   "execution_count": 116,
   "metadata": {},
   "outputs": [
    {
     "name": "stdout",
     "output_type": "stream",
     "text": [
      "3 Threez\n",
      "5 Fiveez\n",
      "6 Threez\n",
      "9 Threez\n",
      "10 Fiveez\n",
      "12 Threez\n",
      "15 ThreezFiveez\n",
      "18 Threez\n",
      "20 Fiveez\n",
      "21 Threez\n",
      "24 Threez\n",
      "25 Fiveez\n",
      "27 Threez\n",
      "30 ThreezFiveez\n",
      "33 Threez\n",
      "35 Fiveez\n",
      "36 Threez\n",
      "39 Threez\n",
      "40 Fiveez\n",
      "42 Threez\n",
      "45 ThreezFiveez\n",
      "48 Threez\n",
      "50 Fiveez\n"
     ]
    }
   ],
   "source": [
    "#practice code - to check multiple of 3 AND5\n",
    "\n",
    "for i in range(1,51) :\n",
    "    if i%3 == 0 and i%5 == 0 :\n",
    "        print(i, 'ThreezFiveez')\n",
    "    elif i%5 == 0 :\n",
    "        print(i, 'Fiveez')\n",
    "    elif i%3 == 0 :\n",
    "        print(i, 'Threez')"
   ]
  },
  {
   "cell_type": "code",
   "execution_count": 120,
   "metadata": {},
   "outputs": [
    {
     "name": "stdout",
     "output_type": "stream",
     "text": [
      "Enter a  number : 5\n",
      "-1 squared is 1\n",
      "-2 squared is 4\n",
      "-3 squared is 9\n",
      "-4 squared is 16\n",
      "-5 squared is 25\n"
     ]
    }
   ],
   "source": [
    "# 2. Input : number. Find square till the number\n",
    "\n",
    "num1 = int(input('Enter a  number : '))\n",
    "\n",
    "for i in range(1,num1+1) :\n",
    "    print('-%d squared is %d' %(i, i**2))"
   ]
  },
  {
   "cell_type": "code",
   "execution_count": 129,
   "metadata": {},
   "outputs": [
    {
     "name": "stdout",
     "output_type": "stream",
     "text": [
      "Enter a number : 4\n",
      "Factorial : 24\n"
     ]
    }
   ],
   "source": [
    "#Find fctorial of a number\n",
    "\n",
    "num1 = int(input('Enter a number : '))\n",
    "result = 1\n",
    "while num1 > 0 :\n",
    "    result = result * num1\n",
    "    num1 = num1 - 1\n",
    "    \n",
    "print('Factorial : %d' %(result))\n",
    "\n",
    "#using for loop\n",
    "#for i in range(num, 1, -1)\n"
   ]
  },
  {
   "cell_type": "code",
   "execution_count": 132,
   "metadata": {},
   "outputs": [
    {
     "name": "stdout",
     "output_type": "stream",
     "text": [
      "Enter a number : 45\n",
      "Factorial of 45 is 119622220865480194561963161495657715064383733760000000000\n"
     ]
    }
   ],
   "source": [
    "# Factorial using recursive funtion\n",
    "\n",
    "def factorial(num) :\n",
    "    if num == 1 :\n",
    "        return 1\n",
    "    else :\n",
    "        return num*factorial(num-1)\n",
    "\n",
    "num1 = int(input('Enter a number : '))\n",
    "result = factorial(num1)\n",
    "print('Factorial of %d is %d' %(num1, result))\n",
    "\n",
    "for i in range(num1,1,-1) :\n",
    "    result = result*factorial(i)"
   ]
  },
  {
   "cell_type": "markdown",
   "metadata": {},
   "source": [
    "# Practice Code  11/04/2019"
   ]
  },
  {
   "cell_type": "code",
   "execution_count": 3,
   "metadata": {},
   "outputs": [
    {
     "name": "stdout",
     "output_type": "stream",
     "text": [
      "1 ------ 99\n",
      "2 ------ 98\n",
      "3 ------ 97\n",
      "4 ------ 96\n",
      "5 ------ 95\n",
      "6 ------ 94\n",
      "7 ------ 93\n",
      "8 ------ 92\n",
      "9 ------ 91\n",
      "10 ------ 90\n",
      "11 ------ 89\n",
      "12 ------ 88\n",
      "13 ------ 87\n",
      "14 ------ 86\n",
      "15 ------ 85\n",
      "16 ------ 84\n",
      "17 ------ 83\n",
      "18 ------ 82\n",
      "19 ------ 81\n",
      "20 ------ 80\n",
      "21 ------ 79\n",
      "22 ------ 78\n",
      "23 ------ 77\n",
      "24 ------ 76\n",
      "25 ------ 75\n",
      "26 ------ 74\n",
      "27 ------ 73\n",
      "28 ------ 72\n",
      "29 ------ 71\n",
      "30 ------ 70\n",
      "31 ------ 69\n",
      "32 ------ 68\n",
      "33 ------ 67\n",
      "34 ------ 66\n",
      "35 ------ 65\n",
      "36 ------ 64\n",
      "37 ------ 63\n",
      "38 ------ 62\n",
      "39 ------ 61\n",
      "40 ------ 60\n",
      "41 ------ 59\n",
      "42 ------ 58\n",
      "43 ------ 57\n",
      "44 ------ 56\n",
      "45 ------ 55\n",
      "46 ------ 54\n",
      "47 ------ 53\n",
      "48 ------ 52\n",
      "49 ------ 51\n",
      "50 ------ 50\n",
      "51 ------ 49\n",
      "52 ------ 48\n",
      "53 ------ 47\n",
      "54 ------ 46\n",
      "55 ------ 45\n",
      "56 ------ 44\n",
      "57 ------ 43\n",
      "58 ------ 42\n",
      "59 ------ 41\n",
      "60 ------ 40\n",
      "61 ------ 39\n",
      "62 ------ 38\n",
      "63 ------ 37\n",
      "64 ------ 36\n",
      "65 ------ 35\n",
      "66 ------ 34\n",
      "67 ------ 33\n",
      "68 ------ 32\n",
      "69 ------ 31\n",
      "70 ------ 30\n",
      "71 ------ 29\n",
      "72 ------ 28\n",
      "73 ------ 27\n",
      "74 ------ 26\n",
      "75 ------ 25\n",
      "76 ------ 24\n",
      "77 ------ 23\n",
      "78 ------ 22\n",
      "79 ------ 21\n",
      "80 ------ 20\n",
      "81 ------ 19\n",
      "82 ------ 18\n",
      "83 ------ 17\n",
      "84 ------ 16\n",
      "85 ------ 15\n",
      "86 ------ 14\n",
      "87 ------ 13\n",
      "88 ------ 12\n",
      "89 ------ 11\n",
      "90 ------ 10\n",
      "91 ------ 9\n",
      "92 ------ 8\n",
      "93 ------ 7\n",
      "94 ------ 6\n",
      "95 ------ 5\n",
      "96 ------ 4\n",
      "97 ------ 3\n",
      "98 ------ 2\n",
      "99 ------ 1\n"
     ]
    }
   ],
   "source": [
    "#print similar output\n",
    "\n",
    "for i in range(1,100):\n",
    "    print(i,'------',100-i)"
   ]
  },
  {
   "cell_type": "code",
   "execution_count": 5,
   "metadata": {},
   "outputs": [
    {
     "name": "stdout",
     "output_type": "stream",
     "text": [
      "1505\n",
      "1540\n",
      "1575\n",
      "1610\n",
      "1645\n",
      "1680\n",
      "1715\n",
      "1750\n",
      "1785\n",
      "1820\n",
      "1855\n",
      "1890\n",
      "1925\n",
      "1960\n",
      "1995\n",
      "2030\n",
      "2065\n",
      "2100\n",
      "2135\n",
      "2170\n",
      "2205\n",
      "2240\n",
      "2275\n",
      "2310\n",
      "2345\n",
      "2380\n",
      "2415\n",
      "2450\n",
      "2485\n"
     ]
    }
   ],
   "source": [
    "#Check divisibility by 5 and 7 between 1500 and 2500\n",
    "\n",
    "for i in range(1500,2501):\n",
    "    if i%5 == 0 and i%7 == 0:\n",
    "        print(i)\n",
    "    "
   ]
  },
  {
   "cell_type": "code",
   "execution_count": 9,
   "metadata": {},
   "outputs": [
    {
     "name": "stdout",
     "output_type": "stream",
     "text": [
      "Enter a string : for\n",
      "rofNone\n",
      "rof\n"
     ]
    }
   ],
   "source": [
    "#using function Reverse the string\n",
    "\n",
    "def reverse(string):\n",
    "    l = len(string)\n",
    "    for i in range(l-1, -1, -1):\n",
    "        print(string[i], end='')\n",
    "    \n",
    "\n",
    "str1 = input('Enter a string : ')\n",
    "print(reverse(str1))\n",
    "print(str1[-1::-1])"
   ]
  },
  {
   "cell_type": "code",
   "execution_count": 15,
   "metadata": {},
   "outputs": [
    {
     "name": "stdout",
     "output_type": "stream",
     "text": [
      "*\n",
      "**\n",
      "***\n",
      "****\n",
      "*****\n",
      "******\n",
      "*****\n",
      "****\n",
      "***\n",
      "**\n",
      "*\n"
     ]
    }
   ],
   "source": [
    "#4. Print the pattern\n",
    "\n",
    "# *\n",
    "# **\n",
    "# ***\n",
    "# ****\n",
    "# *****\n",
    "# ****\n",
    "# ***\n",
    "# **\n",
    "# *\n",
    "\n",
    "\n",
    "for i in range(5):\n",
    "    for j in range(i):\n",
    "        print('*', end='')\n",
    "    print('*')\n",
    "for i in range(5,-1,-1):\n",
    "    for j in range(i):\n",
    "        print('*', end='')\n",
    "    print('*')\n",
    "    \n",
    "# Check this code \n",
    "#for j in range(5,0):\n",
    "#     print('*'*j)\n",
    "\n"
   ]
  },
  {
   "cell_type": "code",
   "execution_count": 12,
   "metadata": {},
   "outputs": [
    {
     "name": "stdout",
     "output_type": "stream",
     "text": [
      "Enter 1st number :12\n",
      "Enter 2nd number :89\n",
      "12 14 16 18 20 22 24 26 28 30 32 34 36 38 40 42 44 46 48 50 52 54 56 58 60 62 64 66 68 70 72 74 76 78 80 82 84 86 88 "
     ]
    }
   ],
   "source": [
    "#Function to print all even \n",
    "\n",
    "def printEven(n1, n2):\n",
    "    if(n2>n1) :\n",
    "        for i in range(n1, n2+1):\n",
    "            if(i%2 == 0):\n",
    "                print(i, end=' ')\n",
    "    else:\n",
    "        print('Second number has to greater than first number!')\n",
    "            \n",
    "number1 = int(input('Enter 1st number :'))\n",
    "number2 = int(input('Enter 2nd number :'))\n",
    "printEven(number1, number2)"
   ]
  },
  {
   "cell_type": "code",
   "execution_count": 16,
   "metadata": {},
   "outputs": [
    {
     "data": {
      "text/plain": [
       "'hello world'"
      ]
     },
     "execution_count": 16,
     "metadata": {},
     "output_type": "execute_result"
    }
   ],
   "source": [
    "'hello world'"
   ]
  },
  {
   "cell_type": "markdown",
   "metadata": {},
   "source": [
    "# String Manipulation\n",
    "\n",
    "- strings are immutable"
   ]
  },
  {
   "cell_type": "code",
   "execution_count": 20,
   "metadata": {},
   "outputs": [
    {
     "name": "stdout",
     "output_type": "stream",
     "text": [
      "Statistics for Data Science\n"
     ]
    }
   ],
   "source": [
    "s = 'Python for Data Science'\n",
    "s1 = 'Statistics ' + s[7:]\n",
    "print(s1)"
   ]
  },
  {
   "cell_type": "code",
   "execution_count": 25,
   "metadata": {},
   "outputs": [
    {
     "name": "stdout",
     "output_type": "stream",
     "text": [
      "Enter string : tissues\n",
      "Enter search character :s\n",
      "s appears 3 times in tissues\n"
     ]
    }
   ],
   "source": [
    "#Input string and character to be searched and give the count\n",
    "\n",
    "def countChar(string, char):\n",
    "    count = string.count(char)\n",
    "    return count\n",
    "    \n",
    "string = input('Enter string : ')\n",
    "char = input('Enter search character :')\n",
    "print('%s appears %d times in %s' %(char, countChar(string,char), string))"
   ]
  },
  {
   "cell_type": "markdown",
   "metadata": {},
   "source": [
    "In operator in string"
   ]
  },
  {
   "cell_type": "code",
   "execution_count": 27,
   "metadata": {},
   "outputs": [
    {
     "name": "stdout",
     "output_type": "stream",
     "text": [
      "Exists\n"
     ]
    }
   ],
   "source": [
    "if 'S' in 'TISSUES':\n",
    "    print('Exists')\n",
    "else:\n",
    "    print('Does not exist')"
   ]
  },
  {
   "cell_type": "markdown",
   "metadata": {},
   "source": [
    "# String Methods\n",
    "    - lower() \n",
    "    - upper()\n",
    "    - capatilaize - first letter\n",
    "    - title - first letter of all words capital\n",
    "    - find() - returns first index\n",
    "    - strip() - removes all the spaces"
   ]
  },
  {
   "cell_type": "code",
   "execution_count": 33,
   "metadata": {},
   "outputs": [
    {
     "name": "stdout",
     "output_type": "stream",
     "text": [
      "4\n"
     ]
    },
    {
     "data": {
      "text/plain": [
       "'Python for Data Science'"
      ]
     },
     "execution_count": 33,
     "metadata": {},
     "output_type": "execute_result"
    }
   ],
   "source": [
    "string = 'python for data science'\n",
    "\n",
    "s.capitalize()\n",
    "\n",
    "s.title()\n",
    "\n",
    "#will return first occurence of index\n",
    "s.find('o')\n",
    "\n",
    "print(s.find('o',4,10))\n",
    "\n",
    "s.strip()"
   ]
  },
  {
   "cell_type": "code",
   "execution_count": 35,
   "metadata": {},
   "outputs": [
    {
     "data": {
      "text/plain": [
       "'Python for Data Science'"
      ]
     },
     "execution_count": 35,
     "metadata": {},
     "output_type": "execute_result"
    }
   ],
   "source": [
    "s.strip()\n",
    "s.lstrip()\n",
    "s.rstrip()"
   ]
  },
  {
   "cell_type": "code",
   "execution_count": 37,
   "metadata": {},
   "outputs": [
    {
     "data": {
      "text/plain": [
       "True"
      ]
     },
     "execution_count": 37,
     "metadata": {},
     "output_type": "execute_result"
    }
   ],
   "source": [
    "#to check startts with\n",
    "s.startswith('Py')"
   ]
  },
  {
   "cell_type": "code",
   "execution_count": 43,
   "metadata": {},
   "outputs": [
    {
     "data": {
      "text/plain": [
       "'python for data science'"
      ]
     },
     "execution_count": 43,
     "metadata": {},
     "output_type": "execute_result"
    }
   ],
   "source": [
    "string = ' python for data science   '\n",
    "\n",
    "string.strip()"
   ]
  },
  {
   "cell_type": "code",
   "execution_count": 39,
   "metadata": {},
   "outputs": [
    {
     "data": {
      "text/plain": [
       "True"
      ]
     },
     "execution_count": 39,
     "metadata": {},
     "output_type": "execute_result"
    }
   ],
   "source": [
    "string.strip().startswith('py')"
   ]
  },
  {
   "cell_type": "code",
   "execution_count": 46,
   "metadata": {},
   "outputs": [
    {
     "name": "stdout",
     "output_type": "stream",
     "text": [
      "uct.ac.za\n"
     ]
    }
   ],
   "source": [
    "# Parsing strings\n",
    "\n",
    "string = 'From stephen.marquard@uct.ac.za Sat Jan 5'\n",
    "\n",
    "index1 = string.find('@')\n",
    "index2 = string.find(' ', index1)\n",
    "print(string[index1+1:index2])"
   ]
  },
  {
   "cell_type": "code",
   "execution_count": 48,
   "metadata": {},
   "outputs": [
    {
     "name": "stdout",
     "output_type": "stream",
     "text": [
      "Company has declared 3-4% hike in salary for 400 employees who are just 0.01% of Employees\n"
     ]
    }
   ],
   "source": [
    "# %d - integers\n",
    "# %g - float\n",
    "# %s - string\n",
    "print('Company has declared %d-%d%% hike in salary for %d employees who are just %g%% of Employees' %(3,4,400,0.01))"
   ]
  },
  {
   "cell_type": "code",
   "execution_count": 50,
   "metadata": {},
   "outputs": [
    {
     "name": "stdout",
     "output_type": "stream",
     "text": [
      "0.8475\n"
     ]
    }
   ],
   "source": [
    "#1.\n",
    "\n",
    "string = 'X-DSPAM-Confidence:0.8475'\n",
    "print(string[string.find(':')+1:])"
   ]
  },
  {
   "cell_type": "code",
   "execution_count": 57,
   "metadata": {},
   "outputs": [
    {
     "name": "stdout",
     "output_type": "stream",
     "text": [
      "Enter string : nick\n",
      "{'n':1,'i':1,'c':1,'k':1}\n"
     ]
    }
   ],
   "source": [
    "#2.\n",
    "\n",
    "resultString = \"{\"\n",
    "string = input('Enter string : ')\n",
    "\n",
    "for c in string :\n",
    "    if c not in resultString :\n",
    "        cnt = string.count(c)\n",
    "        resultString += \"'\" + c + \"':\" + str(cnt) + \",\"\n",
    "        \n",
    "print(resultString[0:-1] + '}')\n",
    "#print(\"{'g':%d, 'o':%d, 'l':%d, 'e':%d, '.':%d, 'c':%d, ''\")"
   ]
  },
  {
   "cell_type": "code",
   "execution_count": 58,
   "metadata": {},
   "outputs": [
    {
     "name": "stdout",
     "output_type": "stream",
     "text": [
      "Enter a string : google.com\n",
      "gol.o\n"
     ]
    }
   ],
   "source": [
    "#3. remove characters having odd index values\n",
    "\n",
    "string = input('Enter a string : ')\n",
    "print(string[0::2])\n",
    "\n"
   ]
  },
  {
   "cell_type": "code",
   "execution_count": 60,
   "metadata": {},
   "outputs": [
    {
     "name": "stdout",
     "output_type": "stream",
     "text": [
      "Enter a string : madam\n",
      "It is a palindrome\n"
     ]
    }
   ],
   "source": [
    "string = input('Enter a string : ')\n",
    "if string == string[::-1]:\n",
    "    print(\"It is a palindrome\")\n",
    "else :\n",
    "    print('It is not a palindrome')"
   ]
  },
  {
   "cell_type": "markdown",
   "metadata": {},
   "source": [
    "# File Handling\n",
    "\n",
    "- File could be opened in read 'r' mode (file should be existing)\n",
    "- write 'w' /append 'a' - write overrides the file, append adds it. If file doesnt exist it'll be created\n"
   ]
  },
  {
   "cell_type": "code",
   "execution_count": 4,
   "metadata": {},
   "outputs": [],
   "source": [
    "try :\n",
    "    fhand = open('mail.txt', 'w')\n",
    "    line1 = \"ON Sat, Nov 10, at 5:44 AM Binita Sajit <binita.s@aegis.edu.in> wrote\"\n",
    "    line2 = \"ON Sat, Nov 10, at 4:37 AM Binita Sajit <binita.s@aegis.edu.in> wrote\"\n",
    "    line3 = \"ON Sat, Nov 10, at 11:16 AM Binita Sajit <binita.s@aegis.edu.in> wrote\"\n",
    "    line4 = \"ON Sat, Nov 10, at 10:45 AM Binita Sajit <binita.s@aegis.edu.in> wrote\"\n",
    "    fhand.write(line1 +'\\n')\n",
    "    fhand.write(line2 +'\\n')\n",
    "    fhand.write(line3 +'\\n')\n",
    "    fhand.write(line4 +'\\n')\n",
    "    fhand.close()\n",
    "    fhand = open('mail.txt')\n",
    "    fhand.read()\n",
    "    fhand.close()\n",
    "except : \n",
    "    print('File doesn\\'t exist')\n",
    "    \n",
    "    "
   ]
  },
  {
   "cell_type": "code",
   "execution_count": 9,
   "metadata": {},
   "outputs": [
    {
     "name": "stdout",
     "output_type": "stream",
     "text": [
      "ON Sat, Nov 10, at 5:44 AM Binita Sajit <binita.s@aegis.edu.in> wrote\n",
      "\n",
      "ON Sat, Nov 10, at 4:37 AM Binita Sajit <binita.s@aegis.edu.in> wrote\n",
      "\n",
      "ON Sat, Nov 10, at 11:16 AM Binita Sajit <binita.s@aegis.edu.in> wrote\n",
      "\n",
      "ON Sat, Nov 10, at 10:45 AM Binita Sajit <binita.s@aegis.edu.in> wrote\n",
      "\n"
     ]
    }
   ],
   "source": [
    "#Read a line in file\n",
    "\n",
    "fhand = open('mail.txt')\n",
    "for line in fhand :\n",
    "    print(line)\n",
    "fhand.close()\n",
    "\n",
    "#type(line) will show type as string\n",
    "\n"
   ]
  },
  {
   "cell_type": "code",
   "execution_count": 15,
   "metadata": {},
   "outputs": [
    {
     "name": "stdout",
     "output_type": "stream",
     "text": [
      "Shraddha| 345| IT\n",
      "\n",
      "Sameer| 35| IT\n",
      "\n",
      "Suyash| 5| MECH\n",
      "\n",
      "Sagar| 5| CS\n",
      "\n",
      "Total records is 4\n"
     ]
    }
   ],
   "source": [
    "#1. OPen file with cCSV\n",
    "\n",
    "try :\n",
    "    fhand = open('csv.txt', 'w')\n",
    "    fhand.write('Shraddha, 345, IT\\n')\n",
    "    fhand.write('Sameer, 35, IT\\n')\n",
    "    fhand.write('Suyash, 5, MECH\\n')\n",
    "    fhand.write('Sagar, 5, CS\\n')\n",
    "    fhand.close\n",
    "    fhand = open('csv.txt')\n",
    "    count = 0\n",
    "    for line in fhand :\n",
    "        count += 1\n",
    "        print(line.replace(',','|'))\n",
    "    print('Total records is %d' %count)\n",
    "    fhand.close()\n",
    "    \n",
    "    #add a new record\n",
    "    fhand = open('csv.txt', 'a')\n",
    "    fhand.write('Vidhi, 3, Eco\\n')\n",
    "    fhand.write('Shruti, 78, EnTC\\n')\n",
    "    fhand.close()\n",
    "    \n",
    "except :\n",
    "    print('Invalid file')"
   ]
  },
  {
   "cell_type": "code",
   "execution_count": 18,
   "metadata": {},
   "outputs": [
    {
     "name": "stdout",
     "output_type": "stream",
     "text": [
      "Morning Mails conut :  3\n"
     ]
    }
   ],
   "source": [
    "#3. count number of morning mails\n",
    "\n",
    "try :\n",
    "    fhand = open('MorningMail.txt', 'w')\n",
    "    line1 = \"ON Sat, Nov 10, at 5:44 AM Binita Sajit <binita.s@aegis.edu.in> wrote\"\n",
    "    line2 = \"ON Sat, Nov 10, at 4:37 AM Binita Sajit <binita.s@aegis.edu.in> wrote\"\n",
    "    line3 = \"ON Sat, Nov 10, at 11:16 PM Binita Sajit <binita.s@aegis.edu.in> wrote\"\n",
    "    line4 = \"ON Sat, Nov 10, at 10:45 AM Binita Sajit <binita.s@aegis.edu.in> wrote\"\n",
    "    fhand.write(line1 +'\\n')\n",
    "    fhand.write(line2 +'\\n')\n",
    "    fhand.write(line3 +'\\n')\n",
    "    fhand.write(line4 +'\\n')\n",
    "    fhand.close()\n",
    "    fhand = open('MorningMail.txt')\n",
    "    count = 0\n",
    "    for line in fhand :\n",
    "        if line.find(' AM ') >= 0 :\n",
    "        #if 'AM' in line :  alternate way\n",
    "            count += 1\n",
    "    print('Morning Mails conut : ', count)\n",
    "    fhand.close()\n",
    "except : \n",
    "    print('File doesn\\'t exist')"
   ]
  },
  {
   "cell_type": "code",
   "execution_count": 22,
   "metadata": {},
   "outputs": [
    {
     "name": "stdout",
     "output_type": "stream",
     "text": [
      "SHRADDHA, 345, IT\n",
      "\n",
      "SAMEER, 35, IT\n",
      "\n",
      "SUYASH, 5, MECH\n",
      "\n",
      "SAGAR, 5, CS\n",
      "\n",
      "VIDHI, 3, ECO\n",
      "\n",
      "SHRUTI, 78, ENTC\n",
      "\n"
     ]
    }
   ],
   "source": [
    "#4. print in uppercase\n",
    "\n",
    "try:\n",
    "    fhand = open('csv.txt')\n",
    "    for line in fhand :\n",
    "        print(line.upper())\n",
    "    fhand.close()\n",
    "except:\n",
    "    print('Invalid file')\n",
    "    "
   ]
  },
  {
   "cell_type": "markdown",
   "metadata": {},
   "source": [
    "# Lists\n",
    "\n",
    "- list index starts with 0"
   ]
  },
  {
   "cell_type": "code",
   "execution_count": 33,
   "metadata": {},
   "outputs": [
    {
     "name": "stdout",
     "output_type": "stream",
     "text": [
      "<class 'list'>\n",
      "[13, 'sdf', 435, 'Strings']\n",
      "Length : 4\n",
      "Strings\n",
      "['sdf']\n"
     ]
    }
   ],
   "source": [
    "#Declaring Lists\n",
    "\n",
    "#empty strings\n",
    "lst = []\n",
    "lst = list()\n",
    "print(type(lst))\n",
    "\n",
    "lst = [13, 'sdf', 435, 'Strings']\n",
    "print(lst)\n",
    "\n",
    "print('Length :', len(lst))\n",
    "\n",
    "print(lst[3])\n",
    "print(lst[1:2])"
   ]
  },
  {
   "cell_type": "code",
   "execution_count": 2,
   "metadata": {},
   "outputs": [
    {
     "name": "stdout",
     "output_type": "stream",
     "text": [
      "[40, 30, 36, 20, 22, 44, 26]\n"
     ]
    }
   ],
   "source": [
    "list1 = [20, 15, 18, 10, 11, 22, 13]\n",
    "l = len(list1)\n",
    "for n in range(0,l) :\n",
    "    list1[n] = list1[n]*2\n",
    "    \n",
    "print(list1)\n",
    "    \n",
    "    \n",
    "\n"
   ]
  },
  {
   "cell_type": "code",
   "execution_count": 12,
   "metadata": {},
   "outputs": [
    {
     "name": "stdout",
     "output_type": "stream",
     "text": [
      "[1, 2, 3, 4, 'a', 'b', 'c']\n",
      "[1, 2, 3, 4]\n"
     ]
    }
   ],
   "source": [
    "#Concatenation\n",
    "\n",
    "lst1 = [1, 2, 3, 4]\n",
    "lst2 = ['a', 'b', 'c']\n",
    "lst3 = lst1+lst2\n",
    "print(lst3)\n",
    "\n",
    "lst4 = lst1 #for repetiotionof string\n",
    "print(lst4)"
   ]
  },
  {
   "cell_type": "code",
   "execution_count": 10,
   "metadata": {},
   "outputs": [
    {
     "name": "stdout",
     "output_type": "stream",
     "text": [
      "14\n",
      "24\n",
      "3\n"
     ]
    }
   ],
   "source": [
    "lst = [2, 4, [5, 6, [8, 9, [10, 12, 3], 4], 2], 1]\n",
    "\n",
    "lst1 = [10, 11, [13,14,[20,23,24]]]\n",
    "print(lst1[2][1])\n",
    "print(lst1[2][2][2])\n",
    "\n",
    "#3\n",
    "print(lst[2][2][2][2])"
   ]
  },
  {
   "cell_type": "code",
   "execution_count": 24,
   "metadata": {},
   "outputs": [
    {
     "name": "stdout",
     "output_type": "stream",
     "text": [
      "[10, 15, 11, 20]\n",
      "[10, 15, 11, 20, [1, 2, 3]]\n",
      "[10, 15, 11, 20, [1, 2, 3, 4]]\n",
      "[10, 15, 11, 20, [1, 2, 3, 4], 1, 2, 3, [23, 24]]\n"
     ]
    },
    {
     "ename": "TypeError",
     "evalue": "'<' not supported between instances of 'list' and 'int'",
     "output_type": "error",
     "traceback": [
      "\u001b[1;31m---------------------------------------------------------------------------\u001b[0m",
      "\u001b[1;31mTypeError\u001b[0m                                 Traceback (most recent call last)",
      "\u001b[1;32m<ipython-input-24-6c4c17607b54>\u001b[0m in \u001b[0;36m<module>\u001b[1;34m\u001b[0m\n\u001b[0;32m     20\u001b[0m \u001b[1;31m#nested lists cannot be sorted\u001b[0m\u001b[1;33m\u001b[0m\u001b[1;33m\u001b[0m\u001b[1;33m\u001b[0m\u001b[0m\n\u001b[0;32m     21\u001b[0m \u001b[0mlst4\u001b[0m \u001b[1;33m=\u001b[0m \u001b[1;33m[\u001b[0m\u001b[1;36m15\u001b[0m\u001b[1;33m,\u001b[0m \u001b[1;36m11\u001b[0m\u001b[1;33m,\u001b[0m \u001b[1;36m8\u001b[0m\u001b[1;33m,\u001b[0m \u001b[1;36m24\u001b[0m\u001b[1;33m,\u001b[0m \u001b[1;36m9\u001b[0m\u001b[1;33m,\u001b[0m \u001b[1;33m[\u001b[0m\u001b[1;36m15\u001b[0m\u001b[1;33m,\u001b[0m\u001b[1;36m10\u001b[0m\u001b[1;33m,\u001b[0m\u001b[1;36m8\u001b[0m\u001b[1;33m,\u001b[0m\u001b[1;36m9\u001b[0m\u001b[1;33m]\u001b[0m\u001b[1;33m]\u001b[0m\u001b[1;33m\u001b[0m\u001b[1;33m\u001b[0m\u001b[0m\n\u001b[1;32m---> 22\u001b[1;33m \u001b[0mlst4\u001b[0m\u001b[1;33m.\u001b[0m\u001b[0msort\u001b[0m\u001b[1;33m(\u001b[0m\u001b[1;33m)\u001b[0m\u001b[1;33m\u001b[0m\u001b[1;33m\u001b[0m\u001b[0m\n\u001b[0m\u001b[0;32m     23\u001b[0m \u001b[0mprint\u001b[0m\u001b[1;33m(\u001b[0m\u001b[0mlst4\u001b[0m\u001b[1;33m)\u001b[0m\u001b[1;33m\u001b[0m\u001b[1;33m\u001b[0m\u001b[0m\n",
      "\u001b[1;31mTypeError\u001b[0m: '<' not supported between instances of 'list' and 'int'"
     ]
    }
   ],
   "source": [
    "#List functions\n",
    "\n",
    "lst = [10, 15, 11]\n",
    "lst.append(20)\n",
    "print(lst)\n",
    "\n",
    "lst.append([1,2,3])\n",
    "print(lst)\n",
    "\n",
    "lst[4].append(4)\n",
    "print(lst)\n",
    "\n",
    "#when values sent in extend..then individual elements added\n",
    "\n",
    "lst.extend([1,2,3])\n",
    "lst.extend([[23,24]])\n",
    "print(lst)\n",
    "\n",
    "\n",
    "#nested lists cannot be sorted\n",
    "lst4 = [15, 11, 8, 24, 9, [15,10,8,9]]\n",
    "lst4.sort()\n",
    "print(lst4)"
   ]
  },
  {
   "cell_type": "code",
   "execution_count": 4,
   "metadata": {},
   "outputs": [
    {
     "name": "stdout",
     "output_type": "stream",
     "text": [
      "[10, 99, 33, 21, 15, 11]\n",
      "[10, 99, 33, [4, 45], 21, 15, 11]\n"
     ]
    }
   ],
   "source": [
    "lst = [10, 33, 21, 15, 11]\n",
    "lst.insert(1,99)\n",
    "# 1 is index\n",
    "print(lst)\n",
    "\n",
    "lst.insert(3,[4,45])\n",
    "print(lst)\n",
    "\n"
   ]
  },
  {
   "cell_type": "markdown",
   "metadata": {},
   "source": [
    "- Deleting elements\n",
    "    - remove\n",
    "    - delt"
   ]
  },
  {
   "cell_type": "code",
   "execution_count": 17,
   "metadata": {},
   "outputs": [
    {
     "name": "stdout",
     "output_type": "stream",
     "text": [
      "4 has been deleted\n",
      "[7, 8, 3, 8, 43, 32]\n",
      "[7, 8, 8, 43, 32]\n",
      "[7, 8, 8, 32]\n",
      "[7, 8, 4, 43, 32]\n",
      "43\n",
      "4\n",
      "94\n",
      "c\n"
     ]
    }
   ],
   "source": [
    "lst = [7, 8, 4, 3, 8, 43, 32]\n",
    "\n",
    "x = lst.pop(2)\n",
    "print(x, 'has been deleted')\n",
    "\n",
    "#after deleting\n",
    "print(lst)\n",
    "\n",
    "del lst[2]\n",
    "print(lst)\n",
    "\n",
    "lst.remove(43)\n",
    "print(lst)\n",
    "lst.remove(8)\n",
    "#remove will delete the first occurence  in the list\n",
    "\n",
    "lst = [7, 8, 4, 3, 8, 43, 32]\n",
    "del lst[3:5]\n",
    "print(lst)\n",
    "\n",
    "print(max(lst))\n",
    "print(min(lst))\n",
    "print(sum(lst))\n",
    "\n",
    "lst1 = ['a', 'b', 'c']\n",
    "print(max(lst1))\n"
   ]
  },
  {
   "cell_type": "code",
   "execution_count": 18,
   "metadata": {},
   "outputs": [
    {
     "name": "stdout",
     "output_type": "stream",
     "text": [
      "['P', 'y', 't', 'h', 'o', 'n']\n"
     ]
    }
   ],
   "source": [
    "#Converting string into a list\n",
    "\n",
    "string = 'Python'\n",
    "lst = list(string)\n",
    "print(lst)"
   ]
  },
  {
   "cell_type": "code",
   "execution_count": 24,
   "metadata": {},
   "outputs": [
    {
     "name": "stdout",
     "output_type": "stream",
     "text": [
      "['Python', 'for', 'data', 'science']\n",
      "Python for data science\n"
     ]
    }
   ],
   "source": [
    "string = 'Python for data science'\n",
    "\n",
    "#String to list\n",
    "lst = string.split()  #no delimeter hence blank\n",
    "print(lst)\n",
    "\n",
    "#list to string conversion\n",
    "s = ' '.join(lst)\n",
    "print(s)"
   ]
  },
  {
   "cell_type": "code",
   "execution_count": 25,
   "metadata": {},
   "outputs": [
    {
     "name": "stdout",
     "output_type": "stream",
     "text": [
      "Multiplication of elements :  3800.0\n"
     ]
    }
   ],
   "source": [
    "# List practice sums\n",
    "\n",
    "lst = [5, 8, 10, '7', 9.5]\n",
    "result = 1\n",
    "for i in lst:\n",
    "    if type(i) == int or type(i) == float :\n",
    "        result *= i\n",
    "print('Multiplication of elements : ', result)"
   ]
  },
  {
   "cell_type": "code",
   "execution_count": 27,
   "metadata": {},
   "outputs": [
    {
     "name": "stdout",
     "output_type": "stream",
     "text": [
      "Count :  2\n"
     ]
    }
   ],
   "source": [
    "#2. count the given condition of strings\n",
    "\n",
    "lst = ['abc', 'xyz', 'aba', '1221']\n",
    "count = 0\n",
    "for i in lst :\n",
    "    if len(i)>=2 and i[0] == i[-1] :\n",
    "        count += 1\n",
    "print('Count : ', count)"
   ]
  },
  {
   "cell_type": "code",
   "execution_count": 28,
   "metadata": {},
   "outputs": [
    {
     "name": "stdout",
     "output_type": "stream",
     "text": [
      "{'c', 'a', 'e', 'b', 'd'}\n"
     ]
    }
   ],
   "source": [
    "#3. remove duplicates\n",
    "\n",
    "lst = ['a', 'b', 'c', 'd', 'a', 'c', 'e', 'd']\n",
    "\n",
    "#list to set\n",
    "lst1 = set(lst)\n",
    "print(lst1)\n"
   ]
  },
  {
   "cell_type": "code",
   "execution_count": 31,
   "metadata": {},
   "outputs": [
    {
     "name": "stdout",
     "output_type": "stream",
     "text": [
      "New list :  ['a', 'b', 'c', 'd', 'e']\n"
     ]
    }
   ],
   "source": [
    "#3. remove duplicates using for loop\n",
    "\n",
    "lst = ['a', 'b', 'c', 'd', 'a', 'c', 'e', 'd']\n",
    "lst1 = []\n",
    "for l in lst :\n",
    "    if l not in lst1 :\n",
    "        lst1.append(l)\n",
    "        \n",
    "print('New list : ', lst1)\n",
    "        "
   ]
  },
  {
   "cell_type": "code",
   "execution_count": 4,
   "metadata": {},
   "outputs": [
    {
     "name": "stdout",
     "output_type": "stream",
     "text": [
      "[2, 4, 5, 3, 7, 6, 8, 4, 9]\n",
      "outer : 2\n",
      "inner : 2\n",
      "outer : 5\n",
      "outer : 3\n",
      "outer : 7\n",
      "outer : 6\n",
      "inner : 6\n",
      "outer : 4\n",
      "inner : 4\n",
      "[5, 3, 7, 8, 4, 9]\n"
     ]
    }
   ],
   "source": [
    "# list.index() to fetch the index\n",
    "\n",
    "# 4. Program to remove even numbers from a list\n",
    "\n",
    "list3 = [2, 4, 5, 3, 7, 6, 8, 4, 9]\n",
    "list4 = list3\n",
    "print(list4)\n",
    "for l in list3:\n",
    "    print('outer :', l)\n",
    "    if l % 2 == 0 :\n",
    "        print('inner :', l)\n",
    "        list4.remove(l)\n",
    "print(list4)\n",
    "    \n"
   ]
  },
  {
   "cell_type": "code",
   "execution_count": 5,
   "metadata": {},
   "outputs": [
    {
     "name": "stdout",
     "output_type": "stream",
     "text": [
      "[3, 1]\n"
     ]
    }
   ],
   "source": [
    "#5. Difference of list\n",
    "\n",
    "list1 = [2, 4, 5, 7, 6, 8]\n",
    "list2 = [3, 4, 6, 7, 8, 1, 2]\n",
    "list3 = []\n",
    "index = 0\n",
    "for l in list2 :\n",
    "    if l not in list1 :\n",
    "        list3.insert(index, l)\n",
    "        index += 1\n",
    "print(list3)\n",
    "        \n"
   ]
  },
  {
   "cell_type": "code",
   "execution_count": 13,
   "metadata": {},
   "outputs": [
    {
     "name": "stdout",
     "output_type": "stream",
     "text": [
      "List :  [4, 5, 3, 6, 7]\n",
      "Enter element to search : 45\n",
      "45 in not present in the list\n"
     ]
    }
   ],
   "source": [
    "#6. \n",
    "list1 = [4, 5, 3, 6, 7]\n",
    "print('List : ', list1)\n",
    "num = input('Enter element to search : ')\n",
    "try :\n",
    "    if num in list1 :\n",
    "        print('Index of %s : %d' %(num, list1.index(int(num))))\n",
    "    else :\n",
    "        print('%s in not present in the list' %num)\n",
    "except :\n",
    "    print('Invalid number!')"
   ]
  },
  {
   "cell_type": "code",
   "execution_count": 15,
   "metadata": {},
   "outputs": [
    {
     "name": "stdout",
     "output_type": "stream",
     "text": [
      "112589\n"
     ]
    }
   ],
   "source": [
    "#7. convert list of multiple numbers to single integer\n",
    "\n",
    "list1 = [11, 25, 89]\n",
    "resultString = ''\n",
    "for l in list1 :\n",
    "    resultString += str(l)\n",
    "print(resultString)"
   ]
  },
  {
   "cell_type": "markdown",
   "metadata": {},
   "source": [
    "# Dictionaries"
   ]
  },
  {
   "cell_type": "code",
   "execution_count": 5,
   "metadata": {},
   "outputs": [
    {
     "data": {
      "text/plain": [
       "dict"
      ]
     },
     "execution_count": 5,
     "metadata": {},
     "output_type": "execute_result"
    }
   ],
   "source": [
    "dch = {}\n",
    "type(dch)"
   ]
  },
  {
   "cell_type": "code",
   "execution_count": 6,
   "metadata": {},
   "outputs": [
    {
     "data": {
      "text/plain": [
       "dict"
      ]
     },
     "execution_count": 6,
     "metadata": {},
     "output_type": "execute_result"
    }
   ],
   "source": [
    "dch = dict()\n",
    "type(dch)"
   ]
  },
  {
   "cell_type": "code",
   "execution_count": 7,
   "metadata": {},
   "outputs": [],
   "source": [
    "dch = {1:'one', 2:'two'}"
   ]
  },
  {
   "cell_type": "code",
   "execution_count": 8,
   "metadata": {},
   "outputs": [
    {
     "data": {
      "text/plain": [
       "{1: 'one', 2: 'two'}"
      ]
     },
     "execution_count": 8,
     "metadata": {},
     "output_type": "execute_result"
    }
   ],
   "source": [
    "dch"
   ]
  },
  {
   "cell_type": "code",
   "execution_count": 11,
   "metadata": {},
   "outputs": [],
   "source": [
    "#adding elements to dictionary\n",
    "\n",
    "dch[3] = 'three'"
   ]
  },
  {
   "cell_type": "code",
   "execution_count": 10,
   "metadata": {},
   "outputs": [
    {
     "data": {
      "text/plain": [
       "{1: 'one', 2: 'two', 3: 'three'}"
      ]
     },
     "execution_count": 10,
     "metadata": {},
     "output_type": "execute_result"
    }
   ],
   "source": [
    "dch"
   ]
  },
  {
   "cell_type": "code",
   "execution_count": 12,
   "metadata": {},
   "outputs": [],
   "source": [
    "#update\n",
    "\n",
    "dch.update({4:'Four', 5:'Five'})"
   ]
  },
  {
   "cell_type": "code",
   "execution_count": 13,
   "metadata": {},
   "outputs": [
    {
     "data": {
      "text/plain": [
       "{1: 'one', 2: 'two', 3: 'three', 4: 'Four', 5: 'Five'}"
      ]
     },
     "execution_count": 13,
     "metadata": {},
     "output_type": "execute_result"
    }
   ],
   "source": [
    "dch"
   ]
  },
  {
   "cell_type": "code",
   "execution_count": 51,
   "metadata": {},
   "outputs": [
    {
     "name": "stdout",
     "output_type": "stream",
     "text": [
      "way 1 : a running race that is about 26 miles\n",
      "way 2 : a running race that is about 26 miles\n"
     ]
    }
   ],
   "source": [
    "web_dict = {'person': 'a human being', 'marathon': 'a running race that is about 26 miles', 'resist': 'to remain strong against the force', 'run': 'to move with haste; act quickly'}\n",
    "web_dict\n",
    "\n",
    "#accessing the values\n",
    "print('way 1 :', web_dict['marathon'])\n",
    "\n",
    "print('way 2 :', web_dict.get('marathon'))"
   ]
  },
  {
   "cell_type": "code",
   "execution_count": 26,
   "metadata": {},
   "outputs": [
    {
     "data": {
      "text/plain": [
       "{'person': 'a human being',\n",
       " 'marathon': 'a running race that is about 26 miles',\n",
       " 'resist': 'to remain strong against the force',\n",
       " 'run': 'to move with haste; act quickly',\n",
       " 'shoes': 'footwear'}"
      ]
     },
     "execution_count": 26,
     "metadata": {},
     "output_type": "execute_result"
    }
   ],
   "source": [
    "web_dict['shoes'] = 'footwear'\n",
    "web_dict"
   ]
  },
  {
   "cell_type": "code",
   "execution_count": 28,
   "metadata": {},
   "outputs": [
    {
     "data": {
      "text/plain": [
       "{'person': 'a human being',\n",
       " 'marathon': 'a running race that is about 26 miles',\n",
       " 'resist': 'to remain strong against the force',\n",
       " 'run': 'to move with haste; act quickly',\n",
       " 'shoes': 'for footwear'}"
      ]
     },
     "execution_count": 28,
     "metadata": {},
     "output_type": "execute_result"
    }
   ],
   "source": [
    "#updating key\n",
    "\n",
    "web_dict['shoes'] = 'for footwear'\n",
    "web_dict"
   ]
  },
  {
   "cell_type": "code",
   "execution_count": 29,
   "metadata": {},
   "outputs": [],
   "source": [
    "web_dict['kit'] = 'accesory'"
   ]
  },
  {
   "cell_type": "code",
   "execution_count": 33,
   "metadata": {},
   "outputs": [],
   "source": [
    "#deleting key - using del function\n",
    "\n",
    "#del web_dict['kit']\n",
    "\n",
    "#multiple\n",
    "del web_dict['shoes'], web_dict['run']\n"
   ]
  },
  {
   "cell_type": "code",
   "execution_count": 34,
   "metadata": {},
   "outputs": [
    {
     "data": {
      "text/plain": [
       "{'person': 'a human being',\n",
       " 'marathon': 'a running race that is about 26 miles',\n",
       " 'resist': 'to remain strong against the force'}"
      ]
     },
     "execution_count": 34,
     "metadata": {},
     "output_type": "execute_result"
    }
   ],
   "source": [
    "web_dict"
   ]
  },
  {
   "cell_type": "code",
   "execution_count": 53,
   "metadata": {},
   "outputs": [
    {
     "name": "stdout",
     "output_type": "stream",
     "text": [
      "4\n"
     ]
    }
   ],
   "source": [
    "#dictionaries do not work with slicing\n",
    "\n",
    "dch = {'Python' : 20, 'Statistics' : 15, 'Machine Learning' : 20, 'NLP' : 15}\n",
    "print(len(dch))"
   ]
  },
  {
   "cell_type": "code",
   "execution_count": 37,
   "metadata": {},
   "outputs": [],
   "source": [
    "dch.update({'Linear Algebra' : 5})"
   ]
  },
  {
   "cell_type": "code",
   "execution_count": 38,
   "metadata": {},
   "outputs": [
    {
     "data": {
      "text/plain": [
       "15"
      ]
     },
     "execution_count": 38,
     "metadata": {},
     "output_type": "execute_result"
    }
   ],
   "source": [
    "dch['Statistics']"
   ]
  },
  {
   "cell_type": "code",
   "execution_count": 39,
   "metadata": {},
   "outputs": [
    {
     "data": {
      "text/plain": [
       "5"
      ]
     },
     "execution_count": 39,
     "metadata": {},
     "output_type": "execute_result"
    }
   ],
   "source": [
    "dch.pop('Linear Algebra')"
   ]
  },
  {
   "cell_type": "code",
   "execution_count": 44,
   "metadata": {},
   "outputs": [
    {
     "name": "stdout",
     "output_type": "stream",
     "text": [
      "dict_items([('Python', 20), ('Statistics', 15), ('Machine Learning', 20), ('NLP', 15)])\n"
     ]
    }
   ],
   "source": [
    "#key-value together called items\n",
    "\n",
    "print(dch.items())"
   ]
  },
  {
   "cell_type": "code",
   "execution_count": 45,
   "metadata": {},
   "outputs": [
    {
     "data": {
      "text/plain": [
       "dict_keys(['Python', 'Statistics', 'Machine Learning', 'NLP'])"
      ]
     },
     "execution_count": 45,
     "metadata": {},
     "output_type": "execute_result"
    }
   ],
   "source": [
    "#just the keys\n",
    "\n",
    "dch.keys()"
   ]
  },
  {
   "cell_type": "code",
   "execution_count": 46,
   "metadata": {},
   "outputs": [
    {
     "data": {
      "text/plain": [
       "dict_values([20, 15, 20, 15])"
      ]
     },
     "execution_count": 46,
     "metadata": {},
     "output_type": "execute_result"
    }
   ],
   "source": [
    "#just the values\n",
    "\n",
    "dch.values()"
   ]
  },
  {
   "cell_type": "code",
   "execution_count": 48,
   "metadata": {},
   "outputs": [
    {
     "data": {
      "text/plain": [
       "dict_keys"
      ]
     },
     "execution_count": 48,
     "metadata": {},
     "output_type": "execute_result"
    }
   ],
   "source": [
    "type(dch.keys())"
   ]
  },
  {
   "cell_type": "code",
   "execution_count": 49,
   "metadata": {},
   "outputs": [],
   "source": [
    "dch.clear()"
   ]
  },
  {
   "cell_type": "code",
   "execution_count": 50,
   "metadata": {},
   "outputs": [
    {
     "data": {
      "text/plain": [
       "{}"
      ]
     },
     "execution_count": 50,
     "metadata": {},
     "output_type": "execute_result"
    }
   ],
   "source": [
    "dch"
   ]
  },
  {
   "cell_type": "code",
   "execution_count": 56,
   "metadata": {},
   "outputs": [
    {
     "name": "stdout",
     "output_type": "stream",
     "text": [
      "MAx :  20\n"
     ]
    }
   ],
   "source": [
    "max(dch)\n",
    "\n",
    "#by default max takes keys\n",
    "\n",
    "print('MAx : ', max(dch.values()))"
   ]
  },
  {
   "cell_type": "code",
   "execution_count": 57,
   "metadata": {},
   "outputs": [
    {
     "name": "stdout",
     "output_type": "stream",
     "text": [
      "Enter a string : google.com\n",
      "{'g': 2, 'o': 3, 'l': 1, 'e': 1, '.': 1, 'c': 1, 'm': 1}\n"
     ]
    }
   ],
   "source": [
    "#using dictionery count no. of characetrs\n",
    "\n",
    "string = input('Enter a string : ')\n",
    "\n",
    "dch = {}\n",
    "\n",
    "for s in string :\n",
    "    if s in dch :\n",
    "        dch[s] += 1\n",
    "    else :\n",
    "        dch[s] = 1\n",
    "print(dch)\n"
   ]
  },
  {
   "cell_type": "code",
   "execution_count": 65,
   "metadata": {},
   "outputs": [
    {
     "name": "stdout",
     "output_type": "stream",
     "text": [
      "{'ON': 4, 'Sat,': 4, 'Nov': 4, '10,': 4, 'at': 4, '5:44': 1, 'AM': 4, 'Binita': 4, 'Sajit': 4, '<binita.s@aegis.edu.in>': 4, 'wrote': 4, '4:37': 1, '11:16': 1, '10:45': 1}\n"
     ]
    }
   ],
   "source": [
    "#word count in file mail.txt\n",
    "\n",
    "fhand = open(\"mail.txt\")\n",
    "dch = {}\n",
    "tempList = []\n",
    "\n",
    "for line in fhand :\n",
    "    tempList = line.split()\n",
    "    for l in tempList :\n",
    "        if l in dch :\n",
    "            dch[l] += 1\n",
    "        else :\n",
    "            dch[l] = 1\n",
    "    \n",
    "print(dch)\n",
    "    "
   ]
  },
  {
   "cell_type": "code",
   "execution_count": 79,
   "metadata": {},
   "outputs": [
    {
     "name": "stdout",
     "output_type": "stream",
     "text": [
      "Line1 :  ON Sat, Nov 10, at 5:44 AM Binita Sajit <binita.s@aegis.edu.in> wrote\n",
      "\n",
      "trans : ON Sat Nov 10 at 544 AM Binita Sajit binitasaegiseduin wrote\n",
      "\n",
      "Line1 :  ON Sat, Nov 10, at 4:37 AM Binita Sajit <binita.s@aegis.edu.in> wrote\n",
      "\n",
      "trans : ON Sat Nov 10 at 437 AM Binita Sajit binitasaegiseduin wrote\n",
      "\n",
      "Line1 :  ON Sat, Nov 10, at 11:16 AM Binita Sajit <binita.s@aegis.edu.in> wrote\n",
      "\n",
      "trans : ON Sat Nov 10 at 1116 AM Binita Sajit binitasaegiseduin wrote\n",
      "\n",
      "Line1 :  ON Sat, Nov 10, at 10:45 AM Binita Sajit <binita.s@aegis.edu.in> wrote\n",
      "\n",
      "trans : ON Sat Nov 10 at 1045 AM Binita Sajit binitasaegiseduin wrote\n",
      "\n"
     ]
    }
   ],
   "source": [
    "#using maketranslate, translate to remove characters\n",
    "\n",
    "import string\n",
    "\n",
    "fhand = open(\"mail.txt\")\n",
    "dch = {}\n",
    "tempList = []\n",
    "\n",
    "for line in fhand :\n",
    "    print('Line1 : ', line)\n",
    "    trans = line.maketrans('', '', string.punctuation)\n",
    "    line = line.translate(trans)\n",
    "    print('trans :', line)\n"
   ]
  },
  {
   "cell_type": "code",
   "execution_count": 67,
   "metadata": {},
   "outputs": [
    {
     "name": "stdout",
     "output_type": "stream",
     "text": [
      "!\"#$%&'()*+,-./:;<=>?@[\\]^_`{|}~\n"
     ]
    }
   ],
   "source": [
    "import string\n",
    "\n",
    "print(string.punctuation)"
   ]
  },
  {
   "cell_type": "code",
   "execution_count": 88,
   "metadata": {},
   "outputs": [
    {
     "name": "stdout",
     "output_type": "stream",
     "text": [
      "Original :  {100: 'Hundreds', 10: 'Tens', 1000: 'Thousands'}\n",
      "Sorted :  [(10, 'Tens'), (100, 'Hundreds'), (1000, 'Thousands')]\n",
      "Sorted :  [(100, 'Hundreds'), (10, 'Tens'), (1000, 'Thousands')]\n",
      "Sorted :  [(1000, 'Thousands'), (100, 'Hundreds'), (10, 'Tens')]\n",
      "Sorted :  [(1000, 'Thousands'), (10, 'Tens'), (100, 'Hundreds')]\n"
     ]
    }
   ],
   "source": [
    "import operator\n",
    "dch = { 100 : 'Hundreds', 10:'Tens', 1000:'Thousands' }\n",
    "print('Original : ', dch)\n",
    "\n",
    "#itemgetter 0 is for key, 1 is for value\n",
    "#reverse = true is for descending, false for ascending\n",
    "sorted_d = sorted(dch.items(), key=operator.itemgetter(0), reverse=False)\n",
    "print('Sorted : ', sorted_d)\n",
    "\n",
    "sorted_d = sorted(dch.items(), key=operator.itemgetter(1), reverse=False)\n",
    "print('Sorted : ', sorted_d)\n",
    "\n",
    "sorted_d = sorted(dch.items(), key=operator.itemgetter(0), reverse=True)\n",
    "print('Sorted : ', sorted_d)\n",
    "\n",
    "sorted_d = sorted(dch.items(), key=operator.itemgetter(1), reverse=True)\n",
    "print('Sorted : ', sorted_d)"
   ]
  },
  {
   "cell_type": "markdown",
   "metadata": {},
   "source": [
    "# Programs - Dictioneries"
   ]
  },
  {
   "cell_type": "code",
   "execution_count": 90,
   "metadata": {},
   "outputs": [
    {
     "name": "stdout",
     "output_type": "stream",
     "text": [
      "[('Charlie', 12), ('Tim', 18), ('Tiffany', 22), ('Robert', 25)]\n"
     ]
    }
   ],
   "source": [
    "#1. \n",
    "\n",
    "import operator\n",
    "\n",
    "dch = {'Tim' : 18, 'Charlie' : 12, 'Tiffany' : 22, 'Robert' : 25}\n",
    "sorted_d = sorted(dch.items(), key=operator.itemgetter(1), reverse=False)\n",
    "print(sorted_d)"
   ]
  },
  {
   "cell_type": "code",
   "execution_count": 92,
   "metadata": {},
   "outputs": [
    {
     "name": "stdout",
     "output_type": "stream",
     "text": [
      "{0: 10, 1: 20, 2: 30}\n"
     ]
    }
   ],
   "source": [
    "#2. Add an item in dictionary\n",
    "\n",
    "dch = {0: 10, 1: 20}\n",
    "dch[2] = 30\n",
    "print(dch)\n"
   ]
  },
  {
   "cell_type": "code",
   "execution_count": 97,
   "metadata": {},
   "outputs": [
    {
     "name": "stdout",
     "output_type": "stream",
     "text": [
      "{1: 10, 2: 20, 3: 30, 4: 40, 5: 50, 6: 60}\n"
     ]
    }
   ],
   "source": [
    "#3. Add dictioneries to make 1\n",
    "\n",
    "dict1={1:10, 2:20}\n",
    "dict2={3:30, 4:40} \n",
    "dict3={5:50,6:60}\n",
    "\n",
    "dict1.update(dict2)\n",
    "dict1.update(dict3)\n",
    "print(dict1)"
   ]
  },
  {
   "cell_type": "code",
   "execution_count": 99,
   "metadata": {},
   "outputs": [
    {
     "name": "stdout",
     "output_type": "stream",
     "text": [
      "Enter a number : 5\n",
      "{1: 1, 2: 4, 3: 9, 4: 16, 5: 25}\n"
     ]
    }
   ],
   "source": [
    "#4. Create dictionary to display square of  numbers\n",
    "\n",
    "num = int(input('Enter a number : '))\n",
    "dch = {}\n",
    "\n",
    "for i in range(1,num+1) :\n",
    "    dch[i] = i*i\n",
    "    \n",
    "print(dch)\n",
    "    \n"
   ]
  },
  {
   "cell_type": "code",
   "execution_count": 100,
   "metadata": {},
   "outputs": [
    {
     "name": "stdout",
     "output_type": "stream",
     "text": [
      "Key : 3628800 Value : 13168189440000\n"
     ]
    }
   ],
   "source": [
    "#5. multiply all items in a list\n",
    "\n",
    "d={1: 1, 2: 4, 3: 9, 4: 16, 5: 25, 6: 36, 7: 49, 8: 64, 9: 81, 10: 100}\n",
    "keyResult = 1\n",
    "valueResult = 1\n",
    "for n in d.keys() :\n",
    "    keyResult *= n\n",
    "    valueResult *= d[n]\n",
    "\n",
    "print('Key : %d Value : %d' %(keyResult, valueResult))\n",
    "\n",
    "\n",
    "#Alternate ways\n",
    "\n",
    "# for k,v in dch.items() :\n",
    "#     k1 = k1*k\n",
    "#     v1 = v1*v\n",
    "    \n"
   ]
  },
  {
   "cell_type": "code",
   "execution_count": 104,
   "metadata": {},
   "outputs": [
    {
     "name": "stdout",
     "output_type": "stream",
     "text": [
      "Output :  {'a': 400, 'b': 400, 'd': 400, 'c': 300}\n"
     ]
    }
   ],
   "source": [
    "#6. Add dictioneries common object\n",
    "\n",
    "d1 = {'a': 100, 'b': 200, 'c':300}\n",
    "d2 = {'a': 300, 'b': 200, 'd':400}\n",
    "d3 = d2\n",
    "for k,v in d1.items() :\n",
    "    if k in d3 :\n",
    "        d3[k] += v\n",
    "    else :\n",
    "        d3[k] = v\n",
    "        \n",
    "print('Output : ', d3)\n",
    "        "
   ]
  },
  {
   "cell_type": "code",
   "execution_count": 109,
   "metadata": {},
   "outputs": [
    {
     "name": "stdout",
     "output_type": "stream",
     "text": [
      "Output :  {'a': 400, 'b': 400, 'c': 300, 'd': 400}\n"
     ]
    }
   ],
   "source": [
    "#6. Alternate way - Add dictioneries common object\n",
    "\n",
    "d1 = {'a': 100, 'b': 200, 'c':300}\n",
    "d2 = {'a': 300, 'b': 200, 'd':400}\n",
    "d3 = {}\n",
    "for d in d1,d2 :\n",
    "    for k,v in d.items():\n",
    "        if k in d3 :\n",
    "            d3[k] += v\n",
    "        else :\n",
    "            d3[k] = v\n",
    "print('Output : ', d3)\n",
    "        "
   ]
  },
  {
   "cell_type": "code",
   "execution_count": 116,
   "metadata": {},
   "outputs": [
    {
     "name": "stdout",
     "output_type": "stream",
     "text": [
      "{'S001', 'S009', 'S002', 'S007', 'S005'}\n"
     ]
    }
   ],
   "source": [
    "lst = [{\"V\":\"S001\"}, {\"V\": \"S002\"}, {\"VI\": \"S001\"}, {\"VI\": \"S005\"}, {\"VII\":\"S005\"}, \t{\"V\":\"S009\"},{\"VIII\":\"S007\"}]\n",
    "resultList = []\n",
    "for item in lst :\n",
    "    for v in item.values():\n",
    "        resultList.append(v)\n",
    "print(set(resultList))        "
   ]
  },
  {
   "cell_type": "markdown",
   "metadata": {},
   "source": [
    "# Tuples\n",
    "- tuples are immutable"
   ]
  },
  {
   "cell_type": "code",
   "execution_count": 117,
   "metadata": {},
   "outputs": [
    {
     "data": {
      "text/plain": [
       "tuple"
      ]
     },
     "execution_count": 117,
     "metadata": {},
     "output_type": "execute_result"
    }
   ],
   "source": [
    "t = ()\n",
    "type(t)"
   ]
  },
  {
   "cell_type": "code",
   "execution_count": 118,
   "metadata": {},
   "outputs": [
    {
     "data": {
      "text/plain": [
       "tuple"
      ]
     },
     "execution_count": 118,
     "metadata": {},
     "output_type": "execute_result"
    }
   ],
   "source": [
    "t = tuple()\n",
    "type(t)"
   ]
  },
  {
   "cell_type": "code",
   "execution_count": 120,
   "metadata": {},
   "outputs": [
    {
     "data": {
      "text/plain": [
       "str"
      ]
     },
     "execution_count": 120,
     "metadata": {},
     "output_type": "execute_result"
    }
   ],
   "source": [
    "#bracnket doesnt signify a tple, only comma separated value does\n",
    "\n",
    "t = ('a')\n",
    "type(t)"
   ]
  },
  {
   "cell_type": "code",
   "execution_count": 121,
   "metadata": {},
   "outputs": [
    {
     "data": {
      "text/plain": [
       "tuple"
      ]
     },
     "execution_count": 121,
     "metadata": {},
     "output_type": "execute_result"
    }
   ],
   "source": [
    "t = ('a', )\n",
    "type(t)"
   ]
  },
  {
   "cell_type": "code",
   "execution_count": 122,
   "metadata": {},
   "outputs": [
    {
     "data": {
      "text/plain": [
       "tuple"
      ]
     },
     "execution_count": 122,
     "metadata": {},
     "output_type": "execute_result"
    }
   ],
   "source": [
    "t = 'a', 'b', 'c'\n",
    "type(t)"
   ]
  },
  {
   "cell_type": "code",
   "execution_count": 126,
   "metadata": {},
   "outputs": [
    {
     "data": {
      "text/plain": [
       "'b'"
      ]
     },
     "execution_count": 126,
     "metadata": {},
     "output_type": "execute_result"
    }
   ],
   "source": [
    "#indexing\n",
    "\n",
    "t[1]"
   ]
  },
  {
   "cell_type": "code",
   "execution_count": 127,
   "metadata": {},
   "outputs": [
    {
     "data": {
      "text/plain": [
       "('a', 'b')"
      ]
     },
     "execution_count": 127,
     "metadata": {},
     "output_type": "execute_result"
    }
   ],
   "source": [
    "#slicing\n",
    "\n",
    "t[0:2]"
   ]
  },
  {
   "cell_type": "code",
   "execution_count": 125,
   "metadata": {},
   "outputs": [
    {
     "data": {
      "text/plain": [
       "3"
      ]
     },
     "execution_count": 125,
     "metadata": {},
     "output_type": "execute_result"
    }
   ],
   "source": [
    "len(t)"
   ]
  },
  {
   "cell_type": "code",
   "execution_count": 132,
   "metadata": {},
   "outputs": [
    {
     "data": {
      "text/plain": [
       "True"
      ]
     },
     "execution_count": 132,
     "metadata": {},
     "output_type": "execute_result"
    }
   ],
   "source": [
    "(0,1,2) < (0,3,4)"
   ]
  },
  {
   "cell_type": "code",
   "execution_count": 141,
   "metadata": {},
   "outputs": [
    {
     "name": "stdout",
     "output_type": "stream",
     "text": [
      "[(10, 20, 100), (40, 50, 100), (70, 80, 100)]\n"
     ]
    }
   ],
   "source": [
    "#1. Tuples\n",
    "\n",
    "lst = [(10, 20, 40), (40, 50, 60), (70, 80, 90)]\n",
    "lst1 = []\n",
    "for l in lst :\n",
    "    t = l[:-1] + (100,)\n",
    "    lst1.append(t)\n",
    "print(lst1)"
   ]
  },
  {
   "cell_type": "code",
   "execution_count": 143,
   "metadata": {},
   "outputs": [
    {
     "name": "stdout",
     "output_type": "stream",
     "text": [
      "[(10, 'a'), (1, 'b'), (22, 'c')]\n"
     ]
    }
   ],
   "source": [
    "#2. \n",
    "\n",
    "d1 = {'a':10, 'b':1, 'c':22}\n",
    "lst = []\n",
    "for k,v in d1.items():\n",
    "    t = (v, k)\n",
    "    lst.append(t)\n",
    "print(lst)"
   ]
  },
  {
   "cell_type": "code",
   "execution_count": null,
   "metadata": {},
   "outputs": [],
   "source": [
    "Assignment Operations"
   ]
  },
  {
   "cell_type": "code",
   "execution_count": 4,
   "metadata": {},
   "outputs": [
    {
     "ename": "SyntaxError",
     "evalue": "invalid syntax (<ipython-input-4-8bac4a7bee9f>, line 11)",
     "output_type": "error",
     "traceback": [
      "\u001b[1;36m  File \u001b[1;32m\"<ipython-input-4-8bac4a7bee9f>\"\u001b[1;36m, line \u001b[1;32m11\u001b[0m\n\u001b[1;33m    print(&list1)\u001b[0m\n\u001b[1;37m          ^\u001b[0m\n\u001b[1;31mSyntaxError\u001b[0m\u001b[1;31m:\u001b[0m invalid syntax\n"
     ]
    }
   ],
   "source": [
    "list1 = [1,2,3,4]\n",
    "list2 = list1\n",
    "print(list1, list2)\n",
    "list1[1] = 5\n",
    "print(list1, list2)\n",
    "\n",
    "#Slicing and concatenation changes the list location in memory\n",
    "list2 = list1[:]\n",
    "list1[1] = 60\n",
    "print(list1, list2)"
   ]
  },
  {
   "cell_type": "code",
   "execution_count": 6,
   "metadata": {},
   "outputs": [
    {
     "data": {
      "text/plain": [
       "True"
      ]
     },
     "execution_count": 6,
     "metadata": {},
     "output_type": "execute_result"
    }
   ],
   "source": [
    "(1,3,4) < (1,3,5)"
   ]
  },
  {
   "cell_type": "code",
   "execution_count": null,
   "metadata": {},
   "outputs": [],
   "source": []
  }
 ],
 "metadata": {
  "kernelspec": {
   "display_name": "Python 3",
   "language": "python",
   "name": "python3"
  },
  "language_info": {
   "codemirror_mode": {
    "name": "ipython",
    "version": 3
   },
   "file_extension": ".py",
   "mimetype": "text/x-python",
   "name": "python",
   "nbconvert_exporter": "python",
   "pygments_lexer": "ipython3",
   "version": "3.7.1"
  }
 },
 "nbformat": 4,
 "nbformat_minor": 2
}
