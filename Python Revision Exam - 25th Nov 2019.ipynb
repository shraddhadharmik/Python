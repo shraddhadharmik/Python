{
 "cells": [
  {
   "cell_type": "markdown",
   "metadata": {},
   "source": [
    "# Python Revision Exam"
   ]
  },
  {
   "cell_type": "markdown",
   "metadata": {},
   "source": [
    "### 1. Write a program to find the largest of two numbers without using function"
   ]
  },
  {
   "cell_type": "code",
   "execution_count": 36,
   "metadata": {},
   "outputs": [
    {
     "name": "stdout",
     "output_type": "stream",
     "text": [
      "Enter 1st number : 3\n",
      "Enter 2nd number : 4\n",
      "\n",
      "Largest number :  4\n"
     ]
    }
   ],
   "source": [
    "def find_largest_num(num1, num2) :\n",
    "    if num1.isnumeric() and num2.isnumeric() :\n",
    "        if int(num1) > int(num2) :\n",
    "            print('Largest number : ', num1)\n",
    "        elif int(num1) == int(num2) :\n",
    "            print('\\nBoth numbers are equal!')\n",
    "        else :\n",
    "            print('\\nLargest number : ', num2)\n",
    "    else :\n",
    "        print('\\nPlease enter valid input!')\n",
    "        \n",
    "num1 = input('Enter 1st number : ')\n",
    "num2 = input('Enter 2nd number : ')\n",
    "find_largest_num(num1, num2)"
   ]
  },
  {
   "cell_type": "markdown",
   "metadata": {},
   "source": [
    "### 2. Write a program to append elements of various datatypes(total 3 elements 1 integer, 1 float and 1 string)"
   ]
  },
  {
   "cell_type": "code",
   "execution_count": 37,
   "metadata": {},
   "outputs": [
    {
     "name": "stdout",
     "output_type": "stream",
     "text": [
      "Enter element to add : sd\n",
      "Do you want to continue adding elements (y/n) ? : 34\n",
      "Enter element to add : 234\n",
      "Do you want to continue adding elements (y/n) ? : y\n",
      "Enter element to add : 324\n",
      "Do you want to continue adding elements (y/n) ? : y\n",
      "Enter element to add : 324\n",
      "Do you want to continue adding elements (y/n) ? : n\n",
      "\n",
      "\n",
      "List created :  ['sd', '234', '324', '324']\n"
     ]
    }
   ],
   "source": [
    "def add_element(item) :\n",
    "    user_list.append(item)\n",
    "    return user_list\n",
    "\n",
    "user_list = []\n",
    "choice = 'y'\n",
    "while choice != 'n' :\n",
    "    item = input('Enter element to add : ')\n",
    "    user_list = add_element(item)\n",
    "    choice = input('Do you want to continue adding elements (y/n) ? : ')\n",
    "    \n",
    "print('\\n\\nList created : ', user_list)"
   ]
  },
  {
   "cell_type": "markdown",
   "metadata": {},
   "source": [
    "### 3. Write a function to add two numbers\n"
   ]
  },
  {
   "cell_type": "code",
   "execution_count": 38,
   "metadata": {},
   "outputs": [
    {
     "name": "stdout",
     "output_type": "stream",
     "text": [
      "Enter 1st number : 45\n",
      "Enter 2nd number : 23\n",
      "\n",
      "\n",
      "Addition of 45 and 23 : 68\n"
     ]
    }
   ],
   "source": [
    "def addition(num1, num2) :\n",
    "    if num1.isnumeric() and num2.isnumeric() :\n",
    "        print('\\n\\nAddition of {0} and {1} : {2}'.format(num1, num2, int(num1)+int(num2)))\n",
    "    else :\n",
    "        print('\\nPlease enter valid input!')\n",
    "\n",
    "num1 = input('Enter 1st number : ')\n",
    "num2 = input('Enter 2nd number : ')\n",
    "addition(num1, num2)"
   ]
  },
  {
   "cell_type": "markdown",
   "metadata": {},
   "source": [
    "### 4. Write a program to find second largest number in the list"
   ]
  },
  {
   "cell_type": "code",
   "execution_count": 39,
   "metadata": {},
   "outputs": [
    {
     "name": "stdout",
     "output_type": "stream",
     "text": [
      "Second largest number in [3, 6, 4, 2, 7, 23, 56, 34, 867, 234] : 234\n"
     ]
    }
   ],
   "source": [
    "def find_second_largest(user_list) :\n",
    "    list1 = sorted(user_list)\n",
    "    print('Second largest number in {0} : {1}'.format(user_list, list1[-2]))\n",
    "\n",
    "user_list = [3,6,4,2,7,23,56,34,867,234]\n",
    "find_second_largest(user_list)"
   ]
  },
  {
   "cell_type": "markdown",
   "metadata": {},
   "source": [
    "### 5. Write a program to swap the first and last value of a list.\n"
   ]
  },
  {
   "cell_type": "code",
   "execution_count": 40,
   "metadata": {},
   "outputs": [
    {
     "name": "stdout",
     "output_type": "stream",
     "text": [
      "Original List :  [3, 6, 4, 2, 7, 23, 56, 34, 867, 234]\n",
      "\n",
      "Swapped list :  [234, 6, 4, 2, 7, 23, 56, 34, 867, 3]\n"
     ]
    }
   ],
   "source": [
    "def swap_first_and_last(user_list) :\n",
    "    list_len = len(user_list)\n",
    "    temp_list = []\n",
    "    temp_list.append(user_list[-1])\n",
    "    temp_list.extend(user_list[1:list_len-1])\n",
    "    temp_list.append(user_list[0])\n",
    "    print('\\nSwapped list : ', temp_list)\n",
    "    \n",
    "\n",
    "user_list = [3,6,4,2,7,23,56,34,867,234]\n",
    "print('Original List : ', user_list)\n",
    "swap_first_and_last(user_list)"
   ]
  },
  {
   "cell_type": "markdown",
   "metadata": {},
   "source": [
    "### 6. Write a function to check whether the number is in the range 50 to 100"
   ]
  },
  {
   "cell_type": "code",
   "execution_count": 42,
   "metadata": {},
   "outputs": [
    {
     "name": "stdout",
     "output_type": "stream",
     "text": [
      "Enter 1st number : 67\n",
      "\n",
      "67 is in range(50,100)\n"
     ]
    }
   ],
   "source": [
    "def check_no_between_50and100(num) :\n",
    "    if num.isnumeric() :\n",
    "        if int(num) in range(50,101) :\n",
    "            print('\\n{0} is in range(50,100)'.format(num))\n",
    "        else :\n",
    "            print('\\n{0} is not in range(50,100)'.format(num))\n",
    "    else :\n",
    "        print('\\nPlease enter valid input!')    \n",
    "\n",
    "num1 = input('Enter 1st number : ')\n",
    "check_no_between_50and100(num1)"
   ]
  },
  {
   "cell_type": "markdown",
   "metadata": {},
   "source": [
    "### 7. Write a program to print A using starts"
   ]
  },
  {
   "cell_type": "code",
   "execution_count": 43,
   "metadata": {},
   "outputs": [
    {
     "name": "stdout",
     "output_type": "stream",
     "text": [
      "    *    \n",
      "   * *   \n",
      "  *****  \n",
      " *     * \n",
      "*       *\n"
     ]
    }
   ],
   "source": [
    "for i in range(5) :\n",
    "    for j in range(9):\n",
    "        #Row 1st\n",
    "        if i == 0 :\n",
    "            if j == 4-i :\n",
    "                print('*', end=\"\")\n",
    "            else :\n",
    "                print(' ', end=\"\")\n",
    "        #Row 3rd\n",
    "        elif i == 2 :\n",
    "            if j in range(4-i, 5+i) :\n",
    "                print('*', end=\"\")\n",
    "            else :\n",
    "                print(' ', end=\"\")\n",
    "        #Other Rows\n",
    "        else :\n",
    "            if j in (4-i, 4+i) :\n",
    "                print('*', end=\"\")\n",
    "            else :\n",
    "                print(' ', end=\"\")\n",
    "    print('')"
   ]
  },
  {
   "cell_type": "markdown",
   "metadata": {},
   "source": [
    "### 8. Write a program to print following pattern"
   ]
  },
  {
   "cell_type": "code",
   "execution_count": 44,
   "metadata": {},
   "outputs": [
    {
     "name": "stdout",
     "output_type": "stream",
     "text": [
      "    A\n",
      "   BC\n",
      "  CDE\n",
      " EFGH\n",
      "HIJKL\n"
     ]
    }
   ],
   "source": [
    "alpha_list = ['A', 'B', 'C', 'D', 'E', 'F', 'G', 'H', 'I', 'J', 'K', 'L', 'M', 'N', 'O']\n",
    "counter = 0\n",
    "#For number of rows\n",
    "for i in range(5) :\n",
    "    #For printing in columns\n",
    "    for j in range(5) :\n",
    "        if j < 4-i :\n",
    "            print(' ', end=\"\")\n",
    "        else :\n",
    "            if i == 0 :\n",
    "                print(alpha_list[counter], end=\"\")\n",
    "            else :\n",
    "                print(alpha_list[counter-i+1], end=\"\")\n",
    "            counter += 1\n",
    "    print(\"\")"
   ]
  },
  {
   "cell_type": "markdown",
   "metadata": {},
   "source": [
    "### 9. Write a program to illustrate difference between append and extend functions in list"
   ]
  },
  {
   "cell_type": "code",
   "execution_count": 9,
   "metadata": {},
   "outputs": [
    {
     "name": "stdout",
     "output_type": "stream",
     "text": [
      "Original List :  [1, 2, 3]\n",
      "List to add :  [4, 5, 6]\n",
      "\n",
      "List after APPEND operation :  [1, 2, 3]\n",
      "Length of list :  3\n",
      "APPEND adds the entire argument as single element\n",
      "\n",
      "List after EXTEND operation :  [1, 2, 3, 4, 5, 6]\n",
      "Length of list :  6\n",
      "EXTEND adds the entire argument as individual elements\n"
     ]
    }
   ],
   "source": [
    "original_list1 = [1,2,3]\n",
    "original_list2 = [1,2,3]\n",
    "list_to_add = [4,5,6]\n",
    "\n",
    "#Append operation\n",
    "print('Original List : ', original_list1)\n",
    "print('List to add : ', list_to_add)\n",
    "original_list.append(list_to_add)\n",
    "print('\\nList after APPEND operation : ', original_list1)\n",
    "print('Length of list : ', len(original_list1))\n",
    "print('APPEND adds the entire argument as single element')\n",
    "\n",
    "#Extend Operation\n",
    "original_list2.extend(list_to_add)\n",
    "print('\\nList after EXTEND operation : ', original_list2)\n",
    "print('Length of list : ', len(original_list2))\n",
    "print('EXTEND adds the entire argument as individual elements')\n"
   ]
  },
  {
   "cell_type": "markdown",
   "metadata": {},
   "source": [
    "### 10. Write a program to reverse a string input taken from user"
   ]
  },
  {
   "cell_type": "code",
   "execution_count": 35,
   "metadata": {},
   "outputs": [
    {
     "name": "stdout",
     "output_type": "stream",
     "text": [
      "Enter a string : shraddha\n",
      "\n",
      "Reversed String : \n",
      "ahddarhs"
     ]
    }
   ],
   "source": [
    "def reverse_string(user_string) :\n",
    "    len_string = len(user_string)\n",
    "    print('\\nReversed String : ')\n",
    "    for i in range(len_string-1, -1, -1) :\n",
    "        print(user_string[i], end=\"\")\n",
    "\n",
    "user_string = input('Enter a string : ')\n",
    "reverse_string(user_string)"
   ]
  },
  {
   "cell_type": "markdown",
   "metadata": {},
   "source": [
    "### 11. Write a program to calculate area of various shapes like circle, rectangle and square using function\n",
    "\n"
   ]
  },
  {
   "cell_type": "code",
   "execution_count": 105,
   "metadata": {},
   "outputs": [
    {
     "name": "stdout",
     "output_type": "stream",
     "text": [
      "------------------Area Calculator-----------------\n",
      "1. Circle\n",
      "2. Square\n",
      "3. Recatngle\n",
      "Enter your choice (1/2/3) : 1\n",
      "Enter radius : 5\n",
      "Area of circle(cm2) : 78.5\n"
     ]
    }
   ],
   "source": [
    "def area_circle(radius) :\n",
    "    if radius.isnumeric() :\n",
    "        print('Area of circle(cm2) : {0}'.format(3.14*int(radius)*int(radius)))\n",
    "    else :\n",
    "        print('\\nPlease enter valid input!')\n",
    "        \n",
    "def area_square(side) :\n",
    "    if radius.isnumeric() :\n",
    "        print('Area of square(cm2) : {0}'.format(int(side)*int(side)))\n",
    "    else :\n",
    "        print('\\nPlease enter valid input!')\n",
    "        \n",
    "def area_rectangle(length, breadth) :\n",
    "    if radius.isnumeric() :\n",
    "        print('Area of rectangle(cm2) : {0}'.format(int(length)*int(breadth)))\n",
    "    else :\n",
    "        print('\\nPlease enter valid input!')\n",
    "        \n",
    "        \n",
    "print('------------------Area Calculator-----------------')\n",
    "print('1. Circle')\n",
    "print('2. Square')\n",
    "print('3. Recatngle')\n",
    "user_choice = input('Enter your choice (1/2/3) : ')\n",
    "\n",
    "if user_choice == '1' :\n",
    "    radius = input('Enter radius : ')\n",
    "    area_circle(radius)\n",
    "elif user_choice == '2' :\n",
    "    side = input('Enter side length : ')\n",
    "    area_square(side)\n",
    "elif user_choice == '3' :\n",
    "    length = input('Enter length : ')\n",
    "    breadth = input('Enter breadth : ')\n",
    "    area_rectangle(length, breadth)\n",
    "else :\n",
    "    print('Invalid choice!')"
   ]
  },
  {
   "cell_type": "markdown",
   "metadata": {},
   "source": [
    "### 12. Write a program to print following pattern"
   ]
  },
  {
   "cell_type": "code",
   "execution_count": 40,
   "metadata": {},
   "outputs": [
    {
     "name": "stdout",
     "output_type": "stream",
     "text": [
      "*****\n",
      "****\n",
      "***\n",
      "**\n",
      "*\n"
     ]
    }
   ],
   "source": [
    "#For number of rows\n",
    "for i in range(5) :\n",
    "    #For printing in columns\n",
    "    for j in range(5-i) :\n",
    "        print('*', end=\"\")\n",
    "    print(\"\")"
   ]
  },
  {
   "cell_type": "markdown",
   "metadata": {},
   "source": [
    "### 13. Accept a character from the user and check for the following and display appropriate messages\n",
    "- is the character a vowel or consonant\n",
    "- is the character in uppercase or lowercase ?\n",
    "- Does the character occur in the string \"Data Science\" and is so at what position?"
   ]
  },
  {
   "cell_type": "code",
   "execution_count": 70,
   "metadata": {},
   "outputs": [
    {
     "name": "stdout",
     "output_type": "stream",
     "text": [
      "Enter a character : S\n",
      "It is a consonant\n",
      "It is in UPPERCASE\n",
      "It is present in string \"Data Science\" at location : 5\n"
     ]
    }
   ],
   "source": [
    "def check(user_char) :\n",
    "    if user_char.isalpha() :\n",
    "        #Checking vowel/consonant\n",
    "        if user_char in ('a', 'e', 'i', 'o', 'u') :\n",
    "            print('It is a vowel.')\n",
    "        else :\n",
    "            print('It is a consonant')\n",
    "        \n",
    "        #Checking lowercase/uppercase\n",
    "        if user_char.islower() :\n",
    "            print('It is in lowercase')\n",
    "        else :\n",
    "            print('It is in UPPERCASE')\n",
    "            \n",
    "        #Checking if present in \"Data Science\"    \n",
    "        if user_char in 'Data Science':\n",
    "            print('It is present in string \"Data Science\" at location : {}'.format('Data Science'.find(user_char)))\n",
    "        else :\n",
    "            print('Character NOT present in \"Data Science\"')\n",
    "user_char = input('Enter a character : ')\n",
    "check(user_char)"
   ]
  },
  {
   "cell_type": "code",
   "execution_count": null,
   "metadata": {},
   "outputs": [],
   "source": []
  }
 ],
 "metadata": {
  "kernelspec": {
   "display_name": "Python 3",
   "language": "python",
   "name": "python3"
  },
  "language_info": {
   "codemirror_mode": {
    "name": "ipython",
    "version": 3
   },
   "file_extension": ".py",
   "mimetype": "text/x-python",
   "name": "python",
   "nbconvert_exporter": "python",
   "pygments_lexer": "ipython3",
   "version": "3.7.3"
  }
 },
 "nbformat": 4,
 "nbformat_minor": 2
}
