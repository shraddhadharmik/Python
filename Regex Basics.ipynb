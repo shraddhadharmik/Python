{
 "cells": [
  {
   "cell_type": "code",
   "execution_count": 1,
   "metadata": {},
   "outputs": [],
   "source": [
    "import re"
   ]
  },
  {
   "cell_type": "markdown",
   "metadata": {},
   "source": [
    " - ^ - to check starts with\n",
    " - $ - to check ends with\n",
    " - search() - will search the given expression\n",
    " - match() - similar to search but will check only at the beginning of string/ replacement of ^\n",
    " - findall() - will find all instances and return a list\n",
    " - finditer() - to find index of where the string is occuring\n",
    " - compile() - to compile and keep it ready to use it whenever wanted\n",
    " - sub() - substitute the required string in another string\n",
    " - group() - works only with search. (\\w*) (\\w*)\n",
    " \n",
    " - [a-z] - just one occurence\n",
    " - [a-z]* - 0 or more occurence\n",
    " - [a-z]+ - 1 or more occurence\n",
    " - [a-zA-Z0-9] = \\w\n",
    " - \\S = all characters except space\n",
    " - \\s all characters with space"
   ]
  },
  {
   "cell_type": "code",
   "execution_count": 13,
   "metadata": {},
   "outputs": [
    {
     "name": "stdout",
     "output_type": "stream",
     "text": [
      "Does not exist\n",
      "None\n"
     ]
    }
   ],
   "source": [
    "s = 'Aegis school of Data Science'\n",
    "\n",
    "#search returns some value or None\n",
    "if re.search('Data Science', s) != None :\n",
    "    print('Exists')\n",
    "    print(re.search('Data Science', s))\n",
    "else :\n",
    "    print('Does not exist')\n",
    "    print(re.search('Data Sciene', s))"
   ]
  },
  {
   "cell_type": "code",
   "execution_count": 25,
   "metadata": {},
   "outputs": [
    {
     "name": "stdout",
     "output_type": "stream",
     "text": [
      "Starts\n",
      "None\n"
     ]
    }
   ],
   "source": [
    "s = 'Aegis school of Data ^Science'\n",
    "\n",
    "if re.search('^Science', s) != None :\n",
    "    print('Starts')\n",
    "    print(re.search('Data Science', s))\n",
    "else :\n",
    "    print('Does not begin')\n",
    "    print(re.search('Data Sciene', s))"
   ]
  },
  {
   "cell_type": "code",
   "execution_count": 17,
   "metadata": {},
   "outputs": [
    {
     "name": "stdout",
     "output_type": "stream",
     "text": [
      "Starts\n",
      "<re.Match object; span=(16, 28), match='Data Science'>\n"
     ]
    }
   ],
   "source": [
    "#match()\n",
    "\n",
    "s = 'Aegis school of Data Science'\n",
    "\n",
    "if re.match('Aegis', s) != None :\n",
    "    print('Starts')\n",
    "    print(re.search('Data Science', s))\n",
    "else :\n",
    "    print('Does not begin')\n",
    "    print(re.search('Data Sciene', s))"
   ]
  },
  {
   "cell_type": "code",
   "execution_count": 19,
   "metadata": {},
   "outputs": [
    {
     "name": "stdout",
     "output_type": "stream",
     "text": [
      "['Data Science', 'Data Science']\n"
     ]
    }
   ],
   "source": [
    "# findall()\n",
    "\n",
    "s = 'We can learn Data Science in Aegis School of Data Science'\n",
    "\n",
    "match = re.findall('Data Science', s)\n",
    "print(match)"
   ]
  },
  {
   "cell_type": "code",
   "execution_count": 26,
   "metadata": {},
   "outputs": [
    {
     "name": "stdout",
     "output_type": "stream",
     "text": [
      "(13, 25)\n",
      "Data Science in Aegis School of Data Science\n",
      "(45, 57)\n",
      "Data Science\n"
     ]
    }
   ],
   "source": [
    "#finditer()\n",
    "\n",
    "s = 'We can learn Data Science in Aegis School of Data Science'\n",
    "match = re.finditer('Data Science', s)\n",
    "#print(match)\n",
    "\n",
    "for i in match :\n",
    "    #print(i)\n",
    "    \n",
    "    #span() will give a tuple value as start and end index\n",
    "    print(i.span())\n",
    "    print(s[i.span()[0]:])"
   ]
  },
  {
   "cell_type": "code",
   "execution_count": 28,
   "metadata": {},
   "outputs": [
    {
     "name": "stdout",
     "output_type": "stream",
     "text": [
      "<callable_iterator object at 0x00000292F7FB4F28>\n"
     ]
    }
   ],
   "source": [
    "#compile()\n",
    "\n",
    "s = 'We can learn Data Science in Aegis School of Data Science'\n",
    "comp = re.compile('Data Science')\n",
    "#print(match)\n",
    "\n",
    "match = comp.finditer(s)\n",
    "print(match)"
   ]
  },
  {
   "cell_type": "code",
   "execution_count": 32,
   "metadata": {},
   "outputs": [
    {
     "name": "stdout",
     "output_type": "stream",
     "text": [
      "We can learn Python in Aegis School of Python\n"
     ]
    }
   ],
   "source": [
    "#sub()\n",
    "\n",
    "s = 'We can learn Data Science in Aegis School of Data Science'\n",
    "comp = re.compile('Data Science')\n",
    "#print(match)\n",
    "\n",
    "m = comp.sub('Python', s)\n",
    "print(m)"
   ]
  },
  {
   "cell_type": "code",
   "execution_count": 41,
   "metadata": {},
   "outputs": [
    {
     "name": "stdout",
     "output_type": "stream",
     "text": [
      "['cwen@iupui.edu']\n"
     ]
    }
   ],
   "source": [
    "#Extract email IDs\n",
    "\n",
    "string = 'Hello from <@umich.edu> to <cwen@iupui.edu> about the meeting @2PM'\n",
    "\n",
    "#comp = re.compile('<([a-z]+@[a-z.]*)>', string)\n",
    "match = re.findall('<([a-z]+@[a-z.]*)>', string)\n",
    "print(match)"
   ]
  },
  {
   "cell_type": "code",
   "execution_count": 45,
   "metadata": {},
   "outputs": [
    {
     "name": "stdout",
     "output_type": "stream",
     "text": [
      "['cwen@iupui.edu']\n"
     ]
    }
   ],
   "source": [
    "#Extract email IDs\n",
    "\n",
    "string = 'Hello from <@umich.edu> to <cwen@iupui.edu> about the meeting @2PM'\n",
    "\n",
    "#comp = re.compile('<([a-z]+@[a-z.]*)>', string)\n",
    "match = re.findall('<(\\S*)>', string)\n",
    "match = re.findall('<(\\w+@\\w*.\\w*)>', string)\n",
    "print(match)"
   ]
  },
  {
   "cell_type": "code",
   "execution_count": 47,
   "metadata": {},
   "outputs": [
    {
     "name": "stdout",
     "output_type": "stream",
     "text": [
      "aegis Class Schedule <schedule@aegis.edu.in>\n",
      "\n",
      "a345s Class Schedule <schedule@aegis.edu.in>\n",
      "\n",
      "Vishi Nema <vishi@aegis.edu.in>\n",
      "\n"
     ]
    }
   ],
   "source": [
    "import re\n",
    "\n",
    "fhand = open('PythonF.txt')\n",
    "comp = re.compile('@aegis')\n",
    "for line in fhand :\n",
    "    if re.search(comp, line) != None :\n",
    "        print(line)\n",
    "fhand.close()\n",
    "    "
   ]
  },
  {
   "cell_type": "code",
   "execution_count": 5,
   "metadata": {},
   "outputs": [
    {
     "name": "stdout",
     "output_type": "stream",
     "text": [
      "['X-DSPAM-Probability: 0.0000']\n",
      "['X-DSPAM-Confidence: 0.6178.897']\n"
     ]
    }
   ],
   "source": [
    "import re\n",
    "\n",
    "fhand = open('PythonF.txt')\n",
    "#comp = re.compile('X-DSPAM')\n",
    "comp = re.compile('(X-DSPAM-[A-Z][a-z]*: [0-9.]*)')\n",
    "for line in fhand :\n",
    "    match = re.findall(comp, line)\n",
    "#     if match != None :\n",
    "#         print(match)\n",
    "    if len(match) > 0 :\n",
    "        print(match)\n",
    "        #print(line[match.span[0]:])\n",
    "fhand.close()\n",
    "\n",
    "print('Alternate')\n",
    "\n",
    "fhand = open('PythonF.txt')\n",
    "#comp = re.compile('X-DSPAM')\n",
    "comp = re.compile('(X-DSPAM')\n",
    "for line in fhand :\n",
    "    match = re.findall(comp, line)\n",
    "#     if match != None :\n",
    "#         print(match)\n",
    "    if len(match) > 0 :\n",
    "        print(match)\n",
    "        #print(line[match.span[0]:])\n",
    "fhand.close()\n",
    "    "
   ]
  },
  {
   "cell_type": "code",
   "execution_count": 26,
   "metadata": {},
   "outputs": [
    {
     "name": "stdout",
     "output_type": "stream",
     "text": [
      "['Prachi', 'Mona', 'Rishi', 'Rohan']\n",
      "['25', '32', '27', '14']\n",
      "{'Prachi': '25', 'Mona': '32', 'Rishi': '27', 'Rohan': '14'}\n"
     ]
    }
   ],
   "source": [
    "import re\n",
    "\n",
    "nameage = '''\n",
    "Prachi is 25, Mona is 32\n",
    "Rishi is 27, Rohan is 14\n",
    "'''\n",
    "\n",
    "nameD = {}\n",
    "name = re.findall('[A-Za-z]{3,}', nameage)\n",
    "age = re.findall('\\d{1,2}', nameage)\n",
    "\n",
    "print(name)\n",
    "print(age)\n",
    "\n",
    "for i in range(len(name)) :\n",
    "    nameD[name[i]] = age[i]\n",
    "    #nameD.update({name[i]:age[i]})\n",
    "    \n",
    "print(nameD)\n",
    "    "
   ]
  },
  {
   "cell_type": "code",
   "execution_count": 32,
   "metadata": {},
   "outputs": [
    {
     "name": "stdout",
     "output_type": "stream",
     "text": [
      "['call-the', 'word-sentence']\n"
     ]
    }
   ],
   "source": [
    "import re\n",
    "\n",
    "s = 'How do we call-the style of word-sentence in a sentence'\n",
    "\n",
    "output = re.findall('\\S{1,}-\\S{1,}', s)\n",
    "print(output)"
   ]
  },
  {
   "cell_type": "code",
   "execution_count": 33,
   "metadata": {},
   "outputs": [
    {
     "data": {
      "text/plain": [
       "['4', '18', '22', '115']"
      ]
     },
     "execution_count": 33,
     "metadata": {},
     "output_type": "execute_result"
    }
   ],
   "source": [
    "# search numbers in string\n",
    "\n",
    "string = 'Session number 4, 18, 22, and 115 are important'\n",
    "\n",
    "re.findall('\\d{1,}', string)\n"
   ]
  },
  {
   "cell_type": "code",
   "execution_count": 43,
   "metadata": {},
   "outputs": [
    {
     "name": "stdout",
     "output_type": "stream",
     "text": [
      "['exercises', 'exercises', 'exercises'] 3\n",
      "(5, 14)\n",
      "(23, 32)\n",
      "(37, 46)\n"
     ]
    }
   ],
   "source": [
    "s = 'Java exercises, Python exercises, C# exercises'\n",
    "\n",
    "print(re.findall('exercises', s), len(re.findall('exercises', s)))\n",
    "match = re.finditer('exercises', s)\n",
    "\n",
    "for i in match :\n",
    "    print(i.span())\n",
    "\n"
   ]
  },
  {
   "cell_type": "code",
   "execution_count": 49,
   "metadata": {},
   "outputs": [
    {
     "name": "stdout",
     "output_type": "stream",
     "text": [
      "Python for DataScience\n",
      "Python\n"
     ]
    }
   ],
   "source": [
    "#Grouping\n",
    "\n",
    "s = 'Python for DataScience'\n",
    "\n",
    "match = re.search('(\\w*) (\\w*) (\\w*)', s)\n",
    "print(match.group())\n",
    "print(match.group(1))"
   ]
  },
  {
   "cell_type": "code",
   "execution_count": 53,
   "metadata": {},
   "outputs": [
    {
     "name": "stdout",
     "output_type": "stream",
     "text": [
      "Noun :  Horses\n"
     ]
    }
   ],
   "source": [
    "#assigning predicates\n",
    "\n",
    "s = 'Horses are fast'\n",
    "\n",
    "match = re.search('(?P<noun>\\w*) (?P<verb>\\w*) (?P<adj>\\w*)', s)\n",
    "print('Noun : ', match.group('noun'))"
   ]
  },
  {
   "cell_type": "code",
   "execution_count": 71,
   "metadata": {},
   "outputs": [
    {
     "name": "stdout",
     "output_type": "stream",
     "text": [
      "June 24\n"
     ]
    }
   ],
   "source": [
    "s = 'I was born on June 24'\n",
    "\n",
    "#re.findall('[A-Z]\\w{2,} \\d{1,}',s)\n",
    "\n",
    "match = re.search('[A-Z]\\w{2,} \\d{1,}',s)\n",
    "print(match.group())\n",
    "#print(match.group(1))"
   ]
  },
  {
   "cell_type": "code",
   "execution_count": 76,
   "metadata": {},
   "outputs": [
    {
     "name": "stdout",
     "output_type": "stream",
     "text": [
      "9876543210  : Valid\n"
     ]
    }
   ],
   "source": [
    "s = \"Hello my Number is 123456789 and my friend's number is 9876543210\"\n",
    "\n",
    "match = re.findall('\\d{10,}', s)\n",
    "for i in match :\n",
    "    if len(i) == 10 :\n",
    "        print(i, ' : Valid')\n",
    "    else :\n",
    "        print('Invalid')\n",
    "    "
   ]
  },
  {
   "cell_type": "code",
   "execution_count": 92,
   "metadata": {},
   "outputs": [
    {
     "name": "stdout",
     "output_type": "stream",
     "text": [
      "['\"https://w3resource.com\"', '\"http://github.in\"']\n"
     ]
    }
   ],
   "source": [
    "s = '<p>Contents :</p><a href=\"https://w3resource.com\">Python Examples</a><a href=\"http://github.in\">Even More Examples</a>'\n",
    "\n",
    "match = re.findall('https?://[\\w.]*',s)\n",
    "\n",
    "match = re.findall('\"\\S*\"', s)\n",
    "\n",
    "print(match)"
   ]
  },
  {
   "cell_type": "code",
   "execution_count": 88,
   "metadata": {},
   "outputs": [
    {
     "name": "stdout",
     "output_type": "stream",
     "text": [
      "Clearly\n"
     ]
    }
   ],
   "source": [
    "s = \"Clearly, he has no excuse for such behavior. Absolutely unacceptable.\"\n",
    "\n",
    "match = re.search('(?P<adverb>\\w*)', s)\n",
    "print(match.group('adverb'))"
   ]
  },
  {
   "cell_type": "code",
   "execution_count": 98,
   "metadata": {},
   "outputs": [
    {
     "name": "stdout",
     "output_type": "stream",
     "text": [
      "['1.23', '12.456', '345.56']\n"
     ]
    }
   ],
   "source": [
    "s = 'Exercise numbers 1.23, 12.456, 13.1, and 345.56 are important'\n",
    "\n",
    "match = re.findall('([\\d]+.[\\d]{2,})', s)\n",
    "\n",
    "print(match)"
   ]
  },
  {
   "cell_type": "code",
   "execution_count": 101,
   "metadata": {},
   "outputs": [
    {
     "name": "stdout",
     "output_type": "stream",
     "text": [
      "['123567', '3456789']\n"
     ]
    }
   ],
   "source": [
    "s = \"1234 123 123567 3456789\"\n",
    "\n",
    "match = re.findall('([\\d]{5,})', s)\n",
    "\n",
    "print(match)"
   ]
  },
  {
   "cell_type": "code",
   "execution_count": 102,
   "metadata": {},
   "outputs": [
    {
     "name": "stdout",
     "output_type": "stream",
     "text": [
      "['boy', 'Boy']\n"
     ]
    }
   ],
   "source": [
    "s = \"A boy too good for this world, too precious and pure. The Boy deserves a pat on the back \"\n",
    "\n",
    "match = re.findall('[Bb]oy', s)\n",
    "\n",
    "print(match)"
   ]
  },
  {
   "cell_type": "code",
   "execution_count": 16,
   "metadata": {},
   "outputs": [
    {
     "name": "stdout",
     "output_type": "stream",
     "text": [
      "['2 deers', '5 cows', '10 cats', '8 dogs']\n",
      "{'deers': '2', 'cows': '5', 'cats': '10', 'dogs': '8'}\n"
     ]
    }
   ],
   "source": [
    "#11.\n",
    "\n",
    "s = 'I have 2 deers, 5 cows, 10 cats, 8 dogs'\n",
    "\n",
    "match = re.findall('\\d+ \\w*',s)\n",
    "print(match)\n",
    "\n",
    "animal_d = {}\n",
    "for i in match :\n",
    "    animal_d[i[i.find(' ')+1:]] = i[:i.find(' ')]\n",
    "print(animal_d)"
   ]
  },
  {
   "cell_type": "code",
   "execution_count": 23,
   "metadata": {},
   "outputs": [
    {
     "name": "stdout",
     "output_type": "stream",
     "text": [
      "<re.Match object; span=(11, 19), match='13:47:03'>\n"
     ]
    }
   ],
   "source": [
    "s ='Sun Oct 14 13:47:03 CEST 2012'\n",
    "\n",
    "#match = re.search('(?P<hour>\\w*):(?P<minute>\\w*):(?P<second>\\w*)', s)\n",
    "match = re.search('\\d+:\\d+:\\d+', s)\n",
    "print(match)"
   ]
  },
  {
   "cell_type": "code",
   "execution_count": null,
   "metadata": {},
   "outputs": [],
   "source": []
  }
 ],
 "metadata": {
  "kernelspec": {
   "display_name": "Python 3",
   "language": "python",
   "name": "python3"
  },
  "language_info": {
   "codemirror_mode": {
    "name": "ipython",
    "version": 3
   },
   "file_extension": ".py",
   "mimetype": "text/x-python",
   "name": "python",
   "nbconvert_exporter": "python",
   "pygments_lexer": "ipython3",
   "version": "3.7.1"
  }
 },
 "nbformat": 4,
 "nbformat_minor": 2
}
