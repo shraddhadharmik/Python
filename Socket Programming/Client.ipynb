{
 "cells": [
  {
   "cell_type": "code",
   "execution_count": 14,
   "metadata": {},
   "outputs": [
    {
     "name": "stdout",
     "output_type": "stream",
     "text": [
      "Connect to  ('192.168.222.1', 1234)\n"
     ]
    }
   ],
   "source": [
    "import socket\n",
    "\n",
    "client = socket.socket()\n",
    "ip = socket.gethostbyname(socket.gethostname())\n",
    "port = 1234\n",
    "client.connect((ip, port))\n",
    "print('Connect to ', (ip, port))"
   ]
  },
  {
   "cell_type": "code",
   "execution_count": 18,
   "metadata": {},
   "outputs": [
    {
     "name": "stdout",
     "output_type": "stream",
     "text": [
      "goodbye client\n"
     ]
    }
   ],
   "source": [
    "try :\n",
    "    client.send('goodbye'.encode('utf-8'))\n",
    "    data = client.recv(1024).decode('utf-8')\n",
    "    print(data)\n",
    "except :\n",
    "    print('No connection')"
   ]
  },
  {
   "cell_type": "code",
   "execution_count": null,
   "metadata": {},
   "outputs": [],
   "source": []
  }
 ],
 "metadata": {
  "kernelspec": {
   "display_name": "Python 3",
   "language": "python",
   "name": "python3"
  },
  "language_info": {
   "codemirror_mode": {
    "name": "ipython",
    "version": 3
   },
   "file_extension": ".py",
   "mimetype": "text/x-python",
   "name": "python",
   "nbconvert_exporter": "python",
   "pygments_lexer": "ipython3",
   "version": "3.7.1"
  }
 },
 "nbformat": 4,
 "nbformat_minor": 2
}
