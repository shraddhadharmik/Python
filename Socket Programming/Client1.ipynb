{
 "cells": [
  {
   "cell_type": "code",
   "execution_count": 1,
   "metadata": {},
   "outputs": [
    {
     "name": "stdout",
     "output_type": "stream",
     "text": [
      "Connecting to  ('192.168.222.1', 1235)\n"
     ]
    }
   ],
   "source": [
    "import socket\n",
    "\n",
    "client = socket.socket()\n",
    "\n",
    "ip = socket.gethostbyname(socket.gethostname())\n",
    "port = 1235\n",
    "\n",
    "client.connect((ip,port))\n",
    "print('Connecting to ', (ip,port))\n",
    "\n"
   ]
  },
  {
   "cell_type": "code",
   "execution_count": 2,
   "metadata": {},
   "outputs": [
    {
     "name": "stdout",
     "output_type": "stream",
     "text": [
      "Enter something : hi\n",
      "Hello, how may i help you ?\n",
      "Enter something : hello\n",
      "Hello, how may i help you ?\n",
      "Enter something : institute\n",
      "Aegis School of Business, MTNL tower, Powai\n",
      "Enter something : course\n",
      "PGP in data science, Diploma in Cyber Security\n",
      "Enter something : bye\n",
      "Bye\n"
     ]
    }
   ],
   "source": [
    "inputString = ''\n",
    "while inputString != 'bye' :\n",
    "    inputString = input('Enter something : ')\n",
    "    try :\n",
    "        client.send(inputString.encode('utf-8'))\n",
    "        data = client.recv(1024).decode('utf-8')\n",
    "        print(data)\n",
    "    except :\n",
    "        print('No connection')"
   ]
  },
  {
   "cell_type": "code",
   "execution_count": null,
   "metadata": {},
   "outputs": [
    {
     "name": "stdout",
     "output_type": "stream",
     "text": [
      "From Server : This is from Client\n",
      "hi\n",
      "From Server : hi\n",
      "ok\n",
      "From Server : ok\n",
      "so?\n",
      "From Server : so?\n",
      "k\n",
      "From Server : k\n",
      "j\n",
      "From Server : j\n",
      "dkfjg\n",
      "From Server : dkfjg\n",
      "1\n",
      "From Server : 1\n",
      "1\n",
      "From Server : 1\n",
      "1\n",
      "From Server : 1\n",
      "111111\n",
      "From Server : 111111\n"
     ]
    }
   ],
   "source": [
    "import socket\n",
    "SERVER = socket.gethostbyname(socket.gethostname())\n",
    "PORT = 1236\n",
    "client = socket.socket(socket.AF_INET, socket.SOCK_STREAM)\n",
    "client.connect((SERVER, PORT))\n",
    "client.send(\"This is from Client\".encode('utf-8'))\n",
    "while True:\n",
    "    in_data =  client.recv(1024).decode('utf-8')\n",
    "    print(\"From Server :\" ,in_data)\n",
    "    out_data = input().encode('utf-8')\n",
    "    client.send(out_data)\n",
    "    if out_data=='bye':\n",
    "        break\n",
    "client.close()"
   ]
  },
  {
   "cell_type": "code",
   "execution_count": null,
   "metadata": {},
   "outputs": [],
   "source": [
    "import socket\n",
    "SERVER = socket.gethostbyname(socket.gethostname())\n",
    "PORT = 1236\n",
    "client = socket.socket(socket.AF_INET, socket.SOCK_STREAM)\n",
    "client.connect((SERVER, PORT))\n",
    "client.send(\"This is from Client\".encode('utf-8'))\n",
    "while True:\n",
    "    in_data =  client.recv(1024).decode('utf-8')\n",
    "    print(\"From Server :\" ,in_data)\n",
    "    out_data = input().encode('utf-8')\n",
    "    client.send(out_data)\n",
    "    if out_data=='bye':\n",
    "        break\n",
    "client.close()"
   ]
  },
  {
   "cell_type": "code",
   "execution_count": null,
   "metadata": {},
   "outputs": [],
   "source": []
  }
 ],
 "metadata": {
  "kernelspec": {
   "display_name": "Python 3",
   "language": "python",
   "name": "python3"
  },
  "language_info": {
   "codemirror_mode": {
    "name": "ipython",
    "version": 3
   },
   "file_extension": ".py",
   "mimetype": "text/x-python",
   "name": "python",
   "nbconvert_exporter": "python",
   "pygments_lexer": "ipython3",
   "version": "3.7.1"
  }
 },
 "nbformat": 4,
 "nbformat_minor": 2
}
