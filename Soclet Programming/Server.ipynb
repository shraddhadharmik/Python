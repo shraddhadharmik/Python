{
 "cells": [
  {
   "cell_type": "code",
   "execution_count": 1,
   "metadata": {},
   "outputs": [],
   "source": []
  },
  {
   "cell_type": "markdown",
   "metadata": {},
   "source": [
    "    AF_INET - address family; only using IP\n",
    "    PF_INET - packet family; only using TCP,IP,UDP\n",
    "\n",
    "    SOCK_STREAM - TCP socket\n",
    "    DGRAM_STREAM - UDP socket"
   ]
  },
  {
   "cell_type": "code",
   "execution_count": 12,
   "metadata": {},
   "outputs": [
    {
     "name": "stdout",
     "output_type": "stream",
     "text": [
      "Started listening\n",
      "Receied connection from ('192.168.222.1', 53215)\n"
     ]
    }
   ],
   "source": [
    "import socket\n",
    "\n",
    "server = socket.socket(socket.AF_INET, socket.SOCK_STREAM)\n",
    "\n",
    "ip = socket.gethostbyname(socket.gethostname())\n",
    "port = 1234\n",
    "\n",
    "#pass ip,port in a tuple format\n",
    "server.bind((ip, port))\n",
    "\n",
    "server.listen()\n",
    "print('Started listening')\n",
    "\n",
    "client, addr = server.accept()\n",
    "print('Receied connection from', addr)\n",
    "\n",
    "while True :\n",
    "    data = client.recv(1024).decode('utf-8')\n",
    "    if data == 'hello server' :\n",
    "        client.send('hello client'.encode('utf-8'))\n",
    "    elif data == 'goodbye' :\n",
    "        client.send('goodbye client'.encode('utf-8'))\n",
    "        break\n",
    "    else :\n",
    "        client.send('invalid message'.encode('utf-8'))\n",
    "    #client.close()"
   ]
  },
  {
   "cell_type": "code",
   "execution_count": null,
   "metadata": {},
   "outputs": [],
   "source": []
  },
  {
   "cell_type": "code",
   "execution_count": null,
   "metadata": {},
   "outputs": [],
   "source": []
  }
 ],
 "metadata": {
  "kernelspec": {
   "display_name": "Python 3",
   "language": "python",
   "name": "python3"
  },
  "language_info": {
   "codemirror_mode": {
    "name": "ipython",
    "version": 3
   },
   "file_extension": ".py",
   "mimetype": "text/x-python",
   "name": "python",
   "nbconvert_exporter": "python",
   "pygments_lexer": "ipython3",
   "version": "3.7.1"
  }
 },
 "nbformat": 4,
 "nbformat_minor": 2
}
