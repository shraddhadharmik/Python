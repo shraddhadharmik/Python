{
 "cells": [
  {
   "cell_type": "code",
   "execution_count": 1,
   "metadata": {},
   "outputs": [
    {
     "name": "stdout",
     "output_type": "stream",
     "text": [
      "Started listening\n",
      "Received connection from ('192.168.222.1', 54054)\n"
     ]
    },
    {
     "ename": "ConnectionAbortedError",
     "evalue": "[WinError 10053] An established connection was aborted by the software in your host machine",
     "output_type": "error",
     "traceback": [
      "\u001b[1;31m---------------------------------------------------------------------------\u001b[0m",
      "\u001b[1;31mConnectionAbortedError\u001b[0m                    Traceback (most recent call last)",
      "\u001b[1;32m<ipython-input-1-a366a48855a2>\u001b[0m in \u001b[0;36m<module>\u001b[1;34m\u001b[0m\n\u001b[0;32m     15\u001b[0m \u001b[1;33m\u001b[0m\u001b[0m\n\u001b[0;32m     16\u001b[0m \u001b[1;32mwhile\u001b[0m \u001b[1;32mTrue\u001b[0m \u001b[1;33m:\u001b[0m\u001b[1;33m\u001b[0m\u001b[1;33m\u001b[0m\u001b[0m\n\u001b[1;32m---> 17\u001b[1;33m     \u001b[0mdata\u001b[0m \u001b[1;33m=\u001b[0m \u001b[0mclient\u001b[0m\u001b[1;33m.\u001b[0m\u001b[0mrecv\u001b[0m\u001b[1;33m(\u001b[0m\u001b[1;36m1024\u001b[0m\u001b[1;33m)\u001b[0m\u001b[1;33m.\u001b[0m\u001b[0mdecode\u001b[0m\u001b[1;33m(\u001b[0m\u001b[1;34m'utf-8'\u001b[0m\u001b[1;33m)\u001b[0m\u001b[1;33m\u001b[0m\u001b[1;33m\u001b[0m\u001b[0m\n\u001b[0m\u001b[0;32m     18\u001b[0m     \u001b[0mdata\u001b[0m \u001b[1;33m=\u001b[0m \u001b[0mdata\u001b[0m\u001b[1;33m.\u001b[0m\u001b[0mlower\u001b[0m\u001b[1;33m(\u001b[0m\u001b[1;33m)\u001b[0m\u001b[1;33m\u001b[0m\u001b[1;33m\u001b[0m\u001b[0m\n\u001b[0;32m     19\u001b[0m     \u001b[1;32mif\u001b[0m \u001b[0mdata\u001b[0m\u001b[1;33m.\u001b[0m\u001b[0mfind\u001b[0m\u001b[1;33m(\u001b[0m\u001b[1;34m'hi'\u001b[0m\u001b[1;33m)\u001b[0m \u001b[1;33m>=\u001b[0m \u001b[1;36m0\u001b[0m \u001b[1;32mor\u001b[0m \u001b[0mdata\u001b[0m\u001b[1;33m.\u001b[0m\u001b[0mfind\u001b[0m\u001b[1;33m(\u001b[0m\u001b[1;34m'hello'\u001b[0m\u001b[1;33m)\u001b[0m \u001b[1;33m>=\u001b[0m\u001b[1;36m0\u001b[0m \u001b[1;33m:\u001b[0m\u001b[1;33m\u001b[0m\u001b[1;33m\u001b[0m\u001b[0m\n",
      "\u001b[1;31mConnectionAbortedError\u001b[0m: [WinError 10053] An established connection was aborted by the software in your host machine"
     ]
    }
   ],
   "source": [
    "import socket\n",
    "\n",
    "server = socket.socket(socket.AF_INET, socket.SOCK_STREAM)\n",
    "\n",
    "ip = socket.gethostbyname(socket.gethostname())\n",
    "port = 1235\n",
    "\n",
    "server.bind((ip,port))\n",
    "\n",
    "server.listen()\n",
    "print('Started listening')\n",
    "\n",
    "client,addr = server.accept()\n",
    "print('Received connection from', addr)\n",
    "\n",
    "while True :\n",
    "    data = client.recv(1024).decode('utf-8')\n",
    "    data = data.lower()\n",
    "    if data.find('hi') >= 0 or data.find('hello') >=0 :\n",
    "        client.send('Hello, how may i help you ?'.encode('utf-8'))\n",
    "    elif data.find('address') >= 0 or data.find('institute') >=0 :\n",
    "        client.send('Aegis School of Business, MTNL tower, Powai'.encode('utf-8'))\n",
    "    elif data.find('course') >=0 :\n",
    "        client.send('PGP in data science, Diploma in Cyber Security'.encode('utf-8'))\n",
    "    elif data == 'bye':\n",
    "        client.send('Bye'.encode('utf-8'))\n",
    "    else :\n",
    "        client.send('Invalid message'.encode('utf-8'))"
   ]
  },
  {
   "cell_type": "code",
   "execution_count": null,
   "metadata": {},
   "outputs": [
    {
     "name": "stdout",
     "output_type": "stream",
     "text": [
      "Server started\n",
      "Waiting for client request..\n",
      "New connection added:  ('192.168.222.1', 54552)\n",
      "Connection from :  ('192.168.222.1', 54552)\n",
      "from client This is from Client\n",
      "from client hi\n",
      "from client ok\n",
      "from client so?\n",
      "from client k\n",
      "from client j\n",
      "New connection added:  ('192.168.222.1', 54625)\n",
      "Connection from :  ('192.168.222.1', 54625)\n",
      "from client This is from Client\n",
      "from client sd\n",
      "from client dnd\n",
      "from client dkfjg\n",
      "from client sdfsd\n",
      "from client 1\n",
      "from client 1\n",
      "from client 1\n",
      "from client 111111\n",
      "from client 2222222222\n"
     ]
    },
    {
     "name": "stderr",
     "output_type": "stream",
     "text": [
      "Exception in thread Thread-6:\n",
      "Traceback (most recent call last):\n",
      "  File \"C:\\Users\\Shraddha\\Anaconda3\\lib\\threading.py\", line 917, in _bootstrap_inner\n",
      "    self.run()\n",
      "  File \"<ipython-input-1-40c60ec81e7e>\", line 10, in run\n",
      "    data = self.csocket.recv(1024).decode('utf-8')\n",
      "ConnectionAbortedError: [WinError 10053] An established connection was aborted by the software in your host machine\n",
      "\n",
      "Exception in thread Thread-7:\n",
      "Traceback (most recent call last):\n",
      "  File \"C:\\Users\\Shraddha\\Anaconda3\\lib\\threading.py\", line 917, in _bootstrap_inner\n",
      "    self.run()\n",
      "  File \"<ipython-input-1-40c60ec81e7e>\", line 10, in run\n",
      "    data = self.csocket.recv(1024).decode('utf-8')\n",
      "ConnectionAbortedError: [WinError 10053] An established connection was aborted by the software in your host machine\n",
      "\n"
     ]
    }
   ],
   "source": [
    "import socket, threading\n",
    "class ClientThread(threading.Thread):\n",
    "    def __init__(self,clientAddress,clientsocket):\n",
    "        threading.Thread.__init__(self)\n",
    "        self.csocket = clientsocket\n",
    "        print (\"New connection added: \", clientAddress)\n",
    "    def run(self):\n",
    "        print (\"Connection from : \", clientAddress)\n",
    "        while True:\n",
    "            data = self.csocket.recv(1024).decode('utf-8')\n",
    "            if data=='bye':\n",
    "                break\n",
    "            print (\"from client\", data)\n",
    "            self.csocket.send(data.encode('utf-8'))\n",
    "        print (\"Client at \", clientAddress , \" disconnected...\")\n",
    "        \n",
    "LOCALHOST = socket.gethostbyname(socket.gethostname())\n",
    "PORT = 1236\n",
    "server = socket.socket(socket.AF_INET, socket.SOCK_STREAM)\n",
    "server.bind((LOCALHOST, PORT))\n",
    "print(\"Server started\")\n",
    "print(\"Waiting for client request..\")\n",
    "while True:\n",
    "    server.listen(1)\n",
    "    clientsock, clientAddress = server.accept()\n",
    "    newthread = ClientThread(clientAddress, clientsock)\n",
    "    newthread.start()\n"
   ]
  },
  {
   "cell_type": "code",
   "execution_count": null,
   "metadata": {},
   "outputs": [],
   "source": []
  }
 ],
 "metadata": {
  "kernelspec": {
   "display_name": "Python 3",
   "language": "python",
   "name": "python3"
  },
  "language_info": {
   "codemirror_mode": {
    "name": "ipython",
    "version": 3
   },
   "file_extension": ".py",
   "mimetype": "text/x-python",
   "name": "python",
   "nbconvert_exporter": "python",
   "pygments_lexer": "ipython3",
   "version": "3.7.1"
  }
 },
 "nbformat": 4,
 "nbformat_minor": 2
}
