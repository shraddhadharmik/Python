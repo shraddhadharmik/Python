{
 "cells": [
  {
   "cell_type": "code",
   "execution_count": 12,
   "metadata": {},
   "outputs": [],
   "source": [
    "import bs4\n",
    "import urllib\n",
    "import requests"
   ]
  },
  {
   "cell_type": "code",
   "execution_count": 21,
   "metadata": {},
   "outputs": [
    {
     "name": "stdout",
     "output_type": "stream",
     "text": [
      "Writing programs or programming is a very creative\n",
      "and rewarding activity  You can write programs for\n",
      "many reasons ranging from making your living to solving\n",
      "a difficult data analysis problem to having fun to helping\n",
      "someone else solve a problem  This book assumes that\n",
      "{\\em everyone} needs to know how to program and that once\n",
      "you know how to program, you will figure out what you want\n",
      "to do with your newfound skills\n",
      "\n",
      "We are surrounded in our daily lives with computers ranging\n",
      "from laptops to cell phones  We can think of these computers\n",
      "as our personal assistants who can take care of many things\n",
      "on our behalf  The hardware in our current-day computers\n",
      "is essentially built to continuously ask us the question\n",
      "What would you like me to do next\n",
      "\n",
      "Our computers are fast and have vasts amounts of memory and\n",
      "could be very helpful to us if we only knew the language to\n",
      "speak to explain to the computer what we would like it to\n",
      "do next If we knew this language we could tell the\n",
      "computer to do tasks on our behalf that were reptitive\n",
      "Interestingly, the kinds of things computers can do best\n",
      "are often the kinds of things that we humans find boring\n",
      "and mind-numbing\n"
     ]
    }
   ],
   "source": [
    "import urllib\n",
    "\n",
    "url = 'http://www.py4inf.com/code/words.txt'\n",
    "\n",
    "data = urllib.request.urlopen(url) #data receieved will be in a binary formal file\n",
    "\n",
    "#data.read()     //data could be read similar to a file\n",
    "\n",
    "for d in data :\n",
    "    print(d.decode('utf-8').strip())"
   ]
  },
  {
   "cell_type": "code",
   "execution_count": 15,
   "metadata": {},
   "outputs": [
    {
     "data": {
      "text/plain": [
       "'Writing programs or programming is a very creative\\nand rewarding activity  You can write programs for\\nmany reasons ranging from making your living to solving\\na difficult data analysis problem to having fun to helping\\nsomeone else solve a problem  This book assumes that\\n{\\\\em everyone} needs to know how to program and that once\\nyou know how to program, you will figure out what you want\\nto do with your newfound skills\\n\\nWe are surrounded in our daily lives with computers ranging\\nfrom laptops to cell phones  We can think of these computers\\nas our personal assistants who can take care of many things\\non our behalf  The hardware in our current-day computers\\nis essentially built to continuously ask us the question\\nWhat would you like me to do next\\n\\nOur computers are fast and have vasts amounts of memory and \\ncould be very helpful to us if we only knew the language to \\nspeak to explain to the computer what we would like it to \\ndo next If we knew this language we could tell the \\ncomputer to do tasks on our behalf that were reptitive  \\nInterestingly, the kinds of things computers can do best\\nare often the kinds of things that we humans find boring\\nand mind-numbing\\n'"
      ]
     },
     "execution_count": 15,
     "metadata": {},
     "output_type": "execute_result"
    }
   ],
   "source": [
    "import requests\n",
    "\n",
    "url = 'http://www.py4inf.com/code/words.txt'\n",
    "\n",
    "data = requests.get(url)  #this will give you output in text format\n",
    "# type(data.text)\n",
    "\n",
    "data.text"
   ]
  },
  {
   "cell_type": "markdown",
   "metadata": {},
   "source": [
    "# Types of data in web scraping\n",
    "- data between the tags (opening and closing)\n",
    "- between the tags, assignment data (e.g.  <a href = 'www.google.com'</a>)"
   ]
  },
  {
   "cell_type": "code",
   "execution_count": 3,
   "metadata": {},
   "outputs": [
    {
     "name": "stdout",
     "output_type": "stream",
     "text": [
      "https://www.python.org/static/opengraph-icon-200x200.png\n",
      "https://www.python.org/static/opengraph-icon-200x200.png\n",
      "https://www.python.org/\n",
      "https://www.python.org/dev/peps/peps.rss/\n",
      "https://www.python.org/jobs/feed/rss/\n",
      "https://feeds.feedburner.com/PythonSoftwareFoundationNews\n",
      "https://feeds.feedburner.com/PythonInsider\n",
      "https://schema.org\n",
      "https://www.python.org/\n",
      "https://www.python.org/search/\n",
      "https://ssl\n",
      "http://browsehappy.com/\n",
      "https://docs.python.org\n",
      "https://pypi.python.org/\n",
      "https://www.facebook.com/pythonlang\n",
      "https://twitter.com/ThePSF\n",
      "http://brochure.getpython.info/\n",
      "https://docs.python.org/3/license.html\n",
      "https://wiki.python.org/moin/BeginnersGuide\n",
      "https://devguide.python.org/\n",
      "https://docs.python.org/faq/\n",
      "http://wiki.python.org/moin/Languages\n",
      "http://python.org/dev/peps/\n",
      "https://wiki.python.org/moin/PythonBooks\n",
      "https://wiki.python.org/moin/\n",
      "https://www.python.org/psf/codeofconduct/\n",
      "http://planetpython.org/\n",
      "http://pyfound.blogspot.com/\n",
      "http://pycon.blogspot.com/\n",
      "https://wiki.python.org/moin/PythonEventsCalendar\n",
      "http://docs.python.org/3/tutorial/introduction.html\n",
      "https://www.python.org/psf/donations/2019-q2-drive/\n",
      "https://docs.python.org\n",
      "https://blog.python.org\n",
      "http://feedproxy.google.com/\n",
      "http://feedproxy.google.com/\n",
      "https://mailchi.mp/45a3a2ef883c/python-software-foundation-q1newsletter\n",
      "http://feedproxy.google.com/\n",
      "http://feedproxy.google.com/\n",
      "http://www.djangoproject.com/\n",
      "http://wiki.python.org/moin/TkInter\n",
      "http://www.scipy.org\n",
      "http://buildbot.net/\n",
      "http://www.ansible.com\n",
      "http://brochure.getpython.info/\n",
      "https://docs.python.org/3/license.html\n",
      "https://wiki.python.org/moin/BeginnersGuide\n",
      "https://devguide.python.org/\n",
      "https://docs.python.org/faq/\n",
      "http://wiki.python.org/moin/Languages\n",
      "http://python.org/dev/peps/\n",
      "https://wiki.python.org/moin/PythonBooks\n",
      "https://wiki.python.org/moin/\n",
      "https://www.python.org/psf/codeofconduct/\n",
      "http://planetpython.org/\n",
      "http://pyfound.blogspot.com/\n",
      "http://pycon.blogspot.com/\n",
      "https://wiki.python.org/moin/PythonEventsCalendar\n",
      "https://devguide.python.org/\n",
      "https://bugs.python.org/\n",
      "https://mail.python.org/mailman/listinfo/python-dev\n",
      "https://github.com/python/pythondotorg/issues\n",
      "https://status.python.org/\n"
     ]
    }
   ],
   "source": [
    "import re\n",
    "import urllib\n",
    "\n",
    "url = 'http://python.org/'\n",
    "data = urllib.request.urlopen(url)\n",
    "\n",
    "# ://[\\w.,-;/]*)\n",
    "for d in data :\n",
    "    href = re.search('(https?://[\\w.,-;/]*)', d.decode('utf-8'))\n",
    "    if href != None :\n",
    "        print(href.group())"
   ]
  },
  {
   "cell_type": "code",
   "execution_count": 17,
   "metadata": {},
   "outputs": [
    {
     "name": "stdout",
     "output_type": "stream",
     "text": [
      "Welcome to Python.org\n"
     ]
    }
   ],
   "source": [
    "import re\n",
    "import urllib\n",
    "\n",
    "url = 'http://python.org/'\n",
    "data = urllib.request.urlopen(url)\n",
    "\n",
    "# ://[\\w.,-;/]*)\n",
    "for d in data :\n",
    "    href = re.search('<title>([\\w. ]*)</title>', d.decode('utf-8'))\n",
    "    if href != None :\n",
    "        print(href.group(1))"
   ]
  },
  {
   "cell_type": "markdown",
   "metadata": {},
   "source": [
    "# Beautiful Soup Examples"
   ]
  },
  {
   "cell_type": "code",
   "execution_count": 27,
   "metadata": {},
   "outputs": [
    {
     "name": "stdout",
     "output_type": "stream",
     "text": [
      "//ajax.googleapis.com/ajax/libs/jquery/1.8.2/jquery.min.js\n",
      "/static/stylesheets/style.3dbbbf7ee488.css\n",
      "/static/stylesheets/mq.3ae8e02ece5b.css\n",
      "/static/favicon.ico\n",
      "/static/apple-touch-icon-144x144-precomposed.png\n",
      "/static/apple-touch-icon-114x114-precomposed.png\n",
      "/static/apple-touch-icon-72x72-precomposed.png\n",
      "/static/apple-touch-icon-precomposed.png\n",
      "/static/apple-touch-icon-precomposed.png\n",
      "/static/humans.txt\n",
      "https://www.python.org/dev/peps/peps.rss/\n",
      "https://www.python.org/jobs/feed/rss/\n",
      "https://feeds.feedburner.com/PythonSoftwareFoundationNews\n",
      "https://feeds.feedburner.com/PythonInsider\n",
      "Count :  14\n",
      "----------IDs------------\n",
      "close-python-network\n",
      "python-network\n",
      "site-map-link\n",
      "start-shell\n",
      "back-to-top-1\n",
      "back-to-top-2\n"
     ]
    }
   ],
   "source": [
    "import bs4\n",
    "import requests\n",
    "\n",
    "url = 'http://python.org/'\n",
    "data = requests.get(url)\n",
    "\n",
    "\n",
    "#html.parser will parse the html text\n",
    "soup = bs4.BeautifulSoup(data.text, 'html.parser')\n",
    "\n",
    "\n",
    "#this will print the source code of the page\n",
    "# print(soup)\n",
    "\n",
    "lnk = soup('link')  #will return list of items\n",
    "# print(lnk)\n",
    "\n",
    "#for getting assignment text using soup, we use 'get()' \n",
    "#for getting inside tags, we use find()\n",
    "\n",
    "for l in lnk :\n",
    "    print(l.get('href'))\n",
    "\n",
    "print('Count : ', len(soup('link')))\n",
    "\n",
    "\n",
    "print('----------IDs------------')\n",
    "ids = soup('a')\n",
    "for id in ids :\n",
    "    if id.get('id') != None :\n",
    "        print(id.get('id'))\n"
   ]
  },
  {
   "cell_type": "code",
   "execution_count": 43,
   "metadata": {},
   "outputs": [
    {
     "name": "stdout",
     "output_type": "stream",
     "text": [
      "Jan. 21  | “I wasn't a fan of Iraq. I didn't want to go into Iraq.” \n",
      "Jan. 21  | “A reporter for Time magazine — and I have been on their cover 14 or 15 times. I think we have the all-time record in the history of Time magazine.” \n",
      "Jan. 23  | “Between 3 million and 5 million illegal votes caused me to lose the popular vote.” \n",
      "Jan. 25  | “Now, the audience was the biggest ever. But this crowd was massive. Look how far back it goes. This crowd was massive.” \n",
      "Jan. 25  | “Take a look at the Pew reports (which show voter fraud.)” \n",
      "Jan. 25  | “You had millions of people that now aren't insured anymore.” \n",
      "Jan. 25  | “So, look, when President Obama was there two weeks ago making a speech, very nice speech. Two people were shot and killed during his speech. You can't have that.” \n",
      "Jan. 26  | “We've taken in tens of thousands of people. We know nothing about them. They can say they vet them. They didn't vet them. They have no papers. How can you vet somebody when you don't know anything about them and you have no papers? How do you vet them? You can't.” \n",
      "Jan. 26  | “I cut off hundreds of millions of dollars off one particular plane, hundreds of millions of dollars in a short period of time. It wasn't like I spent, like, weeks, hours, less than hours, and many, many hundreds of millions of dollars. And the plane's going to be better.” \n",
      "Jan. 28  | “The coverage about me in the @nytimes and the @washingtonpost has been so false and angry that the Times actually apologized to its dwindling subscribers and readers.” \n",
      "Jan. 29  | “The Cuban-Americans, I got 84 percent of that vote.” \n",
      "Jan. 30  | “Only 109 people out of 325,000 were detained and held for questioning. Big problems at airports were caused by Delta computer outage.” \n",
      "Feb. 3  | “Professional anarchists, thugs and paid protesters are proving the point of the millions of people who voted to MAKE AMERICA GREAT AGAIN!” \n",
      "Feb. 4  | “After being forced to apologize for its bad and inaccurate coverage of me after winning the election, the FAKE NEWS @nytimes is still lost!” \n",
      "Feb. 5  | “We had 109 people out of hundreds of thousands of travelers and all we did was vet those people very, very carefully.” \n",
      "Feb. 6  | “I have already saved more than $700 million when I got involved in the negotiation on the F-35.” \n",
      "Feb. 6  | “It's gotten to a point where it is not even being reported. And in many cases, the very, very dishonest press doesn't want to report it.” \n",
      "Feb. 6  | “The failing @nytimes was forced to apologize to its subscribers for the poor reporting it did on my election win. Now they are worse!” \n",
      "Feb. 6  | “And the previous administration allowed it to happen because we shouldn't have been in Iraq, but we shouldn't have gotten out the way we got out. It created a vacuum, ISIS was formed.” \n",
      "Feb. 7  | “And yet the murder rate in our country is the highest it’s been in 47 years, right? Did you know that? Forty-seven years.” \n",
      "Feb. 7  | “I saved more than $600 million. I got involved in negotiation on a fighter jet, the F-35.” \n",
      "Feb. 9  | “Chris Cuomo, in his interview with Sen. Blumenthal, never asked him about his long-term lie about his brave ‘service’ in Vietnam. FAKE NEWS!” \n",
      "Feb. 9  | “Sen. Richard Blumenthal now misrepresents what Judge Gorsuch told him?” \n",
      "Feb. 10  | “I don’t know about it. I haven’t seen it. What report is that?” \n",
      "Feb. 12  | “Just leaving Florida. Big crowds of enthusiastic supporters lining the road that the FAKE NEWS media refuses to mention. Very dishonest!” \n",
      "Feb. 16  | “We got 306 because people came out and voted like they've never seen before so that's the way it goes. I guess it was the biggest Electoral College win since Ronald Reagan.” \n",
      "Feb. 16  | “That’s the other thing that was wrong with the travel ban. You had Delta with a massive problem with their computer system at the airports.” \n",
      "Feb. 16  | “Walmart announced it will create 10,000 jobs in the United States just this year because of our various plans and initiatives.” \n",
      "Feb. 16  | “When WikiLeaks, which I had nothing to do with, comes out and happens to give, they’re not giving classified information.” \n",
      "Feb. 16  | “We had a very smooth rollout of the travel ban. But we had a bad court. Got a bad decision.” \n",
      "Feb. 16  | “They’re giving stuff — what was said at an office about Hillary cheating on the debates. Which, by the way, nobody mentions. Nobody mentions that Hillary received the questions to the debates.” \n",
      "Feb. 18  | “And there was no way to vet those people. There was no documentation. There was no nothing.” \n",
      "Feb. 18  | “You look at what's happening in Germany, you look at what's happening last night in Sweden. Sweden, who would believe this?” \n",
      "Feb. 24  | “By the way, you folks are in here — this place is packed, there are lines that go back six blocks.” \n",
      "Feb. 24  | “ICE came and endorsed me.” \n",
      "Feb. 24  | “Obamacare covers very few people — and remember, deduct from the number all of the people that had great health care that they loved that was taken away from them — it was taken away from them.” \n",
      "Feb. 27  | “Since Obamacare went into effect, nearly half of the insurers are stopped and have stopped from participating in the Obamacare exchanges.” \n",
      "Feb. 27  | “On one plane, on a small order of one plane, I saved $725 million. And I would say I devoted about, if I added it up, all those calls, probably about an hour. So I think that might be my highest and best use.” \n",
      "Feb. 28  | “And now, based on our very strong and frank discussions, they are beginning to do just that.” \n",
      "Feb. 28  | “The E.P.A.’s regulators were putting people out of jobs by the hundreds of thousands.” \n",
      "Feb. 28  | “We have begun to drain the swamp of government corruption by imposing a five-year ban on lobbying by executive branch officials.” \n",
      "March 3  | “It is so pathetic that the Dems have still not approved my full Cabinet.” \n",
      "March 4  | “Terrible! Just found out that Obama had my ‘wires tapped’ in Trump Tower just before the victory. Nothing found. This is McCarthyism!” \n",
      "March 4  | “How low has President Obama gone to tap my phones during the very sacred election process. This is Nixon/Watergate. Bad (or sick) guy!” \n",
      "March 7  | “122 vicious prisoners, released by the Obama Administration from Gitmo, have returned to the battlefield. Just another terrible decision!” \n",
      "March 13  | “I saved a lot of money on those jets, didn't I? Did I do a good job? More than $725 million on them.” \n",
      "March 13  | “First of all, it covers very few people.” \n",
      "March 15  | “On the airplanes, I saved $725 million. Probably took me a half an hour if you added up all of the times.” \n",
      "March 17  | “I was in Tennessee — I was just telling the folks — and half of the state has no insurance company, and the other half is going to lose the insurance company.” \n",
      "March 20  | “With just one negotiation on one set of airplanes, I saved the taxpayers of our country over $700 million.” \n",
      "March 21  | “To save taxpayer dollars, I’ve already begun negotiating better contracts for the federal government — saving over $700 million on just one set of airplanes of which there are many sets.” \n",
      "March 22  | “I make the statement, everyone goes crazy. The next day they have a massive riot, and death, and problems.” \n",
      "March 22  | “NATO, obsolete, because it doesn’t cover terrorism. They fixed that.” \n",
      "March 22  | “Well, now, if you take a look at the votes, when I say that, I mean mostly they register wrong — in other words, for the votes, they register incorrectly and/or illegally. And they then vote. You have tremendous numbers of people.” \n",
      "March 29  | “Remember when the failing @nytimes apologized to its subscribers, right after the election, because their coverage was so wrong. Now worse!” \n",
      "March 31  | “We have a lot of plants going up now in Michigan that were never going to be there if I — if I didn’t win this election, those plants would never even think about going back. They were gone.” \n",
      "April 2  | “And I was totally opposed to the war in the Middle East which I think finally has been proven, people tried very hard to say I wasn’t but you’ve seen that it is now improving.” \n",
      "April 2  | “Now, my last tweet — you know, the one that you are talking about, perhaps — was the one about being, in quotes, wiretapped, meaning surveilled. Guess what, it is turning out to be true.” \n",
      "April 5  | “You have many states coming up where they’re going to have no insurance company. O.K.? It’s already happened in Tennessee. It’s happening in Kentucky. Tennessee only has half coverage. Half the state is gone. They left.” \n",
      "April 6  | “If you look at the kind of cost-cutting we’ve been able to achieve with the military and at the same time ordering vast amounts of equipment — saved hundreds of millions of dollars on airplanes, and really billions, because if you take that out over a period of years it’s many billions of dollars — I think we’ve had a tremendous success.” \n",
      "April 11  | “I like Steve, but you have to remember he was not involved in my campaign until very late. I had already beaten all the senators and all the governors, and I didn’t know Steve.” \n",
      "April 12  | “You can't do it faster, because they're obstructing. They're obstructionists. So I have people — hundreds of people that we're trying to get through. I mean you have — you see the backlog. We can't get them through.” \n",
      "April 12  | “The New York Times said the word wiretapped in the headline of the first edition. Then they took it out of there fast when they realized.” \n",
      "April 12  | “The secretary general and I had a productive discussion about what more NATO can do in the fight against terrorism. I complained about that a long time ago and they made a change, and now they do fight terrorism.” \n",
      "April 12  | “Mosul was supposed to last for a week and now they’ve been fighting it for many months and so many more people died.” \n",
      "April 16  | “Someone should look into who paid for the small organized rallies yesterday. The election is over!” \n",
      "April 18  | “The fake media goes, ‘Donald Trump changed his stance on China.’ I haven’t changed my stance.” \n",
      "April 21  | “On 90 planes I saved $725 million. It's actually a little bit more than that, but it's $725 million.” \n",
      "April 21  | “When WikiLeaks came out ... never heard of WikiLeaks, never heard of it.” \n",
      "April 27  | “I want to help our miners while the Democrats are blocking their healthcare.” \n",
      "April 28  | “The trade deficit with Mexico is close to $70 billion, even with Canada it’s $17 billion trade deficit with Canada.” \n",
      "April 28  | “She's running against someone who's going to raise your taxes to the sky, destroy your health care, and he's for open borders — lots of crime.” \n",
      "April 28  | “The F-35 fighter jet program — it was way over budget. I’ve saved $725 million plus, just by getting involved in the negotiation.” \n",
      "April 29  | “As you know, I've been a big critic of China, and I've been talking about currency manipulation for a long time. But I have to tell you that during the election, number one, they stopped.” \n",
      "April 29  | “I've already saved more than $725 million on a simple order of F-35 planes. I got involved in the negotiation.” \n",
      "April 29  | “We're also getting NATO countries to finally step up and contribute their fair share. They've begun to increase their contributions by billions of dollars, but we are not going to be satisfied until everyone pays what they owe.” \n",
      "April 29  | “When they talk about currency manipulation, and I did say I would call China, if they were, a currency manipulator, early in my tenure. And then I get there. Number one, they — as soon as I got elected, they stopped.” \n",
      "April 29  | “I was negotiating to reduce the price of the big fighter jet contract, the F-35, which was totally out of control. I will save billions and billions and billions of dollars.” \n",
      "April 29  | “I think our side's been proven very strongly. And everybody's talking about it.” \n",
      "May 1  | “Well, we are protecting pre-existing conditions. And it'll be every good — bit as good on pre-existing conditions as Obamacare.” \n",
      "May 1  | “The F-35 fighter jet — I saved — I got involved in the negotiation. It's 2,500 jets. I negotiated for 90 planes, lot 10. I got $725 million off the price.” \n",
      "May 1  | “First of all, since I started running, they haven't increased their — you know, they have not manipulated their currency. I think that was out of respect to me and the campaign.” \n",
      "May 2  | “I love buying those planes at a reduced price. I have been really — I have cut billions — I have to tell you this, and they can check, right, Martha? I have cut billions and billions of dollars off plane contracts sitting here.” \n",
      "May 4  | “Number two, they’re actually not a currency [manipulator]. You know, since I’ve been talking about currency manipulation with respect to them and other countries, they stopped.” \n",
      "May 4  | “We’re the highest-taxed nation in the world.” \n",
      "May 4  | “Nobody cares about my tax return except for the reporters.” \n",
      "May 8  | “You know we’ve gotten billions of dollars more in NATO than we’re getting. All because of me.” \n",
      "May 8  | “But when I did his show, which by the way was very highly rated. It was high — highest rating. The highest rating he’s ever had.” \n",
      "May 8  | “Director Clapper reiterated what everybody, including the fake media already knows — there is ‘no evidence’ of collusion w/ Russia and Trump.” \n",
      "May 12  | “Again, the story that there was collusion between the Russians & Trump campaign was fabricated by Dems as an excuse for losing the election.” \n",
      "May 12  | “When James Clapper himself, and virtually everyone else with knowledge of the witch hunt, says there is no collusion, when does it end?” \n",
      "May 13  | “I'm cutting the price of airplanes with Lockheed.” \n",
      "May 26  | “Just arrived in Italy for the G7. Trip has been very successful. We made and saved the USA many billions of dollars and millions of jobs.” \n",
      "June 1  | “China will be allowed to build hundreds of additional coal plants. So, we can’t build the plants, but they can, according to this agreement. India will be allowed to double its coal production by 2020.” \n",
      "June 1  | “I’ve just returned from a trip overseas where we concluded nearly $350 billion of military and economic development for the United States, creating hundreds of thousands of jobs.” \n",
      "June 4  | “At least 7 dead and 48 wounded in terror attack and Mayor of London says there is ‘no reason to be alarmed!’” \n",
      "June 5  | “The Justice Dept. should have stayed with the original Travel Ban, not the watered down, politically correct version they submitted to S.C.” \n",
      "June 20  | “Well, the Special Elections are over and those that want to MAKE AMERICA GREAT AGAIN are 5 and O!” \n",
      "June 21  | “They all say it's 'nonbinding.' Like hell it's nonbinding.” \n",
      "June 21  | “Right now, we are one of the highest-taxed nations in the world.” \n",
      "June 21  | “You have a gang called MS-13. ... We are moving them out of the country by the thousands, by the thousands.” \n",
      "June 21  | “Your insurance companies have all fled the state of Iowa.” \n",
      "June 21  | “If [farmers] have a puddle in the middle of their field ... it's considered a lake and you can't touch it. ... We got rid of that one, too, O.K.?” \n",
      "June 21  | “Gary Cohn just paid $200 million in tax in order to take this job, by the way.” \n",
      "June 21  | “We’re 5 and 0.” \n",
      "June 21  | “Last week a brand-new coal mine just opened in the state of Pennsylvania, first time in decades, decades.” \n",
      "June 22  | “Former Homeland Security Advisor Jeh Johnson is latest top intelligence official to state there was no grand scheme between Trump & Russia.” \n",
      "June 23  | “We are 5 and 0 ... in these special elections.” \n",
      "June 27  | “Ratings way down!” \n",
      "June 28  | “Democrats purposely misstated Medicaid under new Senate bill — actually goes up.” \n",
      "June 29  | “General Kelly and his whole group — they’ve gotten rid of 6,000 so far.” \n",
      "July 6  | “As a result of this insistence, billions of dollars more have begun to pour into NATO.” \n",
      "July 17  | “We’ve signed more bills — and I’m talking about through the legislature — than any president, ever.” \n",
      "July 19  | “Um, the Russian investigation — it’s not an investigation, it’s not on me — you know, they’re looking at a lot of things.” \n",
      "July 19  | “I heard that Harry Truman was first, and then we beat him. These are approved by Congress. These are not just executive orders.” \n",
      "July 19  | “But the F.B.I. person really reports directly to the president of the United States, which is interesting.” \n",
      "July 19  | “She did the uranium deal, which is a horrible thing, while she was secretary of state, and got a lot of money.” \n",
      "July 24  | “It looks like about 45,000 people. You set a record today.” \n",
      "July 25  | “We have the highest taxes anywhere in the world, and this will really bring them down to one of the lowest.” \n",
      "July 25  | “We’re the highest-taxed nation in the world” \n",
      "July 25  | “We have nearly doubled the number of veterans given approvals to see the doctor of their choice.” \n",
      "July 25  | “Since I took office we have cut illegal immigration on our southern border by record numbers. 78 percent.” \n",
      "July 28  | “The previous administration enacted an open-door policy to illegal migrants from Central America.  \"Welcome in. Come in, please, please.” \n",
      "July 28  | “We have trade deficits with almost every country because we had a lot of really bad negotiators making deals with other countries.” \n",
      "July 31  | “2.6 is a number that nobody thought they’d see for a long period of time.” \n",
      "July 31  | “And even the President of Mexico called me  – they said their southern border, very few people are coming because they know they’re not going to get through our border, which is the ultimate compliment.” \n",
      "Aug. 1  | “And I think to me, maybe the biggest is that GDP for the quarter just released at 2.6 percent. So that's so much higher than anticipated.” \n",
      "Aug. 3  | “Economic growth has surged to 2.6% nationwide. You have to understand what that means. Nobody thought that number was going to happen.” \n",
      "Aug. 3  | “The Russia story is a total fabrication.” \n",
      "Aug. 3  | “Or let them look at the uranium she sold that is now in the hands of very angry Russians.” \n",
      "Aug. 15  | “We want products made in the country. Now, I have to tell you, some of the folks that will leave, they're leaving out of embarrassment because they make their products outside.” \n",
      "Aug. 22  | “Remember, everybody said you won’t bring it up to 1 percent. You won’t bring it up to 1.2 percent.” \n",
      "Aug. 22  | “I mean truly dishonest people in the media and the fake media, they make up stories. They have no sources in many cases. They say 'a source says'  – there is no such thing.” \n",
      "Aug. 22  | “As everybody here remembers, this was the scene of my first rally speech, right?” \n",
      "Aug. 22  | “We have become an energy exporter for the first time ever just recently.” \n",
      "Aug. 22  | “Look back there, the live red lights. They're turning those suckers off fast out there. They're turning those lights off fast. Like CNN.” \n",
      "Sept. 6  | “The taxes are crazy  – the highest-taxed nation in the world.” \n",
      "Sept. 6  | “We are the highest taxed nation in the world - that will change.” \n",
      "Sept. 8  | “Our incredible U.S. Coast Guard saved more than 15,000 lives last week with Harvey.” \n",
      "Sept. 14  | “Also with the fact that I know in the case of FEMA and the case of Coast Guard, the job you've done in saving people, saving lives.  As an example, in Harvey in Texas, we talked  – over 16,000 lives.” \n",
      "Sept. 14  | “And in Florida you got hit with the strongest winds ever recorded.” \n",
      "Sept. 22  | “We've been dealing with ICE, we've been dealing with the Border Patrol. They both endorsed me.” \n",
      "Sept. 22  | “So he started off here, he was in third or fourth, he went to third, second, and now it's like almost pretty even.” \n",
      "Sept. 29  | “With the F-35 fighter plane  – me, myself  – I've saved hundreds of millions of dollars in negotiating.” \n",
      "Sept. 27  | “I’m doing the right thing, and it’s not good for me.” \n",
      "Sept. 27  | “To protect millions of small businesses and the American farmer, we are finally ending the crushing, the horrible, the unfair estate tax.” \n",
      "Sept. 27  | “No, I don't benefit. I don't benefit. In fact, very very strongly, as you see, I think there's very little benefit for people of wealth.” \n",
      "Sept. 27  | “Facebook was always anti-Trump.The Networks were always anti-Trump hence,Fake News, @nytimes(apologized) & @WaPo were anti-Trump.” \n",
      "Sept. 28  | “I mean right now, we're the highest-taxed nation in the world.” \n",
      "Oct. 3  | “But the Coast Guard itself saved in Texas 16,000 lives, and they went right through that hurricane.” \n",
      "Oct. 3  | “But that's an expensive plane that you can't see. And as you probably heard, we cut the price very substantially  – something that other administrations would never have done, that I can tell you.” \n",
      "Oct. 6  | “I was able to reduce the price of the Lockheed by billions of dollars.” \n",
      "Oct. 6  | “We're the highest-taxed developed nation in the world, probably the highest-taxed nation in the world.” \n",
      "Oct. 6  | “They also just said that there has been absolutely no collusion. They just said that. Yesterday. Two days ago. Senate. There has been no collusion.” \n",
      "Oct. 6  | “This tax cut and tax reform is going very well, and it's going to be a tremendous boost for our country, including the fact that we're the highest-taxed nation in the world.” \n",
      "Oct. 7  | “We're the highest-taxed nation in the world.” \n",
      "Oct. 7  | “The Coast Guard, in Texas, and all over, but with the job they did in Texas, I saw, they saved 16,000 lives.” \n",
      "Oct. 7  | “Obama should have never gotten out the way he got out. That's how ISIS formed.” \n",
      "Oct. 10  | “The Failing @nytimes set Liddle' Bob Corker up by recording his conversation. Was made to sound a fool, and that's what I am dealing with!” \n",
      "Oct. 10  | “We're the highest-taxed nation in the world.” \n",
      "Oct. 11  | “We have missiles that can knock out a missile in the air. Ninety seven per cent of the time. If you send two of them, it's going to get knocked out.” \n",
      "Oct. 16  | “We're the highest-taxed country in the world.” \n",
      "Oct. 16  | “I hear that Ireland is going to be reducing their corporate rates down to 8 percent from 12.” \n",
      "Oct. 16  | “If you look at President Obama and other presidents, most of them didn’t make calls.” \n",
      "Oct. 16  | “All I can say is it's totally fake news, just fake. It's fake. It's made-up stuff, and it's disgraceful what happens, but that happens in the world of politics.” \n",
      "Oct. 17  | “We're the highest taxed nation in the world.” \n",
      "Oct. 17  | “Right now, we are the highest-taxed nation anywhere in the world. You can even say developed or undeveloped.” \n",
      "Oct. 17  | “As far as I'm concerned, I think we're really essentially the highest. But if you'd like to add the developed nation, you can say that, too.” \n",
      "Oct. 17  | “We're the highest-taxed nation in the world. We are taxed beyond belief.” \n",
      "Oct. 17  | “Well, we're the highest-taxed nation in the world.” \n",
      "Oct. 17  | “I wish President Obama didn't get out the way he got out. Because that left a vacuum and ISIS was formed.” \n",
      "Oct. 18  | “Democrat Congresswoman totally fabricated what I said to the wife of a soldier who died in action (and I have proof).” \n",
      "Oct. 18  | “The Coast Guard in Texas saved 16,000 lives.” \n",
      "Oct. 18  | “Nobody has ever heard of a five hitting land.” \n",
      "Oct. 24  | “Under our plan, more than 30 million Americans who own small businesses will get a 40 per cent cut to their top marginal tax rate.” \n",
      "Oct. 25  | “We have trade deficits with almost everybody.” \n",
      "Oct. 27  | “Wacky & totally unhinged Tom Steyer, who has been fighting me and my Make America Great Again agenda from beginning, never wins elections!” \n",
      "Nov. 1  | “Again, we're the highest-taxed nation, just about, in the world.” \n",
      "Nov. 7  | “When you look at the city with the strongest gun laws in our nation, it's Chicago.” \n",
      "Nov. 11  | “I'd rather have him  – you know, work with him on the Ukraine than standing and arguing about whether or not  – because that whole thing was set up by the Democrats.” \n"
     ]
    }
   ],
   "source": [
    "import bs4\n",
    "import requests\n",
    "\n",
    "url = 'https://www.nytimes.com/interactive/2017/06/23/opinion/trumps-lies.html'\n",
    "data = requests.get(url)\n",
    "\n",
    "\n",
    "#html.parser will parse the html text\n",
    "soup = bs4.BeautifulSoup(data.text, 'html.parser')\n",
    "\n",
    "# spans = soup('span')\n",
    "\n",
    "lies = soup.findAll('span',{'class':'short-desc'})\n",
    "# print(lies[0])\n",
    "# print('Text : ', lies[0].text)\n",
    "\n",
    "# for l in lies :\n",
    "# dt = lies[0].find('strong').text\n",
    "# print(dt)\n",
    "# print(lies[0].contents)\n",
    "# print('Content : ', lies[0].contents[1])\n",
    "\n",
    "for l in lies :\n",
    "    print(l.find('strong').text, '|', l.contents[1])"
   ]
  },
  {
   "cell_type": "code",
   "execution_count": 11,
   "metadata": {},
   "outputs": [
    {
     "name": "stdout",
     "output_type": "stream",
     "text": [
      "1. Former PM Vajpayee was a passenger on India’s first ever metro\n",
      "2. Linking Gujarat election to Manmohan Singh meeting Pak diplomat at Mani Shankar Aiyar’s house\n",
      "3. “We started the Direct Benefit Transfer scheme”\n",
      "4. Mani Shankar Aiyar’s statement on Mughal dynasty and Congress party distorted\n",
      "5. More electricity supplied during Eid than Diwali in U.P\n",
      "6. ISI link to Kanpur train derailment\n",
      "7. Uttar Pradesh is number 1 in crime\n",
      "8. Insurance scheme to protect against weather-based uncertainties launched\n",
      "9. Maximum number of atrocities against Dalits in U.P\n",
      "10. Rahul Gandhi referred to ‘coconut juice’ and ‘aloo ki factory’\n"
     ]
    }
   ],
   "source": [
    "#Example 2\n",
    "\n",
    "import requests\n",
    "import bs4\n",
    "import re\n",
    "\n",
    "url = 'https://www.altnews.in/half-truths-whole-lies-ten-times-pm-modi-misled-nation-2017/'\n",
    "data = requests.get(url)\n",
    "\n",
    "soup = bs4.BeautifulSoup(data.text, 'html.parser')\n",
    "\n",
    "lies = soup('p')\n",
    "# print(lies[1])\n",
    "# comp = re.compile('<p>([0-9. ]+) <strong>([\\w.,\\' ]*)</strong></p>')\n",
    "\n",
    "# print(paragraphs[1].text)\n",
    "# match = comp.search(paragraphs[1].text)\n",
    "# # print(match.group(1), \"|\", match.group(2))\n",
    "# print(match)\n",
    "\n",
    "# # for p in paragraphs :\n",
    "# #     match = comp.search(p.text)\n",
    "# #     if match != None :\n",
    "# #         print(match.group(1), \"|\", match.group(2))\n",
    "\n",
    "for l in lies :\n",
    "    if l.find('strong') != None :\n",
    "        print(l.text)\n",
    "    \n"
   ]
  },
  {
   "cell_type": "markdown",
   "metadata": {},
   "source": [
    "# Reading binary files"
   ]
  },
  {
   "cell_type": "code",
   "execution_count": 32,
   "metadata": {},
   "outputs": [],
   "source": [
    "import urllib\n",
    "\n",
    "#urllib being used because we have to read a file like data\n",
    "\n",
    "url = 'http://www.py4inf.com/cover.jpg'\n",
    "#images need to have an extension. that needs to be mentioned\n",
    "#wb - write binary \n",
    "fimg = open('C:/Python/images/cover.jpg', 'wb')\n",
    "data = urllib.request.urlopen(url)\n",
    "buffersize = 10000\n",
    "info = data.read(buffersize)\n",
    "\n",
    "while info :\n",
    "    fimg.write(info)\n",
    "    info = data.read(buffersize)\n",
    "fimg.close()"
   ]
  },
  {
   "cell_type": "code",
   "execution_count": 69,
   "metadata": {},
   "outputs": [
    {
     "name": "stdout",
     "output_type": "stream",
     "text": [
      "29\n",
      "geting image 1\n",
      "upload\n",
      "geting image 2\n",
      "upload\n"
     ]
    },
    {
     "ename": "KeyboardInterrupt",
     "evalue": "",
     "output_type": "error",
     "traceback": [
      "\u001b[1;31m---------------------------------------------------------------------------\u001b[0m",
      "\u001b[1;31mKeyboardInterrupt\u001b[0m                         Traceback (most recent call last)",
      "\u001b[1;32m<ipython-input-69-c2ab159bfa5d>\u001b[0m in \u001b[0;36m<module>\u001b[1;34m\u001b[0m\n\u001b[0;32m     33\u001b[0m     \u001b[0mprint\u001b[0m\u001b[1;33m(\u001b[0m\u001b[0mname\u001b[0m\u001b[1;33m.\u001b[0m\u001b[0mgroup\u001b[0m\u001b[1;33m(\u001b[0m\u001b[1;36m1\u001b[0m\u001b[1;33m)\u001b[0m\u001b[1;33m)\u001b[0m\u001b[1;33m\u001b[0m\u001b[1;33m\u001b[0m\u001b[0m\n\u001b[0;32m     34\u001b[0m     \u001b[0mfimg\u001b[0m \u001b[1;33m=\u001b[0m \u001b[0mopen\u001b[0m\u001b[1;33m(\u001b[0m\u001b[1;34m'C:/Python/images/'\u001b[0m\u001b[1;33m+\u001b[0m\u001b[0mstr\u001b[0m\u001b[1;33m(\u001b[0m\u001b[0mcount\u001b[0m\u001b[1;33m)\u001b[0m\u001b[1;33m+\u001b[0m\u001b[1;34m'.jpg'\u001b[0m\u001b[1;33m,\u001b[0m \u001b[1;34m'wb'\u001b[0m\u001b[1;33m)\u001b[0m\u001b[1;33m\u001b[0m\u001b[1;33m\u001b[0m\u001b[0m\n\u001b[1;32m---> 35\u001b[1;33m     \u001b[0mdata\u001b[0m \u001b[1;33m=\u001b[0m \u001b[0murllib\u001b[0m\u001b[1;33m.\u001b[0m\u001b[0mrequest\u001b[0m\u001b[1;33m.\u001b[0m\u001b[0murlopen\u001b[0m\u001b[1;33m(\u001b[0m\u001b[0mimage\u001b[0m\u001b[1;33m)\u001b[0m\u001b[1;33m\u001b[0m\u001b[1;33m\u001b[0m\u001b[0m\n\u001b[0m\u001b[0;32m     36\u001b[0m     \u001b[0mbuffersize\u001b[0m \u001b[1;33m=\u001b[0m \u001b[1;36m10000\u001b[0m\u001b[1;33m\u001b[0m\u001b[1;33m\u001b[0m\u001b[0m\n\u001b[0;32m     37\u001b[0m     \u001b[0minfo\u001b[0m \u001b[1;33m=\u001b[0m \u001b[0mdata\u001b[0m\u001b[1;33m.\u001b[0m\u001b[0mread\u001b[0m\u001b[1;33m(\u001b[0m\u001b[0mbuffersize\u001b[0m\u001b[1;33m)\u001b[0m\u001b[1;33m\u001b[0m\u001b[1;33m\u001b[0m\u001b[0m\n",
      "\u001b[1;32m~\\Anaconda3\\lib\\urllib\\request.py\u001b[0m in \u001b[0;36murlopen\u001b[1;34m(url, data, timeout, cafile, capath, cadefault, context)\u001b[0m\n\u001b[0;32m    220\u001b[0m     \u001b[1;32melse\u001b[0m\u001b[1;33m:\u001b[0m\u001b[1;33m\u001b[0m\u001b[1;33m\u001b[0m\u001b[0m\n\u001b[0;32m    221\u001b[0m         \u001b[0mopener\u001b[0m \u001b[1;33m=\u001b[0m \u001b[0m_opener\u001b[0m\u001b[1;33m\u001b[0m\u001b[1;33m\u001b[0m\u001b[0m\n\u001b[1;32m--> 222\u001b[1;33m     \u001b[1;32mreturn\u001b[0m \u001b[0mopener\u001b[0m\u001b[1;33m.\u001b[0m\u001b[0mopen\u001b[0m\u001b[1;33m(\u001b[0m\u001b[0murl\u001b[0m\u001b[1;33m,\u001b[0m \u001b[0mdata\u001b[0m\u001b[1;33m,\u001b[0m \u001b[0mtimeout\u001b[0m\u001b[1;33m)\u001b[0m\u001b[1;33m\u001b[0m\u001b[1;33m\u001b[0m\u001b[0m\n\u001b[0m\u001b[0;32m    223\u001b[0m \u001b[1;33m\u001b[0m\u001b[0m\n\u001b[0;32m    224\u001b[0m \u001b[1;32mdef\u001b[0m \u001b[0minstall_opener\u001b[0m\u001b[1;33m(\u001b[0m\u001b[0mopener\u001b[0m\u001b[1;33m)\u001b[0m\u001b[1;33m:\u001b[0m\u001b[1;33m\u001b[0m\u001b[1;33m\u001b[0m\u001b[0m\n",
      "\u001b[1;32m~\\Anaconda3\\lib\\urllib\\request.py\u001b[0m in \u001b[0;36mopen\u001b[1;34m(self, fullurl, data, timeout)\u001b[0m\n\u001b[0;32m    523\u001b[0m             \u001b[0mreq\u001b[0m \u001b[1;33m=\u001b[0m \u001b[0mmeth\u001b[0m\u001b[1;33m(\u001b[0m\u001b[0mreq\u001b[0m\u001b[1;33m)\u001b[0m\u001b[1;33m\u001b[0m\u001b[1;33m\u001b[0m\u001b[0m\n\u001b[0;32m    524\u001b[0m \u001b[1;33m\u001b[0m\u001b[0m\n\u001b[1;32m--> 525\u001b[1;33m         \u001b[0mresponse\u001b[0m \u001b[1;33m=\u001b[0m \u001b[0mself\u001b[0m\u001b[1;33m.\u001b[0m\u001b[0m_open\u001b[0m\u001b[1;33m(\u001b[0m\u001b[0mreq\u001b[0m\u001b[1;33m,\u001b[0m \u001b[0mdata\u001b[0m\u001b[1;33m)\u001b[0m\u001b[1;33m\u001b[0m\u001b[1;33m\u001b[0m\u001b[0m\n\u001b[0m\u001b[0;32m    526\u001b[0m \u001b[1;33m\u001b[0m\u001b[0m\n\u001b[0;32m    527\u001b[0m         \u001b[1;31m# post-process response\u001b[0m\u001b[1;33m\u001b[0m\u001b[1;33m\u001b[0m\u001b[1;33m\u001b[0m\u001b[0m\n",
      "\u001b[1;32m~\\Anaconda3\\lib\\urllib\\request.py\u001b[0m in \u001b[0;36m_open\u001b[1;34m(self, req, data)\u001b[0m\n\u001b[0;32m    541\u001b[0m         \u001b[0mprotocol\u001b[0m \u001b[1;33m=\u001b[0m \u001b[0mreq\u001b[0m\u001b[1;33m.\u001b[0m\u001b[0mtype\u001b[0m\u001b[1;33m\u001b[0m\u001b[1;33m\u001b[0m\u001b[0m\n\u001b[0;32m    542\u001b[0m         result = self._call_chain(self.handle_open, protocol, protocol +\n\u001b[1;32m--> 543\u001b[1;33m                                   '_open', req)\n\u001b[0m\u001b[0;32m    544\u001b[0m         \u001b[1;32mif\u001b[0m \u001b[0mresult\u001b[0m\u001b[1;33m:\u001b[0m\u001b[1;33m\u001b[0m\u001b[1;33m\u001b[0m\u001b[0m\n\u001b[0;32m    545\u001b[0m             \u001b[1;32mreturn\u001b[0m \u001b[0mresult\u001b[0m\u001b[1;33m\u001b[0m\u001b[1;33m\u001b[0m\u001b[0m\n",
      "\u001b[1;32m~\\Anaconda3\\lib\\urllib\\request.py\u001b[0m in \u001b[0;36m_call_chain\u001b[1;34m(self, chain, kind, meth_name, *args)\u001b[0m\n\u001b[0;32m    501\u001b[0m         \u001b[1;32mfor\u001b[0m \u001b[0mhandler\u001b[0m \u001b[1;32min\u001b[0m \u001b[0mhandlers\u001b[0m\u001b[1;33m:\u001b[0m\u001b[1;33m\u001b[0m\u001b[1;33m\u001b[0m\u001b[0m\n\u001b[0;32m    502\u001b[0m             \u001b[0mfunc\u001b[0m \u001b[1;33m=\u001b[0m \u001b[0mgetattr\u001b[0m\u001b[1;33m(\u001b[0m\u001b[0mhandler\u001b[0m\u001b[1;33m,\u001b[0m \u001b[0mmeth_name\u001b[0m\u001b[1;33m)\u001b[0m\u001b[1;33m\u001b[0m\u001b[1;33m\u001b[0m\u001b[0m\n\u001b[1;32m--> 503\u001b[1;33m             \u001b[0mresult\u001b[0m \u001b[1;33m=\u001b[0m \u001b[0mfunc\u001b[0m\u001b[1;33m(\u001b[0m\u001b[1;33m*\u001b[0m\u001b[0margs\u001b[0m\u001b[1;33m)\u001b[0m\u001b[1;33m\u001b[0m\u001b[1;33m\u001b[0m\u001b[0m\n\u001b[0m\u001b[0;32m    504\u001b[0m             \u001b[1;32mif\u001b[0m \u001b[0mresult\u001b[0m \u001b[1;32mis\u001b[0m \u001b[1;32mnot\u001b[0m \u001b[1;32mNone\u001b[0m\u001b[1;33m:\u001b[0m\u001b[1;33m\u001b[0m\u001b[1;33m\u001b[0m\u001b[0m\n\u001b[0;32m    505\u001b[0m                 \u001b[1;32mreturn\u001b[0m \u001b[0mresult\u001b[0m\u001b[1;33m\u001b[0m\u001b[1;33m\u001b[0m\u001b[0m\n",
      "\u001b[1;32m~\\Anaconda3\\lib\\urllib\\request.py\u001b[0m in \u001b[0;36mhttps_open\u001b[1;34m(self, req)\u001b[0m\n\u001b[0;32m   1358\u001b[0m         \u001b[1;32mdef\u001b[0m \u001b[0mhttps_open\u001b[0m\u001b[1;33m(\u001b[0m\u001b[0mself\u001b[0m\u001b[1;33m,\u001b[0m \u001b[0mreq\u001b[0m\u001b[1;33m)\u001b[0m\u001b[1;33m:\u001b[0m\u001b[1;33m\u001b[0m\u001b[1;33m\u001b[0m\u001b[0m\n\u001b[0;32m   1359\u001b[0m             return self.do_open(http.client.HTTPSConnection, req,\n\u001b[1;32m-> 1360\u001b[1;33m                 context=self._context, check_hostname=self._check_hostname)\n\u001b[0m\u001b[0;32m   1361\u001b[0m \u001b[1;33m\u001b[0m\u001b[0m\n\u001b[0;32m   1362\u001b[0m         \u001b[0mhttps_request\u001b[0m \u001b[1;33m=\u001b[0m \u001b[0mAbstractHTTPHandler\u001b[0m\u001b[1;33m.\u001b[0m\u001b[0mdo_request_\u001b[0m\u001b[1;33m\u001b[0m\u001b[1;33m\u001b[0m\u001b[0m\n",
      "\u001b[1;32m~\\Anaconda3\\lib\\urllib\\request.py\u001b[0m in \u001b[0;36mdo_open\u001b[1;34m(self, http_class, req, **http_conn_args)\u001b[0m\n\u001b[0;32m   1315\u001b[0m             \u001b[1;32mtry\u001b[0m\u001b[1;33m:\u001b[0m\u001b[1;33m\u001b[0m\u001b[1;33m\u001b[0m\u001b[0m\n\u001b[0;32m   1316\u001b[0m                 h.request(req.get_method(), req.selector, req.data, headers,\n\u001b[1;32m-> 1317\u001b[1;33m                           encode_chunked=req.has_header('Transfer-encoding'))\n\u001b[0m\u001b[0;32m   1318\u001b[0m             \u001b[1;32mexcept\u001b[0m \u001b[0mOSError\u001b[0m \u001b[1;32mas\u001b[0m \u001b[0merr\u001b[0m\u001b[1;33m:\u001b[0m \u001b[1;31m# timeout error\u001b[0m\u001b[1;33m\u001b[0m\u001b[1;33m\u001b[0m\u001b[0m\n\u001b[0;32m   1319\u001b[0m                 \u001b[1;32mraise\u001b[0m \u001b[0mURLError\u001b[0m\u001b[1;33m(\u001b[0m\u001b[0merr\u001b[0m\u001b[1;33m)\u001b[0m\u001b[1;33m\u001b[0m\u001b[1;33m\u001b[0m\u001b[0m\n",
      "\u001b[1;32m~\\Anaconda3\\lib\\http\\client.py\u001b[0m in \u001b[0;36mrequest\u001b[1;34m(self, method, url, body, headers, encode_chunked)\u001b[0m\n\u001b[0;32m   1227\u001b[0m                 encode_chunked=False):\n\u001b[0;32m   1228\u001b[0m         \u001b[1;34m\"\"\"Send a complete request to the server.\"\"\"\u001b[0m\u001b[1;33m\u001b[0m\u001b[1;33m\u001b[0m\u001b[0m\n\u001b[1;32m-> 1229\u001b[1;33m         \u001b[0mself\u001b[0m\u001b[1;33m.\u001b[0m\u001b[0m_send_request\u001b[0m\u001b[1;33m(\u001b[0m\u001b[0mmethod\u001b[0m\u001b[1;33m,\u001b[0m \u001b[0murl\u001b[0m\u001b[1;33m,\u001b[0m \u001b[0mbody\u001b[0m\u001b[1;33m,\u001b[0m \u001b[0mheaders\u001b[0m\u001b[1;33m,\u001b[0m \u001b[0mencode_chunked\u001b[0m\u001b[1;33m)\u001b[0m\u001b[1;33m\u001b[0m\u001b[1;33m\u001b[0m\u001b[0m\n\u001b[0m\u001b[0;32m   1230\u001b[0m \u001b[1;33m\u001b[0m\u001b[0m\n\u001b[0;32m   1231\u001b[0m     \u001b[1;32mdef\u001b[0m \u001b[0m_send_request\u001b[0m\u001b[1;33m(\u001b[0m\u001b[0mself\u001b[0m\u001b[1;33m,\u001b[0m \u001b[0mmethod\u001b[0m\u001b[1;33m,\u001b[0m \u001b[0murl\u001b[0m\u001b[1;33m,\u001b[0m \u001b[0mbody\u001b[0m\u001b[1;33m,\u001b[0m \u001b[0mheaders\u001b[0m\u001b[1;33m,\u001b[0m \u001b[0mencode_chunked\u001b[0m\u001b[1;33m)\u001b[0m\u001b[1;33m:\u001b[0m\u001b[1;33m\u001b[0m\u001b[1;33m\u001b[0m\u001b[0m\n",
      "\u001b[1;32m~\\Anaconda3\\lib\\http\\client.py\u001b[0m in \u001b[0;36m_send_request\u001b[1;34m(self, method, url, body, headers, encode_chunked)\u001b[0m\n\u001b[0;32m   1273\u001b[0m             \u001b[1;31m# default charset of iso-8859-1.\u001b[0m\u001b[1;33m\u001b[0m\u001b[1;33m\u001b[0m\u001b[1;33m\u001b[0m\u001b[0m\n\u001b[0;32m   1274\u001b[0m             \u001b[0mbody\u001b[0m \u001b[1;33m=\u001b[0m \u001b[0m_encode\u001b[0m\u001b[1;33m(\u001b[0m\u001b[0mbody\u001b[0m\u001b[1;33m,\u001b[0m \u001b[1;34m'body'\u001b[0m\u001b[1;33m)\u001b[0m\u001b[1;33m\u001b[0m\u001b[1;33m\u001b[0m\u001b[0m\n\u001b[1;32m-> 1275\u001b[1;33m         \u001b[0mself\u001b[0m\u001b[1;33m.\u001b[0m\u001b[0mendheaders\u001b[0m\u001b[1;33m(\u001b[0m\u001b[0mbody\u001b[0m\u001b[1;33m,\u001b[0m \u001b[0mencode_chunked\u001b[0m\u001b[1;33m=\u001b[0m\u001b[0mencode_chunked\u001b[0m\u001b[1;33m)\u001b[0m\u001b[1;33m\u001b[0m\u001b[1;33m\u001b[0m\u001b[0m\n\u001b[0m\u001b[0;32m   1276\u001b[0m \u001b[1;33m\u001b[0m\u001b[0m\n\u001b[0;32m   1277\u001b[0m     \u001b[1;32mdef\u001b[0m \u001b[0mgetresponse\u001b[0m\u001b[1;33m(\u001b[0m\u001b[0mself\u001b[0m\u001b[1;33m)\u001b[0m\u001b[1;33m:\u001b[0m\u001b[1;33m\u001b[0m\u001b[1;33m\u001b[0m\u001b[0m\n",
      "\u001b[1;32m~\\Anaconda3\\lib\\http\\client.py\u001b[0m in \u001b[0;36mendheaders\u001b[1;34m(self, message_body, encode_chunked)\u001b[0m\n\u001b[0;32m   1222\u001b[0m         \u001b[1;32melse\u001b[0m\u001b[1;33m:\u001b[0m\u001b[1;33m\u001b[0m\u001b[1;33m\u001b[0m\u001b[0m\n\u001b[0;32m   1223\u001b[0m             \u001b[1;32mraise\u001b[0m \u001b[0mCannotSendHeader\u001b[0m\u001b[1;33m(\u001b[0m\u001b[1;33m)\u001b[0m\u001b[1;33m\u001b[0m\u001b[1;33m\u001b[0m\u001b[0m\n\u001b[1;32m-> 1224\u001b[1;33m         \u001b[0mself\u001b[0m\u001b[1;33m.\u001b[0m\u001b[0m_send_output\u001b[0m\u001b[1;33m(\u001b[0m\u001b[0mmessage_body\u001b[0m\u001b[1;33m,\u001b[0m \u001b[0mencode_chunked\u001b[0m\u001b[1;33m=\u001b[0m\u001b[0mencode_chunked\u001b[0m\u001b[1;33m)\u001b[0m\u001b[1;33m\u001b[0m\u001b[1;33m\u001b[0m\u001b[0m\n\u001b[0m\u001b[0;32m   1225\u001b[0m \u001b[1;33m\u001b[0m\u001b[0m\n\u001b[0;32m   1226\u001b[0m     def request(self, method, url, body=None, headers={}, *,\n",
      "\u001b[1;32m~\\Anaconda3\\lib\\http\\client.py\u001b[0m in \u001b[0;36m_send_output\u001b[1;34m(self, message_body, encode_chunked)\u001b[0m\n\u001b[0;32m   1014\u001b[0m         \u001b[0mmsg\u001b[0m \u001b[1;33m=\u001b[0m \u001b[1;34mb\"\\r\\n\"\u001b[0m\u001b[1;33m.\u001b[0m\u001b[0mjoin\u001b[0m\u001b[1;33m(\u001b[0m\u001b[0mself\u001b[0m\u001b[1;33m.\u001b[0m\u001b[0m_buffer\u001b[0m\u001b[1;33m)\u001b[0m\u001b[1;33m\u001b[0m\u001b[1;33m\u001b[0m\u001b[0m\n\u001b[0;32m   1015\u001b[0m         \u001b[1;32mdel\u001b[0m \u001b[0mself\u001b[0m\u001b[1;33m.\u001b[0m\u001b[0m_buffer\u001b[0m\u001b[1;33m[\u001b[0m\u001b[1;33m:\u001b[0m\u001b[1;33m]\u001b[0m\u001b[1;33m\u001b[0m\u001b[1;33m\u001b[0m\u001b[0m\n\u001b[1;32m-> 1016\u001b[1;33m         \u001b[0mself\u001b[0m\u001b[1;33m.\u001b[0m\u001b[0msend\u001b[0m\u001b[1;33m(\u001b[0m\u001b[0mmsg\u001b[0m\u001b[1;33m)\u001b[0m\u001b[1;33m\u001b[0m\u001b[1;33m\u001b[0m\u001b[0m\n\u001b[0m\u001b[0;32m   1017\u001b[0m \u001b[1;33m\u001b[0m\u001b[0m\n\u001b[0;32m   1018\u001b[0m         \u001b[1;32mif\u001b[0m \u001b[0mmessage_body\u001b[0m \u001b[1;32mis\u001b[0m \u001b[1;32mnot\u001b[0m \u001b[1;32mNone\u001b[0m\u001b[1;33m:\u001b[0m\u001b[1;33m\u001b[0m\u001b[1;33m\u001b[0m\u001b[0m\n",
      "\u001b[1;32m~\\Anaconda3\\lib\\http\\client.py\u001b[0m in \u001b[0;36msend\u001b[1;34m(self, data)\u001b[0m\n\u001b[0;32m    954\u001b[0m         \u001b[1;32mif\u001b[0m \u001b[0mself\u001b[0m\u001b[1;33m.\u001b[0m\u001b[0msock\u001b[0m \u001b[1;32mis\u001b[0m \u001b[1;32mNone\u001b[0m\u001b[1;33m:\u001b[0m\u001b[1;33m\u001b[0m\u001b[1;33m\u001b[0m\u001b[0m\n\u001b[0;32m    955\u001b[0m             \u001b[1;32mif\u001b[0m \u001b[0mself\u001b[0m\u001b[1;33m.\u001b[0m\u001b[0mauto_open\u001b[0m\u001b[1;33m:\u001b[0m\u001b[1;33m\u001b[0m\u001b[1;33m\u001b[0m\u001b[0m\n\u001b[1;32m--> 956\u001b[1;33m                 \u001b[0mself\u001b[0m\u001b[1;33m.\u001b[0m\u001b[0mconnect\u001b[0m\u001b[1;33m(\u001b[0m\u001b[1;33m)\u001b[0m\u001b[1;33m\u001b[0m\u001b[1;33m\u001b[0m\u001b[0m\n\u001b[0m\u001b[0;32m    957\u001b[0m             \u001b[1;32melse\u001b[0m\u001b[1;33m:\u001b[0m\u001b[1;33m\u001b[0m\u001b[1;33m\u001b[0m\u001b[0m\n\u001b[0;32m    958\u001b[0m                 \u001b[1;32mraise\u001b[0m \u001b[0mNotConnected\u001b[0m\u001b[1;33m(\u001b[0m\u001b[1;33m)\u001b[0m\u001b[1;33m\u001b[0m\u001b[1;33m\u001b[0m\u001b[0m\n",
      "\u001b[1;32m~\\Anaconda3\\lib\\http\\client.py\u001b[0m in \u001b[0;36mconnect\u001b[1;34m(self)\u001b[0m\n\u001b[0;32m   1382\u001b[0m             \u001b[1;34m\"Connect to a host on a given (SSL) port.\"\u001b[0m\u001b[1;33m\u001b[0m\u001b[1;33m\u001b[0m\u001b[0m\n\u001b[0;32m   1383\u001b[0m \u001b[1;33m\u001b[0m\u001b[0m\n\u001b[1;32m-> 1384\u001b[1;33m             \u001b[0msuper\u001b[0m\u001b[1;33m(\u001b[0m\u001b[1;33m)\u001b[0m\u001b[1;33m.\u001b[0m\u001b[0mconnect\u001b[0m\u001b[1;33m(\u001b[0m\u001b[1;33m)\u001b[0m\u001b[1;33m\u001b[0m\u001b[1;33m\u001b[0m\u001b[0m\n\u001b[0m\u001b[0;32m   1385\u001b[0m \u001b[1;33m\u001b[0m\u001b[0m\n\u001b[0;32m   1386\u001b[0m             \u001b[1;32mif\u001b[0m \u001b[0mself\u001b[0m\u001b[1;33m.\u001b[0m\u001b[0m_tunnel_host\u001b[0m\u001b[1;33m:\u001b[0m\u001b[1;33m\u001b[0m\u001b[1;33m\u001b[0m\u001b[0m\n",
      "\u001b[1;32m~\\Anaconda3\\lib\\http\\client.py\u001b[0m in \u001b[0;36mconnect\u001b[1;34m(self)\u001b[0m\n\u001b[0;32m    926\u001b[0m         \u001b[1;34m\"\"\"Connect to the host and port specified in __init__.\"\"\"\u001b[0m\u001b[1;33m\u001b[0m\u001b[1;33m\u001b[0m\u001b[0m\n\u001b[0;32m    927\u001b[0m         self.sock = self._create_connection(\n\u001b[1;32m--> 928\u001b[1;33m             (self.host,self.port), self.timeout, self.source_address)\n\u001b[0m\u001b[0;32m    929\u001b[0m         \u001b[0mself\u001b[0m\u001b[1;33m.\u001b[0m\u001b[0msock\u001b[0m\u001b[1;33m.\u001b[0m\u001b[0msetsockopt\u001b[0m\u001b[1;33m(\u001b[0m\u001b[0msocket\u001b[0m\u001b[1;33m.\u001b[0m\u001b[0mIPPROTO_TCP\u001b[0m\u001b[1;33m,\u001b[0m \u001b[0msocket\u001b[0m\u001b[1;33m.\u001b[0m\u001b[0mTCP_NODELAY\u001b[0m\u001b[1;33m,\u001b[0m \u001b[1;36m1\u001b[0m\u001b[1;33m)\u001b[0m\u001b[1;33m\u001b[0m\u001b[1;33m\u001b[0m\u001b[0m\n\u001b[0;32m    930\u001b[0m \u001b[1;33m\u001b[0m\u001b[0m\n",
      "\u001b[1;32m~\\Anaconda3\\lib\\socket.py\u001b[0m in \u001b[0;36mcreate_connection\u001b[1;34m(address, timeout, source_address)\u001b[0m\n\u001b[0;32m    705\u001b[0m     \u001b[0mhost\u001b[0m\u001b[1;33m,\u001b[0m \u001b[0mport\u001b[0m \u001b[1;33m=\u001b[0m \u001b[0maddress\u001b[0m\u001b[1;33m\u001b[0m\u001b[1;33m\u001b[0m\u001b[0m\n\u001b[0;32m    706\u001b[0m     \u001b[0merr\u001b[0m \u001b[1;33m=\u001b[0m \u001b[1;32mNone\u001b[0m\u001b[1;33m\u001b[0m\u001b[1;33m\u001b[0m\u001b[0m\n\u001b[1;32m--> 707\u001b[1;33m     \u001b[1;32mfor\u001b[0m \u001b[0mres\u001b[0m \u001b[1;32min\u001b[0m \u001b[0mgetaddrinfo\u001b[0m\u001b[1;33m(\u001b[0m\u001b[0mhost\u001b[0m\u001b[1;33m,\u001b[0m \u001b[0mport\u001b[0m\u001b[1;33m,\u001b[0m \u001b[1;36m0\u001b[0m\u001b[1;33m,\u001b[0m \u001b[0mSOCK_STREAM\u001b[0m\u001b[1;33m)\u001b[0m\u001b[1;33m:\u001b[0m\u001b[1;33m\u001b[0m\u001b[1;33m\u001b[0m\u001b[0m\n\u001b[0m\u001b[0;32m    708\u001b[0m         \u001b[0maf\u001b[0m\u001b[1;33m,\u001b[0m \u001b[0msocktype\u001b[0m\u001b[1;33m,\u001b[0m \u001b[0mproto\u001b[0m\u001b[1;33m,\u001b[0m \u001b[0mcanonname\u001b[0m\u001b[1;33m,\u001b[0m \u001b[0msa\u001b[0m \u001b[1;33m=\u001b[0m \u001b[0mres\u001b[0m\u001b[1;33m\u001b[0m\u001b[1;33m\u001b[0m\u001b[0m\n\u001b[0;32m    709\u001b[0m         \u001b[0msock\u001b[0m \u001b[1;33m=\u001b[0m \u001b[1;32mNone\u001b[0m\u001b[1;33m\u001b[0m\u001b[1;33m\u001b[0m\u001b[0m\n",
      "\u001b[1;32m~\\Anaconda3\\lib\\socket.py\u001b[0m in \u001b[0;36mgetaddrinfo\u001b[1;34m(host, port, family, type, proto, flags)\u001b[0m\n\u001b[0;32m    746\u001b[0m     \u001b[1;31m# and socket type values to enum constants.\u001b[0m\u001b[1;33m\u001b[0m\u001b[1;33m\u001b[0m\u001b[1;33m\u001b[0m\u001b[0m\n\u001b[0;32m    747\u001b[0m     \u001b[0maddrlist\u001b[0m \u001b[1;33m=\u001b[0m \u001b[1;33m[\u001b[0m\u001b[1;33m]\u001b[0m\u001b[1;33m\u001b[0m\u001b[1;33m\u001b[0m\u001b[0m\n\u001b[1;32m--> 748\u001b[1;33m     \u001b[1;32mfor\u001b[0m \u001b[0mres\u001b[0m \u001b[1;32min\u001b[0m \u001b[0m_socket\u001b[0m\u001b[1;33m.\u001b[0m\u001b[0mgetaddrinfo\u001b[0m\u001b[1;33m(\u001b[0m\u001b[0mhost\u001b[0m\u001b[1;33m,\u001b[0m \u001b[0mport\u001b[0m\u001b[1;33m,\u001b[0m \u001b[0mfamily\u001b[0m\u001b[1;33m,\u001b[0m \u001b[0mtype\u001b[0m\u001b[1;33m,\u001b[0m \u001b[0mproto\u001b[0m\u001b[1;33m,\u001b[0m \u001b[0mflags\u001b[0m\u001b[1;33m)\u001b[0m\u001b[1;33m:\u001b[0m\u001b[1;33m\u001b[0m\u001b[1;33m\u001b[0m\u001b[0m\n\u001b[0m\u001b[0;32m    749\u001b[0m         \u001b[0maf\u001b[0m\u001b[1;33m,\u001b[0m \u001b[0msocktype\u001b[0m\u001b[1;33m,\u001b[0m \u001b[0mproto\u001b[0m\u001b[1;33m,\u001b[0m \u001b[0mcanonname\u001b[0m\u001b[1;33m,\u001b[0m \u001b[0msa\u001b[0m \u001b[1;33m=\u001b[0m \u001b[0mres\u001b[0m\u001b[1;33m\u001b[0m\u001b[1;33m\u001b[0m\u001b[0m\n\u001b[0;32m    750\u001b[0m         addrlist.append((_intenum_converter(af, AddressFamily),\n",
      "\u001b[1;31mKeyboardInterrupt\u001b[0m: "
     ]
    }
   ],
   "source": [
    "# Extract images and links from specified url\n",
    "\n",
    "import urllib\n",
    "import bs4\n",
    "import requests\n",
    "import re\n",
    "\n",
    "url = 'https://en.wikipedia.org/wiki/Mahatma_Gandhi'\n",
    "data = urllib.request.urlopen(url)\n",
    "\n",
    "data = requests.get(url)\n",
    "\n",
    "#html.parser will parse the html text\n",
    "soup = bs4.BeautifulSoup(data.text, 'html.parser')\n",
    "\n",
    "comp = re.compile('[/]([\\w_ ]+)[.jpg|.png]')\n",
    "images = []\n",
    "allImages = []\n",
    "links = soup('img')\n",
    "# print(links)\n",
    "# match = comp.search(links[1].text)\n",
    "# print(match)\n",
    "for l in links :\n",
    "    if(l.get('src')[0:4] != 'https' and (l.get('src').find('Gandhi')>=0) or l.get('src').find('gandhi') >= 0):\n",
    "        images.append('https:' + l.get('src'))\n",
    "              \n",
    "\n",
    "print(len(images))\n",
    "count = 1\n",
    "for image in images :\n",
    "    print('geting image %d' %count)\n",
    "    name = comp.search(image)\n",
    "    print(name.group(1))\n",
    "    fimg = open('C:/Python/images/'+str(count)+'.jpg', 'wb')\n",
    "    data = urllib.request.urlopen(image)\n",
    "    buffersize = 10000\n",
    "    info = data.read(buffersize)\n",
    "    \n",
    "    while info :\n",
    "        fimg.write(info)\n",
    "        info = data.read(buffersize)\n",
    "    fimg.close()\n",
    "    count += 1\n",
    "    \n"
   ]
  },
  {
   "cell_type": "code",
   "execution_count": 67,
   "metadata": {},
   "outputs": [
    {
     "name": "stdout",
     "output_type": "stream",
     "text": [
      "https://upload.wikimedia.org/wikipedia/commons/thumb/7/7a/Mahatma-Gandhi%2C_studio%2C_1931.jpg/220px-Mahatma-Gandhi%2C_studio%2C_1931.jpg\n"
     ]
    }
   ],
   "source": [
    "print(images[0])"
   ]
  },
  {
   "cell_type": "code",
   "execution_count": 84,
   "metadata": {},
   "outputs": [
    {
     "name": "stdout",
     "output_type": "stream",
     "text": [
      "/upload.wikimedia.org/wikipedia/commons/thumb/7/7a/Mahatma-Gandhi%2C_studio%2C_1931.jpg/220px-Mahatma-Gandhi%2C_studio%2C_1931.jp\n",
      "42\n"
     ]
    }
   ],
   "source": [
    "import re\n",
    "url ='https://upload.wikimedia.org/wikipedia/commons/thumb/7/7a/Mahatma-Gandhi%2C_studio%2C_1931.jpg/220px-Mahatma-Gandhi%2C_studio%2C_1931.jpg'\n",
    "comp = re.compile('[/]([\\w\\S]+)[.jpg]')\n",
    "match = comp.search(url)\n",
    "print(match.group(1))\n",
    "\n",
    "print(url[::-1].find('/'))\n"
   ]
  },
  {
   "cell_type": "code",
   "execution_count": 86,
   "metadata": {},
   "outputs": [],
   "source": [
    "import scipy.stats as ss"
   ]
  },
  {
   "cell_type": "code",
   "execution_count": 87,
   "metadata": {},
   "outputs": [
    {
     "data": {
      "text/plain": [
       "0.653619736707022"
      ]
     },
     "execution_count": 87,
     "metadata": {},
     "output_type": "execute_result"
    }
   ],
   "source": [
    "ss.f.ppf(0.025, 120, 60)"
   ]
  },
  {
   "cell_type": "code",
   "execution_count": 89,
   "metadata": {},
   "outputs": [
    {
     "data": {
      "text/plain": [
       "1.581034191340994"
      ]
     },
     "execution_count": 89,
     "metadata": {},
     "output_type": "execute_result"
    }
   ],
   "source": [
    "ss.f.ppf(0.975, 120, 60)"
   ]
  },
  {
   "cell_type": "code",
   "execution_count": 92,
   "metadata": {},
   "outputs": [
    {
     "data": {
      "text/plain": [
       "-2.063898561628021"
      ]
     },
     "execution_count": 92,
     "metadata": {},
     "output_type": "execute_result"
    }
   ],
   "source": [
    "ss.t.ppf(0.025,24, 0,1)"
   ]
  },
  {
   "cell_type": "code",
   "execution_count": null,
   "metadata": {},
   "outputs": [],
   "source": []
  }
 ],
 "metadata": {
  "kernelspec": {
   "display_name": "Python 3",
   "language": "python",
   "name": "python3"
  },
  "language_info": {
   "codemirror_mode": {
    "name": "ipython",
    "version": 3
   },
   "file_extension": ".py",
   "mimetype": "text/x-python",
   "name": "python",
   "nbconvert_exporter": "python",
   "pygments_lexer": "ipython3",
   "version": "3.7.1"
  }
 },
 "nbformat": 4,
 "nbformat_minor": 2
}
